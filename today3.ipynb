{
  "nbformat": 4,
  "nbformat_minor": 0,
  "metadata": {
    "colab": {
      "provenance": [],
      "authorship_tag": "ABX9TyM/qxlA5M8fBkajjrhPaAOX",
      "include_colab_link": true
    },
    "kernelspec": {
      "name": "python3",
      "display_name": "Python 3"
    },
    "language_info": {
      "name": "python"
    }
  },
  "cells": [
    {
      "cell_type": "markdown",
      "metadata": {
        "id": "view-in-github",
        "colab_type": "text"
      },
      "source": [
        "<a href=\"https://colab.research.google.com/github/MuhammadAwais9092/programming-assignment/blob/main/today3.ipynb\" target=\"_parent\"><img src=\"https://colab.research.google.com/assets/colab-badge.svg\" alt=\"Open In Colab\"/></a>"
      ]
    },
    {
      "cell_type": "code",
      "execution_count": 6,
      "metadata": {
        "colab": {
          "base_uri": "https://localhost:8080/"
        },
        "id": "8Gnxp7L548D4",
        "outputId": "425ea48c-8511-4807-f98e-f41fdd4ee798"
      },
      "outputs": [
        {
          "output_type": "stream",
          "name": "stdout",
          "text": [
            "The amount of sticks she can buy from 50 is 8\n",
            "the amount left is 2\n"
          ]
        }
      ],
      "source": [
        "a=50\n",
        "b=6\n",
        "print(\"The amount of sticks she can buy from 50 is\",(a//b))\n",
        "print(\"the amount left is\", (a%b))"
      ]
    },
    {
      "cell_type": "code",
      "source": [
        "x= ('true')\n",
        "y= ('false')\n",
        "print(\"x and y is\",x and y)"
      ],
      "metadata": {
        "colab": {
          "base_uri": "https://localhost:8080/"
        },
        "id": "kthPKzE69-4S",
        "outputId": "577525fc-a050-45a9-dfb0-a0d4f121cfdd"
      },
      "execution_count": 8,
      "outputs": [
        {
          "output_type": "stream",
          "name": "stdout",
          "text": [
            "x and y is false\n"
          ]
        }
      ]
    },
    {
      "cell_type": "code",
      "source": [
        "x= ('true')\n",
        "y= ('false')\n",
        "print(\"x or y is\",x or y)"
      ],
      "metadata": {
        "colab": {
          "base_uri": "https://localhost:8080/"
        },
        "id": "Wc4lRJ95-hkf",
        "outputId": "9eeb912c-cc39-46ad-b7a1-d46066285abb"
      },
      "execution_count": 9,
      "outputs": [
        {
          "output_type": "stream",
          "name": "stdout",
          "text": [
            "x or y is true\n"
          ]
        }
      ]
    },
    {
      "cell_type": "code",
      "source": [
        "x1='asif'\n",
        "y1='Asif'\n",
        "x2= 5\n",
        "y2= 5\n",
        "x3=[6,5,4]\n",
        "y3=[4,3,6]\n",
        "print(x1 is not y1)\n",
        "print(x2 is not y2)\n",
        "print(x3 is y3)"
      ],
      "metadata": {
        "colab": {
          "base_uri": "https://localhost:8080/"
        },
        "id": "xHfZkqji_QSw",
        "outputId": "9ca23b83-a984-44c6-adb5-b38272e0d023"
      },
      "execution_count": 11,
      "outputs": [
        {
          "output_type": "stream",
          "name": "stdout",
          "text": [
            "True\n",
            "False\n",
            "False\n"
          ]
        }
      ]
    },
    {
      "cell_type": "code",
      "source": [
        "print (\"enter age\")\n",
        "age=int(input())\n",
        "if age >= 18:\n",
        " print('your eloigable for vote')"
      ],
      "metadata": {
        "colab": {
          "base_uri": "https://localhost:8080/"
        },
        "id": "0BLw6NxbBLIG",
        "outputId": "85300047-16f2-42b6-aae5-2dc735f1d45d"
      },
      "execution_count": 30,
      "outputs": [
        {
          "name": "stdout",
          "output_type": "stream",
          "text": [
            "enter age\n",
            "17\n"
          ]
        }
      ]
    },
    {
      "cell_type": "code",
      "source": [
        "print (\"enter age\")\n",
        "age=int(input())\n",
        "if age >= 18:\n",
        " print('your eloigable for vote')\n",
        "else:\n",
        "  print(\"no\")"
      ],
      "metadata": {
        "id": "DImLwKvfD1BA"
      },
      "execution_count": null,
      "outputs": []
    },
    {
      "cell_type": "code",
      "source": [
        "x,y = 25,35\n",
        "min = x\n",
        "if x<y:\n",
        " min=x\n",
        "else:\n",
        "  min=y\n",
        "print(\"the min value is \"+str(min))"
      ],
      "metadata": {
        "colab": {
          "base_uri": "https://localhost:8080/"
        },
        "id": "LfIZMWEWEzCl",
        "outputId": "db853e48-8caf-4805-d546-4cbc267d1ac0"
      },
      "execution_count": 43,
      "outputs": [
        {
          "output_type": "stream",
          "name": "stdout",
          "text": [
            "the min value is 25\n"
          ]
        }
      ]
    },
    {
      "cell_type": "code",
      "source": [
        "#age program\n",
        "print(\"Enter Age\")\n",
        "age= int(input())\n",
        "if age <4:\n",
        "  print(\"you are free\")\n",
        "elif age <18:\n",
        "  print(\"give 25\")\n",
        "else: \n",
        "  print(\"give alot money \")"
      ],
      "metadata": {
        "colab": {
          "base_uri": "https://localhost:8080/"
        },
        "id": "maZvKaliFwHO",
        "outputId": "58a91f47-8a99-424d-a82b-07135e3d46bb"
      },
      "execution_count": 49,
      "outputs": [
        {
          "output_type": "stream",
          "name": "stdout",
          "text": [
            "Enter Age\n",
            "66\n",
            "give alot money \n"
          ]
        }
      ]
    },
    {
      "cell_type": "code",
      "source": [
        "a=10\n",
        "b=15\n",
        "list=[12,10,7,11]\n",
        "if (a not in list):\n",
        "  print(\"a is not in the loist\")\n",
        "else:\n",
        "    print('a is in the list')\n",
        "if (b in list):\n",
        "  print(\"b is in the list\")\n",
        "else:\n",
        "    print('b is not in the list')    "
      ],
      "metadata": {
        "colab": {
          "base_uri": "https://localhost:8080/"
        },
        "id": "MzTlDOYLNjlh",
        "outputId": "b97b206d-6283-4df2-9dee-83a040ae2744"
      },
      "execution_count": 54,
      "outputs": [
        {
          "output_type": "stream",
          "name": "stdout",
          "text": [
            "a is in the list\n",
            "b is not in the list\n"
          ]
        }
      ]
    },
    {
      "cell_type": "code",
      "source": [
        "#names\n",
        "name=['awais','good','bad']\n",
        "print(\"hello, \"+name[0].title()+\"!\")\n",
        "print(\"hello, \"+name[1].title()+\"!\")\n",
        "print(\"hello, \"+name[2].title()+\"!\")"
      ],
      "metadata": {
        "colab": {
          "base_uri": "https://localhost:8080/"
        },
        "id": "2sp6fD2AP10A",
        "outputId": "44798031-7338-42ef-c42d-01a189c5b482"
      },
      "execution_count": 56,
      "outputs": [
        {
          "output_type": "stream",
          "name": "stdout",
          "text": [
            "hello, Awais!\n",
            "hello, Good!\n",
            "hello, Bad!\n"
          ]
        }
      ]
    },
    {
      "cell_type": "code",
      "source": [
        "name=['bike','car','bus','train']\n",
        "print(\"I ride on a \"+name[3].title())\n",
        "print(\"I go to school on a \"+name[2].title())\n",
        "print(\"I own a \"+name[0].title())\n",
        "print(\"I own more than three \"+name[1].title()+\"'s\")"
      ],
      "metadata": {
        "colab": {
          "base_uri": "https://localhost:8080/"
        },
        "id": "ircwcG3yRXIR",
        "outputId": "84ca5cb8-6b2a-48da-a7f5-f4d7067d6b28"
      },
      "execution_count": 62,
      "outputs": [
        {
          "output_type": "stream",
          "name": "stdout",
          "text": [
            "I ride on a Train\n",
            "I go to school on a Bus\n",
            "I own a Bike\n",
            "I own more than three Car's\n"
          ]
        }
      ]
    },
    {
      "cell_type": "code",
      "source": [
        "guest=['chips','juice','buiscuit']\n",
        "guest[1]=\"tea\"\n",
        "print(guest)"
      ],
      "metadata": {
        "colab": {
          "base_uri": "https://localhost:8080/"
        },
        "id": "f0TJYyxFS95N",
        "outputId": "1b18f6af-f033-4352-f5ed-af4fa0fce31a"
      },
      "execution_count": 65,
      "outputs": [
        {
          "output_type": "stream",
          "name": "stdout",
          "text": [
            "['chips', 'tea', 'buiscuit']\n"
          ]
        }
      ]
    },
    {
      "cell_type": "code",
      "source": [
        "guest=['chips','juice','buiscuit']\n",
        "guest.insert(3,\"tea\")\n",
        "guest.insert(0,\"coffee\")\n",
        "print(guest)"
      ],
      "metadata": {
        "colab": {
          "base_uri": "https://localhost:8080/"
        },
        "id": "UgKDO5lyU-sb",
        "outputId": "3064ed90-1f1c-499c-edec-34d1898bd297"
      },
      "execution_count": 68,
      "outputs": [
        {
          "output_type": "stream",
          "name": "stdout",
          "text": [
            "['coffee', 'chips', 'juice', 'buiscuit', 'tea']\n"
          ]
        }
      ]
    }
  ]
}