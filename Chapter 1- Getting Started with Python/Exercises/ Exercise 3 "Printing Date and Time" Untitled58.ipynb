{
  "nbformat": 4,
  "nbformat_minor": 0,
  "metadata": {
    "colab": {
      "provenance": [],
      "authorship_tag": "ABX9TyMyVXZcXpYW/RbFxNwAl9MX",
      "include_colab_link": true
    },
    "kernelspec": {
      "name": "python3",
      "display_name": "Python 3"
    },
    "language_info": {
      "name": "python"
    }
  },
  "cells": [
    {
      "cell_type": "markdown",
      "metadata": {
        "id": "view-in-github",
        "colab_type": "text"
      },
      "source": [
        "<a href=\"https://colab.research.google.com/github/MuhammadAwais9092/programming-assignment/blob/main/Chapter%201-%20Getting%20Started%20with%20Python/Exercises/%20Exercise%203%20%22Printing%20Date%20and%20Time%22%20Untitled58.ipynb\" target=\"_parent\"><img src=\"https://colab.research.google.com/assets/colab-badge.svg\" alt=\"Open In Colab\"/></a>"
      ]
    },
    {
      "cell_type": "code",
      "execution_count": null,
      "metadata": {
        "colab": {
          "base_uri": "https://localhost:8080/"
        },
        "id": "4xuZSCGxRtYp",
        "outputId": "d11ba1e7-3b32-4d49-8d93-8934b226f412"
      },
      "outputs": [
        {
          "output_type": "stream",
          "name": "stdout",
          "text": [
            "Date and Time is : 2022-11-10 16:04:29.564240\n"
          ]
        }
      ],
      "source": [
        "# Chapter 1 Exercise 3 \"Printing Date and Time\"\n",
        "\n",
        "# Printing date and time \n",
        "from datetime import datetime\n",
        "now = datetime.now()\n",
        "# Printing\n",
        "print(\"Date and Time is :\", now)\n",
        "dt_string=now.strftime(\"%D/%M/%Y ,  %H:%M:%S\")"
      ]
    }
  ]
}