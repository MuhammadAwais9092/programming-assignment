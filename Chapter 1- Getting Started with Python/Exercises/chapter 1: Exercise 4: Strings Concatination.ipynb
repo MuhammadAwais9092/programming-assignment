{
  "nbformat": 4,
  "nbformat_minor": 0,
  "metadata": {
    "colab": {
      "provenance": [],
      "authorship_tag": "ABX9TyPVswo9NaE6Kv6kCcgYjF6G",
      "include_colab_link": true
    },
    "kernelspec": {
      "name": "python3",
      "display_name": "Python 3"
    },
    "language_info": {
      "name": "python"
    }
  },
  "cells": [
    {
      "cell_type": "markdown",
      "metadata": {
        "id": "view-in-github",
        "colab_type": "text"
      },
      "source": [
        "<a href=\"https://colab.research.google.com/github/MuhammadAwais9092/programming-assignment/blob/main/Chapter%201-%20Getting%20Started%20with%20Python/Exercises/chapter%201%3A%20Exercise%204%3A%20Strings%20Concatination.ipynb\" target=\"_parent\"><img src=\"https://colab.research.google.com/assets/colab-badge.svg\" alt=\"Open In Colab\"/></a>"
      ]
    },
    {
      "cell_type": "code",
      "source": [
        "# Writing three strings in different variables and printing the output as one string.     \n",
        "a=\"Hello Everyone, \"\n",
        "b=\"How are you all? , I hope you are doing well, \"\n",
        "c=\"My Name is Muhammad Awais.\"\n",
        "print(a+b+c)"
      ],
      "metadata": {
        "colab": {
          "base_uri": "https://localhost:8080/"
        },
        "id": "wIaUvSLYMx_c",
        "outputId": "99dcd7d5-1c77-458e-ef8b-7fea91958bc7"
      },
      "execution_count": 2,
      "outputs": [
        {
          "output_type": "stream",
          "name": "stdout",
          "text": [
            "Hello Everyone, How are you all? , I hope you are doing well, My Name is Muhammad Awais.\n"
          ]
        }
      ]
    }
  ]
}