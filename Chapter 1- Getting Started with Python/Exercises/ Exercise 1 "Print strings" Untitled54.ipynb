{
  "nbformat": 4,
  "nbformat_minor": 0,
  "metadata": {
    "colab": {
      "provenance": [],
      "authorship_tag": "ABX9TyOYu6QOqnturk1R11gP5EgW",
      "include_colab_link": true
    },
    "kernelspec": {
      "name": "python3",
      "display_name": "Python 3"
    },
    "language_info": {
      "name": "python"
    }
  },
  "cells": [
    {
      "cell_type": "markdown",
      "metadata": {
        "id": "view-in-github",
        "colab_type": "text"
      },
      "source": [
        "<a href=\"https://colab.research.google.com/github/MuhammadAwais9092/programming-assignment/blob/main/Chapter%201-%20Getting%20Started%20with%20Python/Exercises/%20Exercise%201%20%22Print%20strings%22%20Untitled54.ipynb\" target=\"_parent\"><img src=\"https://colab.research.google.com/assets/colab-badge.svg\" alt=\"Open In Colab\"/></a>"
      ]
    },
    {
      "cell_type": "code",
      "execution_count": 1,
      "metadata": {
        "colab": {
          "base_uri": "https://localhost:8080/"
        },
        "id": "HEM6cBEy9sYH",
        "outputId": "72a804db-8779-4ecf-c17a-6bd51d70840e"
      },
      "outputs": [
        {
          "output_type": "stream",
          "name": "stdout",
          "text": [
            " Twinkle, twinkle, little star, \n",
            "        How I wonder what you are! \n",
            " Up above the world so high, \n",
            "        Like a diamond in the sky. \n",
            " Twinkle, twinkle, little star, \n",
            "        How I wonder what you are!. \n"
          ]
        }
      ],
      "source": [
        "# Chapter 1 Exercise \"Print Strings\"\n",
        "# Printing the poem in a specific format\n",
        "print(\" Twinkle, twinkle, little star, \")\n",
        "print(\"        How I wonder what you are! \")\n",
        "print(\" Up above the world so high, \")\n",
        "print(\"        Like a diamond in the sky. \")\n",
        "print(\" Twinkle, twinkle, little star, \")\n",
        "print(\"        How I wonder what you are!. \")"
      ]
    }
  ]
}