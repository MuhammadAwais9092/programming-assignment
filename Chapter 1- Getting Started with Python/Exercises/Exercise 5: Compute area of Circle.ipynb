{
  "nbformat": 4,
  "nbformat_minor": 0,
  "metadata": {
    "colab": {
      "provenance": [],
      "authorship_tag": "ABX9TyMjjDdzBiomsLg2mi9n0a8Y",
      "include_colab_link": true
    },
    "kernelspec": {
      "name": "python3",
      "display_name": "Python 3"
    },
    "language_info": {
      "name": "python"
    }
  },
  "cells": [
    {
      "cell_type": "markdown",
      "metadata": {
        "id": "view-in-github",
        "colab_type": "text"
      },
      "source": [
        "<a href=\"https://colab.research.google.com/github/MuhammadAwais9092/programming-assignment/blob/main/Chapter%201-%20Getting%20Started%20with%20Python/Exercises/chapter%201%3AExercise%205%3A%20Compute%20area%20of%20Circle.ipynb\" target=\"_parent\"><img src=\"https://colab.research.google.com/assets/colab-badge.svg\" alt=\"Open In Colab\"/></a>"
      ]
    },
    {
      "cell_type": "code",
      "source": [
        "# Calculating Area of Circle while accepting Radius from the user\n",
        "from math import pi\n",
        "r= float(input(\"Input the Radius of Circle: \"))\n",
        "print(\"The Area of the Circle with Radius \"+str(r)+\" is: \"+str(pi*r**2))"
      ],
      "metadata": {
        "colab": {
          "base_uri": "https://localhost:8080/"
        },
        "id": "vMZshw6oPT3O",
        "outputId": "31e9cefc-99e7-4bc9-c301-dcdeded13133"
      },
      "execution_count": null,
      "outputs": [
        {
          "output_type": "stream",
          "name": "stdout",
          "text": [
            "Input the Radius of Circle: 30\n",
            "The Area of the Circle with Radius 30.0 is: 2827.4333882308138\n"
          ]
        }
      ]
    }
  ]
}
