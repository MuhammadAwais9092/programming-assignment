{
  "nbformat": 4,
  "nbformat_minor": 0,
  "metadata": {
    "colab": {
      "provenance": [],
      "authorship_tag": "ABX9TyPBd86QiXMdHPM8Y3n+1hdj",
      "include_colab_link": true
    },
    "kernelspec": {
      "name": "python3",
      "display_name": "Python 3"
    },
    "language_info": {
      "name": "python"
    }
  },
  "cells": [
    {
      "cell_type": "markdown",
      "metadata": {
        "id": "view-in-github",
        "colab_type": "text"
      },
      "source": [
        "<a href=\"https://colab.research.google.com/github/MuhammadAwais9092/programming-assignment/blob/main/Chapter%201-%20Getting%20Started%20with%20Python/Exercises/%20Exercise%204%20%22Strings%20Concatination%22%20Untitled59.ipynb\" target=\"_parent\"><img src=\"https://colab.research.google.com/assets/colab-badge.svg\" alt=\"Open In Colab\"/></a>"
      ]
    },
    {
      "cell_type": "code",
      "execution_count": 4,
      "metadata": {
        "colab": {
          "base_uri": "https://localhost:8080/"
        },
        "id": "2hN9CYEgS0dj",
        "outputId": "e9fa4ba9-a179-4dae-c791-a167ec04fc1f"
      },
      "outputs": [
        {
          "output_type": "stream",
          "name": "stdout",
          "text": [
            "Hello Everyone. \n",
            "How are you all? , I hope you are doing well. \n",
            "My Name is Muhammad Awais.\n"
          ]
        }
      ],
      "source": [
        "# Chapter 1 Exercise 4 \"Strings Concatination\"\n",
        "\n",
        "# Writing three strings in different variables     \n",
        "a=\"Hello Everyone. \"\n",
        "b=\"\\nHow are you all? , I hope you are doing well. \"\n",
        "c=\"\\nMy Name is Muhammad Awais.\"\n",
        "# Printing the three variables\n",
        "print(a+b+c)"
      ]
    }
  ]
}