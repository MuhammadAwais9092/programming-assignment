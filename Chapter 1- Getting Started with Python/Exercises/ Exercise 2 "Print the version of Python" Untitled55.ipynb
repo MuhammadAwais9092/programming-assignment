{
  "nbformat": 4,
  "nbformat_minor": 0,
  "metadata": {
    "colab": {
      "provenance": [],
      "authorship_tag": "ABX9TyN4UyLWatf05rG0sVN5cyLt",
      "include_colab_link": true
    },
    "kernelspec": {
      "name": "python3",
      "display_name": "Python 3"
    },
    "language_info": {
      "name": "python"
    }
  },
  "cells": [
    {
      "cell_type": "markdown",
      "metadata": {
        "id": "view-in-github",
        "colab_type": "text"
      },
      "source": [
        "<a href=\"https://colab.research.google.com/github/MuhammadAwais9092/programming-assignment/blob/main/Chapter%201-%20Getting%20Started%20with%20Python/Exercises/%20Exercise%202%20%22Print%20the%20version%20of%20Python%22%20Untitled55.ipynb\" target=\"_parent\"><img src=\"https://colab.research.google.com/assets/colab-badge.svg\" alt=\"Open In Colab\"/></a>"
      ]
    },
    {
      "cell_type": "code",
      "execution_count": 3,
      "metadata": {
        "colab": {
          "base_uri": "https://localhost:8080/"
        },
        "id": "W-XdqDra-qJx",
        "outputId": "2dcf613a-7823-42a3-8909-5fdca74c681a"
      },
      "outputs": [
        {
          "output_type": "stream",
          "name": "stdout",
          "text": [
            "python version:\n",
            "3.7.15 (default, Oct 12 2022, 19:14:55) \n",
            "[GCC 7.5.0]\n"
          ]
        }
      ],
      "source": [
        "# Chapter 1 Exercise 2 \"Print the version of Python\"\n",
        "\n",
        "# My Python version\n",
        "import sys\n",
        "print (\"python version:\")\n",
        "# Printing the version\n",
        "print (sys.version)"
      ]
    },
    {
      "cell_type": "code",
      "source": [
        "# My Python version info\n",
        "print(\"version info:\")\n",
        "# Printing the version info\n",
        "print(sys.version_info)"
      ],
      "metadata": {
        "colab": {
          "base_uri": "https://localhost:8080/"
        },
        "id": "vvIMSouz_IT3",
        "outputId": "68f69317-7636-4120-f51e-5c82ad3bd13c"
      },
      "execution_count": 4,
      "outputs": [
        {
          "output_type": "stream",
          "name": "stdout",
          "text": [
            "version info:\n",
            "sys.version_info(major=3, minor=7, micro=15, releaselevel='final', serial=0)\n"
          ]
        }
      ]
    }
  ]
}