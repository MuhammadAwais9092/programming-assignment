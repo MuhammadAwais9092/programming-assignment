{
  "nbformat": 4,
  "nbformat_minor": 0,
  "metadata": {
    "colab": {
      "provenance": [],
      "authorship_tag": "ABX9TyOmbhiIWi7/WljkNHoasW85",
      "include_colab_link": true
    },
    "kernelspec": {
      "name": "python3",
      "display_name": "Python 3"
    },
    "language_info": {
      "name": "python"
    }
  },
  "cells": [
    {
      "cell_type": "markdown",
      "metadata": {
        "id": "view-in-github",
        "colab_type": "text"
      },
      "source": [
        "<a href=\"https://colab.research.google.com/github/MuhammadAwais9092/programming-assignment/blob/main/Chapter%201-%20Getting%20Started%20with%20Python/Exercises/%20Exercise%205%20%22Compute%20area%20of%20Circle%22%20%20Untitled60.ipynb\" target=\"_parent\"><img src=\"https://colab.research.google.com/assets/colab-badge.svg\" alt=\"Open In Colab\"/></a>"
      ]
    },
    {
      "cell_type": "code",
      "execution_count": 2,
      "metadata": {
        "colab": {
          "base_uri": "https://localhost:8080/"
        },
        "id": "A9Af5wc0Vm0i",
        "outputId": "252a3872-b094-4ac7-ecc1-09546c04b3b2"
      },
      "outputs": [
        {
          "output_type": "stream",
          "name": "stdout",
          "text": [
            "Input the Radius of Circle: 10\n",
            "The Area of the Circle with Radius 10.0 is: 314.1592653589793\n"
          ]
        }
      ],
      "source": [
        "# Chapter 1 Exercise 5 \"Compute area of Circle\" \n",
        "\n",
        "# Calculating Area of Circle while accepting Radius from the user\n",
        "from math import pi\n",
        "# Asking user for radius\n",
        "r= float(input(\"Input the Radius of Circle: \"))\n",
        "# Printing area of circle\n",
        "print(\"The Area of the Circle with Radius \"+str(r)+\" is: \"+str(pi*r**2))"
      ]
    }
  ]
}