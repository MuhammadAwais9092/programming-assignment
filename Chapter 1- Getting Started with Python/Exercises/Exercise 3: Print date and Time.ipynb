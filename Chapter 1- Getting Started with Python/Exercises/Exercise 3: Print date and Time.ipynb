{
  "nbformat": 4,
  "nbformat_minor": 0,
  "metadata": {
    "colab": {
      "provenance": [],
      "authorship_tag": "ABX9TyMYY/Avlr2/07oEVvHvLtFf",
      "include_colab_link": true
    },
    "kernelspec": {
      "name": "python3",
      "display_name": "Python 3"
    },
    "language_info": {
      "name": "python"
    }
  },
  "cells": [
    {
      "cell_type": "markdown",
      "metadata": {
        "id": "view-in-github",
        "colab_type": "text"
      },
      "source": [
        "<a href=\"https://colab.research.google.com/github/MuhammadAwais9092/programming-assignment/blob/main/Chapter%201-%20Getting%20Started%20with%20Python/Exercises/Exercise%203%3A%20Print%20date%20and%20Time.ipynb\" target=\"_parent\"><img src=\"https://colab.research.google.com/assets/colab-badge.svg\" alt=\"Open In Colab\"/></a>"
      ]
    },
    {
      "cell_type": "code",
      "source": [
        "# Printing Date and Time\n",
        "from datetime import datetime\n",
        "now = datetime.now()\n",
        "print(\"Date and Time is :\", now)\n",
        "dt_string=now.strftime(\"%D/%M/%Y  %H:%M:%S\")"
      ],
      "metadata": {
        "colab": {
          "base_uri": "https://localhost:8080/"
        },
        "id": "Nv9XePtBLtyI",
        "outputId": "9bbcea93-b47f-4791-a24e-23c78f0344e2"
      },
      "execution_count": 2,
      "outputs": [
        {
          "output_type": "stream",
          "name": "stdout",
          "text": [
            "Date and Time is : 2022-10-17 02:48:33.823926\n"
          ]
        }
      ]
    }
  ]
}