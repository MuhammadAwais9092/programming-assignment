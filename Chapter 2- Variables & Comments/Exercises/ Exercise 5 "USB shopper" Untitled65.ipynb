{
  "nbformat": 4,
  "nbformat_minor": 0,
  "metadata": {
    "colab": {
      "provenance": [],
      "authorship_tag": "ABX9TyMG4eNYfxH+n5ih/OOFABt9",
      "include_colab_link": true
    },
    "kernelspec": {
      "name": "python3",
      "display_name": "Python 3"
    },
    "language_info": {
      "name": "python"
    }
  },
  "cells": [
    {
      "cell_type": "markdown",
      "metadata": {
        "id": "view-in-github",
        "colab_type": "text"
      },
      "source": [
        "<a href=\"https://colab.research.google.com/github/MuhammadAwais9092/programming-assignment/blob/main/Chapter%202-%20Variables%20%26%20Comments/Exercises/%20Exercise%205%20%22USB%20shopper%22%20Untitled65.ipynb\" target=\"_parent\"><img src=\"https://colab.research.google.com/assets/colab-badge.svg\" alt=\"Open In Colab\"/></a>"
      ]
    },
    {
      "cell_type": "code",
      "execution_count": 1,
      "metadata": {
        "colab": {
          "base_uri": "https://localhost:8080/"
        },
        "id": "4IDp6INsaPWb",
        "outputId": "d3bd5f0b-f39a-4f7d-92f4-174b7a6326f8"
      },
      "outputs": [
        {
          "output_type": "stream",
          "name": "stdout",
          "text": [
            "The amount of USB sticks she can buy from 50 Pound is = 8 USB stick\n",
            "The amount left is = 2 Pound\n"
          ]
        }
      ],
      "source": [
        "# Chapter 2 Exercise 5 \"USB shopper\"\n",
        "\n",
        "# Creating variables for the amount  she has and the cost of usb stick\n",
        "a=50 # Amount she has\n",
        "b=6  # Cost of one USB stick\n",
        "# Calculating how much USB sticks she can buy and how much of amount will remain\n",
        "print(\"The amount of USB sticks she can buy from 50 Pound is =\",(a//b),\"USB stick\")\n",
        "# Printing the amount left\n",
        "print(\"The amount left is =\", (a%b),\"Pound\")"
      ]
    }
  ]
}