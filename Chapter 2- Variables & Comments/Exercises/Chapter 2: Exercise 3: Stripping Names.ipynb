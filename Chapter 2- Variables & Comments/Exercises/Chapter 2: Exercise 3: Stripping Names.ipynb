{
  "nbformat": 4,
  "nbformat_minor": 0,
  "metadata": {
    "colab": {
      "provenance": [],
      "authorship_tag": "ABX9TyNm4B/XXzscEiSIFJzEC3eB",
      "include_colab_link": true
    },
    "kernelspec": {
      "name": "python3",
      "display_name": "Python 3"
    },
    "language_info": {
      "name": "python"
    }
  },
  "cells": [
    {
      "cell_type": "markdown",
      "metadata": {
        "id": "view-in-github",
        "colab_type": "text"
      },
      "source": [
        "<a href=\"https://colab.research.google.com/github/MuhammadAwais9092/programming-assignment/blob/main/Chapter%202-%20Variables%20%26%20Comments/Exercises/Chapter%202%3A%20Exercise%203%3A%20Stripping%20Names.ipynb\" target=\"_parent\"><img src=\"https://colab.research.google.com/assets/colab-badge.svg\" alt=\"Open In Colab\"/></a>"
      ]
    },
    {
      "cell_type": "code",
      "execution_count": 1,
      "metadata": {
        "colab": {
          "base_uri": "https://localhost:8080/"
        },
        "id": "4uLUZfcyC955",
        "outputId": "ce608a47-8491-4805-f7a9-99d913ad28ca"
      },
      "outputs": [
        {
          "output_type": "stream",
          "name": "stdout",
          "text": [
            "When we use '\\ n' :\n",
            " Muhammad Awais\n",
            "When we use '\\ t':\t Muhammad Awais\n",
            "\n",
            " When using strip() Function:\n",
            "Muhammad Awais\n",
            "\n",
            " When we use lstrip() Function:\n",
            "Muhammad Awais          \n",
            "\n",
            " When using rstrip() Function:\n",
            "          Muhammad Awais\n"
          ]
        }
      ],
      "source": [
        "# Exercise 3 Stripping names\n",
        "\n",
        "# Assigning a name to a variable\n",
        "Name=\"          Muhammad Awais          \"\n",
        "\n",
        "# Using of \"\\n\" and \"\\t\" functions:\n",
        "Name1=(\"\\n Muhammad Awais\")\n",
        "Name2=(\"\\t Muhammad Awais\")\n",
        "print(\"When we use '\\ n' :\" +Name1+ \"\\n\"+\"When we use '\\ t':\"+Name2)\n",
        "\n",
        "# Use of stripping Functions  strip(), lstrip(), and rstrip().\n",
        "\n",
        "print(\"\\n When using strip() Function:\")\n",
        "print(Name.strip())\n",
        "\n",
        "print(\"\\n When we use lstrip() Function:\")\n",
        "print(Name.lstrip())\n",
        "\n",
        "print(\"\\n When using rstrip() Function:\")\n",
        "print(Name.rstrip())"
      ]
    }
  ]
}