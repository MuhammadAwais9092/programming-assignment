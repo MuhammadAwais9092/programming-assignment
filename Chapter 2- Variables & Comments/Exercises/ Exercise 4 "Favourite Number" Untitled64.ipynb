{
  "nbformat": 4,
  "nbformat_minor": 0,
  "metadata": {
    "colab": {
      "provenance": [],
      "authorship_tag": "ABX9TyOpnRx3ijn72d2iuVJgKsTj",
      "include_colab_link": true
    },
    "kernelspec": {
      "name": "python3",
      "display_name": "Python 3"
    },
    "language_info": {
      "name": "python"
    }
  },
  "cells": [
    {
      "cell_type": "markdown",
      "metadata": {
        "id": "view-in-github",
        "colab_type": "text"
      },
      "source": [
        "<a href=\"https://colab.research.google.com/github/MuhammadAwais9092/programming-assignment/blob/main/Chapter%202-%20Variables%20%26%20Comments/Exercises/%20Exercise%204%20%22Favourite%20Number%22%20Untitled64.ipynb\" target=\"_parent\"><img src=\"https://colab.research.google.com/assets/colab-badge.svg\" alt=\"Open In Colab\"/></a>"
      ]
    },
    {
      "cell_type": "code",
      "execution_count": 1,
      "metadata": {
        "colab": {
          "base_uri": "https://localhost:8080/"
        },
        "id": "yH0rVKtgZd0e",
        "outputId": "feab045e-d02a-4847-83a4-d38de61fd5ec"
      },
      "outputs": [
        {
          "output_type": "stream",
          "name": "stdout",
          "text": [
            "My Favourite number is 10\n"
          ]
        }
      ],
      "source": [
        "# Chapter 2 Exercise 4 \"Favourite Number\"\n",
        "\n",
        "# using variable \"_Favouritenumbe\" to represent my favourite number\n",
        "_Favouritenumber=\"10\"\n",
        "#printing my favourite number using variable\n",
        "print(\"My Favourite number is\",_Favouritenumber)"
      ]
    }
  ]
}