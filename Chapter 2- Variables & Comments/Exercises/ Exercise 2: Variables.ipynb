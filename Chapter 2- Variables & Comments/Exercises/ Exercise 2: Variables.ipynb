{
  "nbformat": 4,
  "nbformat_minor": 0,
  "metadata": {
    "colab": {
      "provenance": [],
      "authorship_tag": "ABX9TyPqvKscwI5s8hixfzWEUBZ/",
      "include_colab_link": true
    },
    "kernelspec": {
      "name": "python3",
      "display_name": "Python 3"
    },
    "language_info": {
      "name": "python"
    }
  },
  "cells": [
    {
      "cell_type": "markdown",
      "metadata": {
        "id": "view-in-github",
        "colab_type": "text"
      },
      "source": [
        "<a href=\"https://colab.research.google.com/github/MuhammadAwais9092/programming-assignment/blob/main/Chapter%202-%20Variables%20%26%20Comments/Exercises/chapter%202%3A%20Exercise%202%3A%20Variables.ipynb\" target=\"_parent\"><img src=\"https://colab.research.google.com/assets/colab-badge.svg\" alt=\"Open In Colab\"/></a>"
      ]
    },
    {
      "cell_type": "code",
      "execution_count": 3,
      "metadata": {
        "colab": {
          "base_uri": "https://localhost:8080/"
        },
        "id": "Tp6fg6n73mvO",
        "outputId": "92f85d66-ab7e-44c6-8d74-677eeefa533f"
      },
      "outputs": [
        {
          "output_type": "stream",
          "name": "stdout",
          "text": [
            "Allama Muhammad Iqbal once said, “The ultimate aim of the ego is not to see something, but to be something.'\n"
          ]
        }
      ],
      "source": [
        "#exercise 2 Printing a quote from my favourite personality.\n",
        "Quote=\"Allama Muhammad Iqbal once said, “The ultimate aim of the ego is not to see something, but to be something.\"\n",
        "print(Quote)"
      ]
    }
  ]
}
