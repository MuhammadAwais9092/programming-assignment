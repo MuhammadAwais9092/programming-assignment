{
  "nbformat": 4,
  "nbformat_minor": 0,
  "metadata": {
    "colab": {
      "provenance": [],
      "authorship_tag": "ABX9TyOJlkwA18JyQsaGAX0KulYe",
      "include_colab_link": true
    },
    "kernelspec": {
      "name": "python3",
      "display_name": "Python 3"
    },
    "language_info": {
      "name": "python"
    }
  },
  "cells": [
    {
      "cell_type": "markdown",
      "metadata": {
        "id": "view-in-github",
        "colab_type": "text"
      },
      "source": [
        "<a href=\"https://colab.research.google.com/github/MuhammadAwais9092/programming-assignment/blob/main/Chapter%202-%20Variables%20%26%20Comments/Exercises/exercise%205%20Untitled20.ipynb\" target=\"_parent\"><img src=\"https://colab.research.google.com/assets/colab-badge.svg\" alt=\"Open In Colab\"/></a>"
      ]
    },
    {
      "cell_type": "code",
      "execution_count": 3,
      "metadata": {
        "colab": {
          "base_uri": "https://localhost:8080/"
        },
        "id": "7jcyFOxa-GO-",
        "outputId": "3d7f9bb0-5e1b-4cc7-c427-1ccf9cc4f637"
      },
      "outputs": [
        {
          "output_type": "stream",
          "name": "stdout",
          "text": [
            "The amount of USB sticks she can buy from 50 Pound is = 8 Pound\n",
            "The amount left is = 2 Pound\n"
          ]
        }
      ],
      "source": [
        "#Exercise 5\n",
        "a=50 # Amount she has\n",
        "b=6  # Cost of one USB stick\n",
        "# Calculating how much USB sticks she can buy and how much of amount will remain\n",
        "print(\"The amount of USB sticks she can buy from 50 Pound is =\",(a//b),\"Pound\")\n",
        "print(\"The amount left is =\", (a%b),\"Pound\")"
      ]
    }
  ]
}
