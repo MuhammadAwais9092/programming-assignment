{
  "nbformat": 4,
  "nbformat_minor": 0,
  "metadata": {
    "colab": {
      "provenance": [],
      "authorship_tag": "ABX9TyM+A1auEZvSPq4rsSl1Oam2",
      "include_colab_link": true
    },
    "kernelspec": {
      "name": "python3",
      "display_name": "Python 3"
    },
    "language_info": {
      "name": "python"
    }
  },
  "cells": [
    {
      "cell_type": "markdown",
      "metadata": {
        "id": "view-in-github",
        "colab_type": "text"
      },
      "source": [
        "<a href=\"https://colab.research.google.com/github/MuhammadAwais9092/programming-assignment/blob/main/Chapter%202-%20Variables%20%26%20Comments/Exercises/%20Exercise%202%20%22Variables%202%22%20Untitled62.ipynb\" target=\"_parent\"><img src=\"https://colab.research.google.com/assets/colab-badge.svg\" alt=\"Open In Colab\"/></a>"
      ]
    },
    {
      "cell_type": "code",
      "execution_count": 1,
      "metadata": {
        "colab": {
          "base_uri": "https://localhost:8080/"
        },
        "id": "x9gxuK17YNQI",
        "outputId": "d21ea0a9-4025-4cb9-8052-b36dc29b3dff"
      },
      "outputs": [
        {
          "output_type": "stream",
          "name": "stdout",
          "text": [
            "Allama Muhammad Iqbal once said, “The ultimate aim of the ego is not to see something, but to be something.\n"
          ]
        }
      ],
      "source": [
        "# Chapter 2 Exercise 2 \"Variables 2\"\n",
        "\n",
        "# Creating a variable with a quote from my favourite personality.\n",
        "Quote=\"Allama Muhammad Iqbal once said, “The ultimate aim of the ego is not to see something, but to be something.\"\n",
        "# Printing the variable\n",
        "print(Quote)"
      ]
    }
  ]
}