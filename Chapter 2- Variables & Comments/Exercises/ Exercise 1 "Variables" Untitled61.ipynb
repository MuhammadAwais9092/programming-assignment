{
  "nbformat": 4,
  "nbformat_minor": 0,
  "metadata": {
    "colab": {
      "provenance": [],
      "authorship_tag": "ABX9TyPy7FbsKeMBCrLUxhBIUUM1",
      "include_colab_link": true
    },
    "kernelspec": {
      "name": "python3",
      "display_name": "Python 3"
    },
    "language_info": {
      "name": "python"
    }
  },
  "cells": [
    {
      "cell_type": "markdown",
      "metadata": {
        "id": "view-in-github",
        "colab_type": "text"
      },
      "source": [
        "<a href=\"https://colab.research.google.com/github/MuhammadAwais9092/programming-assignment/blob/main/Chapter%202-%20Variables%20%26%20Comments/Exercises/%20Exercise%201%20%22Variables%22%20Untitled61.ipynb\" target=\"_parent\"><img src=\"https://colab.research.google.com/assets/colab-badge.svg\" alt=\"Open In Colab\"/></a>"
      ]
    },
    {
      "cell_type": "code",
      "execution_count": 2,
      "metadata": {
        "colab": {
          "base_uri": "https://localhost:8080/"
        },
        "id": "DibjU-SCWzxk",
        "outputId": "06c157c3-965c-442a-84ec-1f7eaf3b57f4"
      },
      "outputs": [
        {
          "output_type": "stream",
          "name": "stdout",
          "text": [
            " Hello Eveyone! \n",
            " My name is 'Muhammad Awais' \n"
          ]
        }
      ],
      "source": [
        "# Chapter 2 Exercise 1 \"Variables\"\n",
        "# Assigning a message to the variable \n",
        "message=\" Hello Eveyone! \"\n",
        "# Printing the message\n",
        "print(message)\n",
        "# Assigning a different message to the same variable \n",
        "message=\" My name is 'Muhammad Awais' \"\n",
        "# Printing the different message\n",
        "print(message)"
      ]
    }
  ]
}