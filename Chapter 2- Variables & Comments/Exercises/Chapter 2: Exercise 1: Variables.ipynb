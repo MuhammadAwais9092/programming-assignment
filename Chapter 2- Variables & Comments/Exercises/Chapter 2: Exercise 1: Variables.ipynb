{
  "nbformat": 4,
  "nbformat_minor": 0,
  "metadata": {
    "colab": {
      "provenance": [],
      "authorship_tag": "ABX9TyOGAhKGEzdFILw2Awk/fLdA",
      "include_colab_link": true
    },
    "kernelspec": {
      "name": "python3",
      "display_name": "Python 3"
    },
    "language_info": {
      "name": "python"
    }
  },
  "cells": [
    {
      "cell_type": "markdown",
      "metadata": {
        "id": "view-in-github",
        "colab_type": "text"
      },
      "source": [
        "<a href=\"https://colab.research.google.com/github/MuhammadAwais9092/programming-assignment/blob/main/Chapter%202-%20Variables%20%26%20Comments/Exercises/Chapter%202%3A%20Exercise%201%3A%20Variables.ipynb\" target=\"_parent\"><img src=\"https://colab.research.google.com/assets/colab-badge.svg\" alt=\"Open In Colab\"/></a>"
      ]
    },
    {
      "cell_type": "code",
      "execution_count": 1,
      "metadata": {
        "colab": {
          "base_uri": "https://localhost:8080/"
        },
        "id": "l9a4IIXMAqKg",
        "outputId": "95956267-3ffa-4f3d-a138-424449521c4f"
      },
      "outputs": [
        {
          "output_type": "stream",
          "name": "stdout",
          "text": [
            " Hello Eveyone! \n",
            " My name is Muhammad Awais \n"
          ]
        }
      ],
      "source": [
        "# Exercise 1.\n",
        "# Assigning a message to the variable and print\n",
        "message=\" Hello Eveyone! \"\n",
        "print(message)\n",
        "# Assigning a different message to the same variable and printing it\n",
        "message=\" My name is Muhammad Awais \"\n",
        "print(message)"
      ]
    }
  ]
}