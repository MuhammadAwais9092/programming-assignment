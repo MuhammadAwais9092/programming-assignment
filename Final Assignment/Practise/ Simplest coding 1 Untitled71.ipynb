{
  "nbformat": 4,
  "nbformat_minor": 0,
  "metadata": {
    "colab": {
      "provenance": [],
      "authorship_tag": "ABX9TyN/kBz5PZwM5OTKfF8niPvb",
      "include_colab_link": true
    },
    "kernelspec": {
      "name": "python3",
      "display_name": "Python 3"
    },
    "language_info": {
      "name": "python"
    }
  },
  "cells": [
    {
      "cell_type": "markdown",
      "metadata": {
        "id": "view-in-github",
        "colab_type": "text"
      },
      "source": [
        "<a href=\"https://colab.research.google.com/github/MuhammadAwais9092/programming-assignment/blob/main/Final%20Assignment/Practise/%20Simplest%20coding%201%20Untitled71.ipynb\" target=\"_parent\"><img src=\"https://colab.research.google.com/assets/colab-badge.svg\" alt=\"Open In Colab\"/></a>"
      ]
    },
    {
      "cell_type": "code",
      "source": [
        "#Practising for my vending machine project\n",
        "\n",
        "print(\"Welcome to my wending machine\\n\")\n",
        "print(\"product price code:\\n\")\n",
        "print(\"choco         Aed: 2   111\")\n",
        "print(\"Orange juice  Aed: 4   222\")\n",
        "\n",
        "#creating a variable for producta\n",
        "choco_price=2\n",
        "Orange_juice_price=4\n",
        "print(\"Type a product code to continue\")\n",
        "\n",
        "#using input function\n",
        "code_entered=int(input())\n",
        "\n",
        "#checking if true\n",
        "if code_entered==111:\n",
        "  print(\"You have selected choco. Pay Aed: 2\")\n",
        "\n",
        "elif code_entered==222:\n",
        "  print(\"You have selected Orange juice. Pay Aed: 4\") \n",
        "\n",
        "\n",
        "else:\n",
        "  print(\"Please enter the Right code!\")    "
      ],
      "metadata": {
        "colab": {
          "base_uri": "https://localhost:8080/"
        },
        "id": "yiAqt5xTnm_G",
        "outputId": "adb3f7e9-d8e6-4257-d613-c0bdd762a3ea"
      },
      "execution_count": 11,
      "outputs": [
        {
          "output_type": "stream",
          "name": "stdout",
          "text": [
            "Welcome to my wending machine\n",
            "\n",
            "product price code:\n",
            "\n",
            "choco         Aed: 2   111\n",
            "Orange juice  Aed: 4   222\n",
            "Type a product code to continue\n",
            "222\n",
            "You have selected Orange juice. Pay Aed: 4\n"
          ]
        }
      ]
    }
  ]
}