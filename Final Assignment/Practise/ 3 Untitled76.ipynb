{
  "nbformat": 4,
  "nbformat_minor": 0,
  "metadata": {
    "colab": {
      "provenance": [],
      "authorship_tag": "ABX9TyOi/ENmfW2RDnUAjbBW2BeR",
      "include_colab_link": true
    },
    "kernelspec": {
      "name": "python3",
      "display_name": "Python 3"
    },
    "language_info": {
      "name": "python"
    }
  },
  "cells": [
    {
      "cell_type": "markdown",
      "metadata": {
        "id": "view-in-github",
        "colab_type": "text"
      },
      "source": [
        "<a href=\"https://colab.research.google.com/github/MuhammadAwais9092/programming-assignment/blob/main/Final%20Assignment/Practise/%203%20Untitled76.ipynb\" target=\"_parent\"><img src=\"https://colab.research.google.com/assets/colab-badge.svg\" alt=\"Open In Colab\"/></a>"
      ]
    },
    {
      "cell_type": "code",
      "execution_count": 23,
      "metadata": {
        "colab": {
          "base_uri": "https://localhost:8080/"
        },
        "id": "j4o3rJkLqqKX",
        "outputId": "46523df1-daf9-4c28-da53-bec48f254acd"
      },
      "outputs": [
        {
          "output_type": "stream",
          "name": "stdout",
          "text": [
            " -----WELCOME TO STARS VENDING MACHINE-----\n",
            "\t-HERE ARE STOCKED PRODUCTS:--\n",
            "Item Name:\tItem ID:\tCost: \n",
            "Juice\t\t1\t\tAed 2.25\n",
            "Chips\t\t2\t\tAed 3.50\n",
            "Choco\t\t3\t\tAed 2.75\n",
            "Cake\t\t4\t\tAed 8.50\n",
            "Soda\t\t5\t\tAed 5.50\n",
            "Coffee\t\t6\t\tAed 6.25\n",
            "How much money would you like to insert?\n",
            "-WARNING!- Only '3' Purchases at a Time: Aed 10\n",
            "You have Aed 10.0 left.\n",
            "  --What item would you like to buy?--\n",
            "And press '0' if you want to finish your transaction.4\n",
            "Thank you for buying item 4.\n",
            "You have Aed 1.5 left.\n",
            "  --What item would you like to buy?--\n",
            "And press '0' if you want to finish your transaction.0\n",
            "Number of items sold: 1\n",
            "Money Inserted: Aed 10.0\n",
            "Amount of money spent: Aed 8.5\n",
            "Change amount: Aed 1.5\n"
          ]
        }
      ],
      "source": [
        "# Project:  Vending Machine\n",
        "\n",
        "\n",
        "\n",
        "# Program execution\n",
        "\n",
        "def main():\n",
        "   Stocked_Products()\n",
        "   Items_Purchased()\n",
        "\n",
        "# Printing opeoning statement\n",
        "\n",
        "print(\" -----WELCOME TO STARS VENDING MACHINE-----\\n\\t-HERE ARE STOCKED PRODUCTS:--\" )\n",
        "\n",
        "# Printing Stocked products inside the vending machines\n",
        "# And including products code and prices\n",
        "\n",
        "def Stocked_Products():\n",
        "   print(\"Item Name:\\tItem ID:\\tCost: \")\n",
        "   print(\"Juice\\t\\t1\\t\\tAed 2.25\")\n",
        "   print(\"Chips\\t\\t2\\t\\tAed 3.50\")\n",
        "   print(\"Choco\\t\\t3\\t\\tAed 2.75\")\n",
        "   print(\"Cake\\t\\t4\\t\\tAed 8.50\")\n",
        "   print(\"Soda\\t\\t5\\t\\tAed 5.50\")\n",
        "   print(\"Coffee\\t\\t6\\t\\tAed 6.25\")\n",
        "\n",
        "# Variable of output message for input of money\n",
        "\n",
        "def Items_Purchased():\n",
        "    money = float(input(\"How much money would you like to insert?\\n-WARNING!- Only '3' Purchases at a Time: Aed \"))\n",
        "    if money<2.25:\n",
        "      print(\"--Please Start Your transaction from Beginning!!!!--\\nAnd Insert more or equal to Aed 2.25!\")\n",
        "     \n",
        "# Input variable for money     \n",
        "\n",
        "    moneyInserted = money\n",
        "    items_sold = 0\n",
        "    items = [2.25, 3.50, 2.75, 8.50, 5.50, 6.25]\n",
        "    moneySpent = 0\n",
        "    total_cost = 0\n",
        "    item = 1\n",
        "    \n",
        "    # Start of While loop\n",
        "    \n",
        "    while item != 0 and money > 0 and items_sold < 3:\n",
        "        print(\"You have Aed \" + str(money) + \" left.\")\n",
        "        item = int(input(\"  --What item would you like to buy?--\\nAnd press '0' if you want to finish your transaction.\"))\n",
        "        \n",
        "# Use of Conditional statements\n",
        "\n",
        "        if item == 0:\n",
        "            pass\n",
        "        elif item < 1 or item > 6:\n",
        "            print(\"--Please Write a valid item ID!--.\")\n",
        "        elif money >= items[item-1]:\n",
        "            print(\"Thank you for buying item \"+str(item)+\".\")\n",
        "            money -= items[item-1]\n",
        "            moneySpent += items[item-1]\n",
        "            total_cost += items[item-1]\n",
        "            items_sold += 1\n",
        "        elif item<=3 and money<5:\n",
        "          print(\"Please insert proper amount of money!\")\n",
        "        elif item>3 and money>5.50:\n",
        "          print(\"Please insert proper amount of money!\")\n",
        "        else:\n",
        "            pass\n",
        "    \n",
        "  # Printing Information regarding the purchase\n",
        "    \n",
        "    print(\"Number of items sold: \" + str(items_sold))\n",
        "    print(\"Money Inserted: Aed \" + str(moneyInserted))\n",
        "    print(\"Amount of money spent: Aed \" + str(total_cost))\n",
        "    print(\"Change amount: Aed \" + str(money))\n",
        "\n",
        "\n",
        "main()\n"
      ]
    }
  ]
}