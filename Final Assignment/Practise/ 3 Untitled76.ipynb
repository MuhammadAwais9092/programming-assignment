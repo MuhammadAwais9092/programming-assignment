{
  "nbformat": 4,
  "nbformat_minor": 0,
  "metadata": {
    "colab": {
      "provenance": [],
      "authorship_tag": "ABX9TyPtgqSg8yswgvd7K258CE+6",
      "include_colab_link": true
    },
    "kernelspec": {
      "name": "python3",
      "display_name": "Python 3"
    },
    "language_info": {
      "name": "python"
    }
  },
  "cells": [
    {
      "cell_type": "markdown",
      "metadata": {
        "id": "view-in-github",
        "colab_type": "text"
      },
      "source": [
        "<a href=\"https://colab.research.google.com/github/MuhammadAwais9092/programming-assignment/blob/main/Final%20Assignment/Practise/%203%20Untitled76.ipynb\" target=\"_parent\"><img src=\"https://colab.research.google.com/assets/colab-badge.svg\" alt=\"Open In Colab\"/></a>"
      ]
    },
    {
      "cell_type": "code",
      "execution_count": 4,
      "metadata": {
        "colab": {
          "base_uri": "https://localhost:8080/"
        },
        "id": "j4o3rJkLqqKX",
        "outputId": "c73b167b-5715-45f2-e84b-992e6ddbbbab"
      },
      "outputs": [
        {
          "output_type": "stream",
          "name": "stdout",
          "text": [
            "Item Name:\tItem ID:\tCost: \n",
            "Juice\t\t1\t\tAed 2.25\n",
            "Chips\t\t2\t\tAed 3.50\n",
            "Choco\t\t3\t\tAed 5.25\n",
            "Cake\t\t4\t\tAed 8.50\n",
            "Soda\t\t5\t\tAed 2.75\n",
            "Coffee\t\t6\t\tAed 6.25\n",
            "How much money would you like to insert?\n",
            "WARNING! Only Three Purchases at a Time: Aed 40\n",
            "You have Aed 40.0 left.\n",
            "What item would you like to buy?4\n",
            "Thank you for buying item 4.\n",
            "You have Aed 31.5 left.\n",
            "What item would you like to buy?6\n",
            "Thank you for buying item 6.\n",
            "You have Aed 25.25 left.\n",
            "What item would you like to buy?3\n",
            "Thank you for buying item 3.\n",
            "Number of items sold: 3\n",
            "Money Inserted: 40.0\n",
            "Amount of money spent: 20.0\n",
            "Change amount: 20.0\n"
          ]
        }
      ],
      "source": [
        "# Project:  Vending Machine\n",
        "\n",
        "# Creating a list of products inside the vending machines\n",
        "# And including products code and prices\n",
        "\n",
        "\n",
        "\n",
        "def main():\n",
        "   displayPrices()\n",
        "   purchaseItems()\n",
        "\n",
        "\n",
        "def displayPrices():\n",
        "   print(\"Item Name:\\tItem ID:\\tCost: \")\n",
        "   print(\"Juice\\t\\t1\\t\\tAed 2.25\")\n",
        "   print(\"Chips\\t\\t2\\t\\tAed 3.50\")\n",
        "   print(\"Choco\\t\\t3\\t\\tAed 5.25\")\n",
        "   print(\"Cake\\t\\t4\\t\\tAed 8.50\")\n",
        "   print(\"Soda\\t\\t5\\t\\tAed 2.75\")\n",
        "   print(\"Coffee\\t\\t6\\t\\tAed 6.25\")\n",
        "\n",
        "\n",
        "def purchaseItems():\n",
        "    money = float(input(\"How much money would you like to insert?\\nWARNING! Only Three Purchases at a Time: Aed \"))\n",
        "    moneyInserted = money\n",
        "    items_sold = 0\n",
        "    items = [2.25, 3.50, 5.25, 8.50, 2.75, 6.25]\n",
        "    moneySpent = 0\n",
        "    total_cost = 0\n",
        "    x = 1\n",
        "    while x != 0 and money > 0 and items_sold < 3:\n",
        "        print(\"You have Aed \" + str(money) + \" left.\")\n",
        "        x = int(input(\"What item would you like to buy?\"))\n",
        "        if x == 0:\n",
        "            pass\n",
        "        elif x < 1 or x > 6:\n",
        "            print(\"Please return a valid item number.\")\n",
        "        elif money >= items[x-1]:\n",
        "            print(\"Thank you for buying item \"+str(x)+\".\")\n",
        "            money -= items[x-1]\n",
        "            moneySpent += items[x-1]\n",
        "            total_cost += items[x-1]\n",
        "            items_sold += 1\n",
        "\n",
        "        else:\n",
        "            pass\n",
        "    print(\"Number of items sold: \" + str(items_sold))\n",
        "    print(\"Money Inserted: \" + str(moneyInserted))\n",
        "    print(\"Amount of money spent: \" + str(total_cost))\n",
        "    print(\"Change amount: \" + str(money))\n",
        "\n",
        "\n",
        "main()\n"
      ]
    }
  ]
}