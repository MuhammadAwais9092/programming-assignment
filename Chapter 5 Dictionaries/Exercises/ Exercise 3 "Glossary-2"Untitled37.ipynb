{
  "nbformat": 4,
  "nbformat_minor": 0,
  "metadata": {
    "colab": {
      "provenance": [],
      "authorship_tag": "ABX9TyPNcN+bMnVeNW2MfphEK0Fs",
      "include_colab_link": true
    },
    "kernelspec": {
      "name": "python3",
      "display_name": "Python 3"
    },
    "language_info": {
      "name": "python"
    }
  },
  "cells": [
    {
      "cell_type": "markdown",
      "metadata": {
        "id": "view-in-github",
        "colab_type": "text"
      },
      "source": [
        "<a href=\"https://colab.research.google.com/github/MuhammadAwais9092/programming-assignment/blob/main/Chapter%205%20Dictionaries/Exercises/%20Exercise%203%20%22Glossary-2%22Untitled37.ipynb\" target=\"_parent\"><img src=\"https://colab.research.google.com/assets/colab-badge.svg\" alt=\"Open In Colab\"/></a>"
      ]
    },
    {
      "cell_type": "code",
      "execution_count": null,
      "metadata": {
        "colab": {
          "base_uri": "https://localhost:8080/"
        },
        "id": "2NXglvi3Ht54",
        "outputId": "2351bb10-6e34-4aaf-9e74-9891fef511d7"
      },
      "outputs": [
        {
          "output_type": "stream",
          "name": "stdout",
          "text": [
            "\n",
            "Concatenate: It means obtaining a new string that contains both of the original strings.\n",
            "\n",
            "For Loops: They perform the instruction a certain number of times.\n",
            "\n",
            "List: Lists are used to store multiple items in a single variable\n",
            "\n",
            "Int(): The int() function converts the specified value into an integer number.\n",
            "\n",
            "If: It allows for conditional execution of a statement.\n",
            "\n",
            "String: It is a series of character.\n",
            "\n",
            "Loop: perform instructions, one at a time.\n",
            "\n",
            "Comment: A note in a program that a python interpreter ignores.\n",
            "\n",
            "Elif: It is used to perform more than one instruction at a time.\n",
            "\n",
            "Dictionary: A collection of key-value pairs.\n"
          ]
        }
      ],
      "source": [
        "# Chapter 5 Exercise 3 \"Glossary-2\"\n",
        "\n",
        "# Creating a glossary for 10 word meanings \n",
        "Glossary= {\n",
        "    'concatenate': 'It means obtaining a new string that contains both of the original strings.',\n",
        "     'for loops' : 'They perform the instruction a certain number of times.',\n",
        "       'list'    : 'Lists are used to store multiple items in a single variable',\n",
        "       'int()'   : 'The int() function converts the specified value into an integer number.',\n",
        "         'if'    : 'It allows for conditional execution of a statement.',\n",
        "       'string'  : 'It is a series of character.',\n",
        "        'loop'   : 'perform instructions, one at a time.',\n",
        "       'comment' : 'A note in a program that a python interpreter ignores.',\n",
        "         'elif'  : 'It is used to perform more than one instruction at a time.',\n",
        "     'dictionary': 'A collection of key-value pairs.',         \n",
        "     }\n",
        "#Printing each word and its meaning . \n",
        "for word, definition in Glossary.items():\n",
        "  print(f\"\\n{word.title()}: {definition}\")     "
      ]
    }
  ]
}