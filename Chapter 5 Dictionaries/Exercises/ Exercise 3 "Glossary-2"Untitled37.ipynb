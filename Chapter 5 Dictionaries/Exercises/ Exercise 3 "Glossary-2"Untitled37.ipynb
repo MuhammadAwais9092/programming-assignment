{
  "nbformat": 4,
  "nbformat_minor": 0,
  "metadata": {
    "colab": {
      "provenance": [],
      "authorship_tag": "ABX9TyN5kNKL76WETrPSbh1XuOzM",
      "include_colab_link": true
    },
    "kernelspec": {
      "name": "python3",
      "display_name": "Python 3"
    },
    "language_info": {
      "name": "python"
    }
  },
  "cells": [
    {
      "cell_type": "markdown",
      "metadata": {
        "id": "view-in-github",
        "colab_type": "text"
      },
      "source": [
        "<a href=\"https://colab.research.google.com/github/MuhammadAwais9092/programming-assignment/blob/main/Chapter%205%20Dictionaries/Exercises/%20Exercise%203%20%22Glossary-2%22Untitled37.ipynb\" target=\"_parent\"><img src=\"https://colab.research.google.com/assets/colab-badge.svg\" alt=\"Open In Colab\"/></a>"
      ]
    },
    {
      "cell_type": "code",
      "execution_count": 4,
      "metadata": {
        "colab": {
          "base_uri": "https://localhost:8080/"
        },
        "id": "2NXglvi3Ht54",
        "outputId": "acca85c0-25ab-4ee5-9515-01c7b731cd33"
      },
      "outputs": [
        {
          "output_type": "stream",
          "name": "stdout",
          "text": [
            "\n",
            " Concatenate:It means obtaining a new string that contains both of the original strings.\n",
            "\n",
            " \n",
            "For Loops:They perform the instruction a certain number of times.\n",
            "\n",
            " \n",
            "List:Lists are used to store multiple items in a single variable\n",
            "\n",
            " \n",
            "Int():The int() function converts the specified value into an integer number.\n",
            "\n",
            " \n",
            "If:It allows for conditional execution of a statement.\n",
            "\n",
            " \n",
            "String:It is a series of character.\n",
            "\n",
            " \n",
            "Loop:perform instructions, one at a time.\n",
            "\n",
            " \n",
            "Comment:A note in a program that a python interpreter ignores.\n",
            "\n",
            " \n",
            "Elif:It is used to perform more than one instruction at a time.\n",
            "\n",
            " \n",
            "Dictionary:A collection of key-value pairs.\n"
          ]
        }
      ],
      "source": [
        "# Chapter 5 Exercise 3 \"Glossary-2\"\n",
        "\n",
        "# Creating a glossary for 10 word from my programs with their meanings \n",
        "Glossary= {\n",
        "    'concatenate': 'It means obtaining a new string that contains both of the original strings.',\n",
        "     '\\nfor loops' : 'They perform the instruction a certain number of times.',\n",
        "       '\\nlist'    : 'Lists are used to store multiple items in a single variable',\n",
        "       '\\nint()'   : 'The int() function converts the specified value into an integer number.',\n",
        "         '\\nif'    : 'It allows for conditional execution of a statement.',\n",
        "       '\\nstring'  : 'It is a series of character.',\n",
        "        '\\nloop'   : 'perform instructions, one at a time.',\n",
        "       '\\ncomment' : 'A note in a program that a python interpreter ignores.',\n",
        "         '\\nelif'  : 'It is used to perform more than one instruction at a time.',\n",
        "     '\\ndictionary': 'A collection of key-value pairs.',         \n",
        "     }\n",
        "#Printing each word and its meaning . \n",
        "for word, definition in Glossary.items():\n",
        "  print(f\"\\n {word.title()}:{definition}\")     "
      ]
    }
  ]
}