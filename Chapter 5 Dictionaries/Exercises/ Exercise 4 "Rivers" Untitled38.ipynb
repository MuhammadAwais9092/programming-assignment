{
  "nbformat": 4,
  "nbformat_minor": 0,
  "metadata": {
    "colab": {
      "provenance": [],
      "authorship_tag": "ABX9TyPUwmeBfFKvLEEfLgQxLNYC",
      "include_colab_link": true
    },
    "kernelspec": {
      "name": "python3",
      "display_name": "Python 3"
    },
    "language_info": {
      "name": "python"
    }
  },
  "cells": [
    {
      "cell_type": "markdown",
      "metadata": {
        "id": "view-in-github",
        "colab_type": "text"
      },
      "source": [
        "<a href=\"https://colab.research.google.com/github/MuhammadAwais9092/programming-assignment/blob/main/Chapter%205%20Dictionaries/Exercises/%20Exercise%204%20%22Rivers%22%20Untitled38.ipynb\" target=\"_parent\"><img src=\"https://colab.research.google.com/assets/colab-badge.svg\" alt=\"Open In Colab\"/></a>"
      ]
    },
    {
      "cell_type": "code",
      "execution_count": 2,
      "metadata": {
        "colab": {
          "base_uri": "https://localhost:8080/"
        },
        "id": "Hfy1xAadL29z",
        "outputId": "d2a2f775-56ac-450b-9b3c-6541ee32dd52"
      },
      "outputs": [
        {
          "output_type": "stream",
          "name": "stdout",
          "text": [
            "The 'Amazon' flows through 'Brazil'.\n",
            "The 'Ganges' flows through 'India'.\n",
            "The 'Indus' flows through 'Pakistan'.\n",
            "\n",
            "The following rivers are included in this data set:\n",
            "-Amazon\n",
            "-Ganges\n",
            "-Indus\n",
            "\n",
            "The following countries are included in this data set:\n",
            "-Brazil\n",
            "-India\n",
            "-Pakistan\n"
          ]
        }
      ],
      "source": [
        "# Chapter 5 Exercise 4 \"Rivers\"\n",
        "\n",
        "# Creating a dictionary with river names and country they run through:\n",
        "rivers= {\n",
        "    'amazon':'brazil',\n",
        "    'ganges':'india',\n",
        "    'indus':'pakistan'\n",
        "    }\n",
        "\n",
        "# Personalized message for each river\n",
        "for river, country in rivers.items():\n",
        "  print(f\"The '{river.title()}' flows through '{country.title()}'.\")\n",
        "\n",
        "#Printing names of rivers\n",
        "print(\"\\nThe following rivers are included in this data set:\")\n",
        "for river in rivers.keys():\n",
        "  print(f\"-{river.title()}\")  \n",
        "\n",
        "#Printing names of countries\n",
        "print(\"\\nThe following countries are included in this data set:\")\n",
        "for country in rivers.values():\n",
        "  print(f\"-{country.title()}\")  "
      ]
    }
  ]
}