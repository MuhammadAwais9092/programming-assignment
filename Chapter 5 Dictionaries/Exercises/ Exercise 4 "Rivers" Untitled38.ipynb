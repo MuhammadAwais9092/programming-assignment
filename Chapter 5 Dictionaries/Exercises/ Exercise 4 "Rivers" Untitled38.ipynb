{
  "nbformat": 4,
  "nbformat_minor": 0,
  "metadata": {
    "colab": {
      "provenance": [],
      "authorship_tag": "ABX9TyPZEzQm74slag7keCc8wT36",
      "include_colab_link": true
    },
    "kernelspec": {
      "name": "python3",
      "display_name": "Python 3"
    },
    "language_info": {
      "name": "python"
    }
  },
  "cells": [
    {
      "cell_type": "markdown",
      "metadata": {
        "id": "view-in-github",
        "colab_type": "text"
      },
      "source": [
        "<a href=\"https://colab.research.google.com/github/MuhammadAwais9092/programming-assignment/blob/main/Chapter%205%20Dictionaries/Exercises/%20Exercise%204%20%22Rivers%22%20Untitled38.ipynb\" target=\"_parent\"><img src=\"https://colab.research.google.com/assets/colab-badge.svg\" alt=\"Open In Colab\"/></a>"
      ]
    },
    {
      "cell_type": "code",
      "execution_count": 4,
      "metadata": {
        "colab": {
          "base_uri": "https://localhost:8080/"
        },
        "id": "Hfy1xAadL29z",
        "outputId": "93aecc8b-4d74-414c-cc26-5e9ead065b4f"
      },
      "outputs": [
        {
          "output_type": "stream",
          "name": "stdout",
          "text": [
            "The Amazon flows through Brazil.\n",
            "The Ganges flows through India.\n",
            "The Indus flows through Pakistan.\n",
            "\n",
            "The following rivers are included in this data set:\n",
            "-Amazon\n",
            "-Ganges\n",
            "-Indus\n",
            "\n",
            "The following countries are included in this data set:\n",
            "-Brazil\n",
            "-India\n",
            "-Pakistan\n"
          ]
        }
      ],
      "source": [
        "# Chapter 5 Exercise 4 \"Rivers\"\n",
        "\n",
        "rivers= {\n",
        "    'amazon':'brazil',\n",
        "    'ganges':'india',\n",
        "    'indus':'pakistan'\n",
        "    }\n",
        "\n",
        "for river, country in rivers.items():\n",
        "  print(f\"The {river.title()} flows through {country.title()}.\")\n",
        "\n",
        "#Printing names of rivers\n",
        "print(\"\\nThe following rivers are included in this data set:\")\n",
        "for river in rivers.keys():\n",
        "  print(f\"-{river.title()}\")  \n",
        "\n",
        "#Printing names of countries\n",
        "print(\"\\nThe following countries are included in this data set:\")\n",
        "for country in rivers.values():\n",
        "  print(f\"-{country.title()}\")  "
      ]
    }
  ]
}