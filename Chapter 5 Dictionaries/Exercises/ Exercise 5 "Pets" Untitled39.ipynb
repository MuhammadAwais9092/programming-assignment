{
  "nbformat": 4,
  "nbformat_minor": 0,
  "metadata": {
    "colab": {
      "provenance": [],
      "authorship_tag": "ABX9TyPipohpjB/nir1pGXk1fOfk",
      "include_colab_link": true
    },
    "kernelspec": {
      "name": "python3",
      "display_name": "Python 3"
    },
    "language_info": {
      "name": "python"
    }
  },
  "cells": [
    {
      "cell_type": "markdown",
      "metadata": {
        "id": "view-in-github",
        "colab_type": "text"
      },
      "source": [
        "<a href=\"https://colab.research.google.com/github/MuhammadAwais9092/programming-assignment/blob/main/Chapter%205%20Dictionaries/Exercises/%20Exercise%205%20%22Pets%22%20Untitled39.ipynb\" target=\"_parent\"><img src=\"https://colab.research.google.com/assets/colab-badge.svg\" alt=\"Open In Colab\"/></a>"
      ]
    },
    {
      "cell_type": "code",
      "execution_count": 3,
      "metadata": {
        "colab": {
          "base_uri": "https://localhost:8080/"
        },
        "id": "62_vq8V9QDf3",
        "outputId": "b4bf237d-fc1b-4899-9b6e-880815a4b842"
      },
      "outputs": [
        {
          "output_type": "stream",
          "name": "stdout",
          "text": [
            "\n",
            "All the information known about Max:\n",
            "\tanimal:Dog\n",
            "\tname:max\n",
            "\towner:John\n",
            "\tweight:18\n",
            "\tfood:kibble\n",
            "\n",
            "All the information known about Rami:\n",
            "\tanimal:goat\n",
            "\tname:rami\n",
            "\towner:ramsey\n",
            "\tweight:26\n",
            "\tfood:grass\n",
            "\n",
            "All the information known about Philip:\n",
            "\tanimal:horse\n",
            "\tname:philip\n",
            "\towner:peter\n",
            "\tweight:259\n",
            "\tfood:forage\n"
          ]
        }
      ],
      "source": [
        "#Chapter 5 Exercise 5 \"Pets\"\n",
        "\n",
        "\n",
        "pets=[]\n",
        "\n",
        "\n",
        "pet={\n",
        "    'animal' :'Dog',\n",
        "     'name'  :'max',\n",
        "     'owner' :'John',\n",
        "     'weight':18,\n",
        "     'food'  :'kibble',\n",
        "}\n",
        "pets.append(pet)\n",
        "\n",
        "pet={\n",
        "    'animal' :'goat',\n",
        "     'name'  :'rami',\n",
        "     'owner' :'ramsey',\n",
        "     'weight':26,\n",
        "     'food'  :'grass',\n",
        "}\n",
        "pets.append(pet)\n",
        "\n",
        "pet={\n",
        "    'animal' :'horse',\n",
        "     'name'  :'philip',\n",
        "     'owner' :'peter',\n",
        "     'weight':259,\n",
        "     'food'  :'forage',\n",
        "}\n",
        "pets.append(pet)\n",
        "\n",
        "for pet in pets:\n",
        "    print(f\"\\nAll the information known about {pet['name'].title()}:\")\n",
        "    for key, value in pet.items():\n",
        "        print(f\"\\t{key}:{value}\")"
      ]
    }
  ]
}