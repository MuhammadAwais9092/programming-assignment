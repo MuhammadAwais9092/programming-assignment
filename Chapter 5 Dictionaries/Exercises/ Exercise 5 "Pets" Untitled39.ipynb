{
  "nbformat": 4,
  "nbformat_minor": 0,
  "metadata": {
    "colab": {
      "provenance": [],
      "authorship_tag": "ABX9TyPCXMq3/yDPzEHMI6aO6hTi",
      "include_colab_link": true
    },
    "kernelspec": {
      "name": "python3",
      "display_name": "Python 3"
    },
    "language_info": {
      "name": "python"
    }
  },
  "cells": [
    {
      "cell_type": "markdown",
      "metadata": {
        "id": "view-in-github",
        "colab_type": "text"
      },
      "source": [
        "<a href=\"https://colab.research.google.com/github/MuhammadAwais9092/programming-assignment/blob/main/Chapter%205%20Dictionaries/Exercises/%20Exercise%205%20%22Pets%22%20Untitled39.ipynb\" target=\"_parent\"><img src=\"https://colab.research.google.com/assets/colab-badge.svg\" alt=\"Open In Colab\"/></a>"
      ]
    },
    {
      "cell_type": "code",
      "execution_count": 2,
      "metadata": {
        "colab": {
          "base_uri": "https://localhost:8080/"
        },
        "id": "62_vq8V9QDf3",
        "outputId": "a4e379e6-cced-46f5-a693-b010c3da49bf"
      },
      "outputs": [
        {
          "output_type": "stream",
          "name": "stdout",
          "text": [
            "\n",
            "All the information known about Max:\n",
            "\tanimal:Dog\n",
            "\tname:Max\n",
            "\towner:John\n",
            "\tweight:18\n",
            "\tfood:kibble\n",
            "\n",
            "All the information known about Rami:\n",
            "\tanimal:Goat\n",
            "\tname:Rami\n",
            "\towner:Ramsey\n",
            "\tweight:26\n",
            "\tfood:Grass\n",
            "\n",
            "All the information known about Philip:\n",
            "\tanimal:Horse\n",
            "\tname:Philip\n",
            "\towner:Peter\n",
            "\tweight:259\n",
            "\tfood:Forage\n",
            "\n",
            "All the information known about Lily:\n",
            "\tanimal:Cat\n",
            "\tname:Lily\n",
            "\towner:Jasmine\n",
            "\tweight:6\n",
            "\tfood:Milk and Kibble\n"
          ]
        }
      ],
      "source": [
        "#Chapter 5 Exercise 5 \"Pets\"\n",
        "\n",
        "# Creating dictionaries with data of different type of pets\n",
        "pets=[]\n",
        "\n",
        "# First pet data:\n",
        "pet={\n",
        "    'animal' :'Dog',\n",
        "     'name'  :'Max',\n",
        "     'owner' :'John',\n",
        "     'weight':18,\n",
        "     'food'  :'kibble',\n",
        "}\n",
        "pets.append(pet)\n",
        "\n",
        "# Second pet data:\n",
        "pet={\n",
        "    'animal' :'Goat',\n",
        "     'name'  :'Rami',\n",
        "     'owner' :'Ramsey',\n",
        "     'weight':26,\n",
        "     'food'  :'Grass',\n",
        "}\n",
        "pets.append(pet)\n",
        "\n",
        "# Third pet data:\n",
        "pet={\n",
        "    'animal' :'Horse',\n",
        "     'name'  :'Philip',\n",
        "     'owner' :'Peter',\n",
        "     'weight':259,\n",
        "     'food'  :'Forage',\n",
        "}\n",
        "pets.append(pet)\n",
        "\n",
        "# Fourth pet data:\n",
        "pet={\n",
        "    'animal' :'Cat',\n",
        "     'name'  :'Lily',\n",
        "     'owner' :'Jasmine',\n",
        "     'weight':6,\n",
        "     'food'  :'Milk and Kibble',\n",
        "}\n",
        "pets.append(pet)\n",
        "\n",
        "# Printing the information about the pet stored in dictionaries\n",
        "for pet in pets:\n",
        "    print(f\"\\nAll the information known about {pet['name'].title()}:\")\n",
        "    for key, value in pet.items():\n",
        "        print(f\"\\t{key}:{value}\")"
      ]
    }
  ]
}