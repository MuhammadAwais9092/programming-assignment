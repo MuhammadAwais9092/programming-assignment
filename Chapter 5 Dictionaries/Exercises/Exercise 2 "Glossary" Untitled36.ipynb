{
  "nbformat": 4,
  "nbformat_minor": 0,
  "metadata": {
    "colab": {
      "provenance": [],
      "authorship_tag": "ABX9TyPPSBt40Y5L/B4Hq855+hKS",
      "include_colab_link": true
    },
    "kernelspec": {
      "name": "python3",
      "display_name": "Python 3"
    },
    "language_info": {
      "name": "python"
    }
  },
  "cells": [
    {
      "cell_type": "markdown",
      "metadata": {
        "id": "view-in-github",
        "colab_type": "text"
      },
      "source": [
        "<a href=\"https://colab.research.google.com/github/MuhammadAwais9092/programming-assignment/blob/main/Chapter%205%20Dictionaries/Exercises/Exercise%202%20%22Glossary%22%20Untitled36.ipynb\" target=\"_parent\"><img src=\"https://colab.research.google.com/assets/colab-badge.svg\" alt=\"Open In Colab\"/></a>"
      ]
    },
    {
      "cell_type": "code",
      "execution_count": 3,
      "metadata": {
        "colab": {
          "base_uri": "https://localhost:8080/"
        },
        "id": "GYuUZbde0Bw9",
        "outputId": "d3bf079b-d551-4fa3-f562-509cd7af8037"
      },
      "outputs": [
        {
          "output_type": "stream",
          "name": "stdout",
          "text": [
            "Concatenate:\n",
            "It means obtaining a new string that contains both of the original strings.\n",
            "\n",
            "for loops:\n",
            "They perform the instruction a certain number of times.\n",
            "\n",
            "list:\n",
            "Lists are used to store multiple items in a single variable\n",
            "\n",
            "int():\n",
            "The int() function converts the specified value into an integer number.\n",
            "\n",
            "if:\n",
            "It allows for conditional execution of a statement\n"
          ]
        }
      ],
      "source": [
        "# Chapter 5 Exercise 2 \"Glossary\"\n",
        "\n",
        "# Create a dictionary of five keys and meaning of these keys as values\n",
        "Glossary={\n",
        "    'concatenate': 'It means obtaining a new string that contains both of the original strings.',\n",
        "     'for loops' : 'They perform the instruction a certain number of times.',\n",
        "       'list'    : 'Lists are used to store multiple items in a single variable',\n",
        "       'int()'   : 'The int() function converts the specified value into an integer number.',\n",
        "         'if'    : 'It allows for conditional execution of a statement'}\n",
        "# Printing 'concatenate' with meaning\n",
        "print('Concatenate:')\n",
        "print(Glossary['concatenate'])\n",
        "# Printing 'for loops' with meaning\n",
        "print('\\nfor loops:')\n",
        "print(Glossary['for loops'])\n",
        "# Printing 'list' with meaning\n",
        "print('\\nlist:')\n",
        "print(Glossary['list'])\n",
        "# Printing 'int()' with meaning\n",
        "print('\\nint():')\n",
        "print(Glossary['int()'])\n",
        "# Printing 'if' with meaning\n",
        "print('\\nif:')\n",
        "print(Glossary['if'])"
      ]
    }
  ]
}