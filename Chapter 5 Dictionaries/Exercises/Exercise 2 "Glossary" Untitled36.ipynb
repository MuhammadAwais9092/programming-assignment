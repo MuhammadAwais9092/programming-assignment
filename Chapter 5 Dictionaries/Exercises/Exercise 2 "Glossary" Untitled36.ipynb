{
  "nbformat": 4,
  "nbformat_minor": 0,
  "metadata": {
    "colab": {
      "provenance": [],
      "authorship_tag": "ABX9TyNh6tcqJ5uusAhiZ4BpS8qs",
      "include_colab_link": true
    },
    "kernelspec": {
      "name": "python3",
      "display_name": "Python 3"
    },
    "language_info": {
      "name": "python"
    }
  },
  "cells": [
    {
      "cell_type": "markdown",
      "metadata": {
        "id": "view-in-github",
        "colab_type": "text"
      },
      "source": [
        "<a href=\"https://colab.research.google.com/github/MuhammadAwais9092/programming-assignment/blob/main/Chapter%205%20Dictionaries/Exercises/Exercise%202%20%22Glossary%22%20Untitled36.ipynb\" target=\"_parent\"><img src=\"https://colab.research.google.com/assets/colab-badge.svg\" alt=\"Open In Colab\"/></a>"
      ]
    },
    {
      "cell_type": "code",
      "execution_count": 7,
      "metadata": {
        "colab": {
          "base_uri": "https://localhost:8080/"
        },
        "id": "GYuUZbde0Bw9",
        "outputId": "c969ebe8-c662-4d34-a05e-9aefc10e6789"
      },
      "outputs": [
        {
          "output_type": "stream",
          "name": "stdout",
          "text": [
            "Concatenate:\n",
            "It means obtaining a new string that contains both of the original strings.\n",
            "for loops:\n",
            "They perform the instruction a certain number of times.\n",
            "list:\n",
            "Lists are used to store multiple items in a single variable\n",
            "int():\n",
            "The int() function converts the specified value into an integer number.\n",
            "if:\n",
            "It allows for conditional execution of a statement\n"
          ]
        }
      ],
      "source": [
        "# Chapter 5 Exercise 2 \"Glossary\"\n",
        "# Create a dictionary of five keys and meaning of these keys as values\n",
        "Glossary={\n",
        "    'concatenate': 'It means obtaining a new string that contains both of the original strings.',\n",
        "     'for loops' : 'They perform the instruction a certain number of times.',\n",
        "       'list'    : 'Lists are used to store multiple items in a single variable',\n",
        "       'int()'   : 'The int() function converts the specified value into an integer number.',\n",
        "         'if'    : 'It allows for conditional execution of a statement'}\n",
        "print('Concatenate:')\n",
        "print(Glossary['concatenate'])\n",
        "print('for loops:')\n",
        "print(Glossary['for loops'])\n",
        "print('list:')\n",
        "print(Glossary['list'])\n",
        "print('int():')\n",
        "print(Glossary['int()'])\n",
        "print('if:')\n",
        "print(Glossary['if'])"
      ]
    }
  ]
}