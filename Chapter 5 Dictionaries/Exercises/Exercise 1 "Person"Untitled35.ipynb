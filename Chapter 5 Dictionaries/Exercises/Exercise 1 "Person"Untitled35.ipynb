{
  "nbformat": 4,
  "nbformat_minor": 0,
  "metadata": {
    "colab": {
      "provenance": [],
      "authorship_tag": "ABX9TyPYN1lOtHewBG565xWleg33",
      "include_colab_link": true
    },
    "kernelspec": {
      "name": "python3",
      "display_name": "Python 3"
    },
    "language_info": {
      "name": "python"
    }
  },
  "cells": [
    {
      "cell_type": "markdown",
      "metadata": {
        "id": "view-in-github",
        "colab_type": "text"
      },
      "source": [
        "<a href=\"https://colab.research.google.com/github/MuhammadAwais9092/programming-assignment/blob/main/Chapter%205%20Dictionaries/Exercises/Exercise%201%20%22Person%22Untitled35.ipynb\" target=\"_parent\"><img src=\"https://colab.research.google.com/assets/colab-badge.svg\" alt=\"Open In Colab\"/></a>"
      ]
    },
    {
      "cell_type": "code",
      "execution_count": 3,
      "metadata": {
        "colab": {
          "base_uri": "https://localhost:8080/"
        },
        "id": "RCxVzKNLyloD",
        "outputId": "cac7c624-03ea-4fe1-c6cd-cfc6fd2988e6"
      },
      "outputs": [
        {
          "output_type": "stream",
          "name": "stdout",
          "text": [
            "Raheel\n",
            "Saeed\n",
            "18\n",
            "Dubai\n"
          ]
        }
      ],
      "source": [
        "# Chapter 5 Exercise 1 \"Person\"\n",
        "# Using Dictionary to store information about a friend\n",
        "friend={'First_name':'Raheel','Last_name':'Saeed','Age':'18','City':'Dubai'}\n",
        "# Printing ech information one-by-one\n",
        "print(friend['First_name'])\n",
        "print(friend['Last_name'])\n",
        "print(friend['Age'])\n",
        "print(friend['City'])"
      ]
    }
  ]
}