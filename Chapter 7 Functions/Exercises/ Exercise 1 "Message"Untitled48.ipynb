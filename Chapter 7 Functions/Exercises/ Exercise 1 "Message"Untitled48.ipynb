{
  "nbformat": 4,
  "nbformat_minor": 0,
  "metadata": {
    "colab": {
      "provenance": [],
      "authorship_tag": "ABX9TyO857AZ58i4GYdA+XKc7xdD",
      "include_colab_link": true
    },
    "kernelspec": {
      "name": "python3",
      "display_name": "Python 3"
    },
    "language_info": {
      "name": "python"
    }
  },
  "cells": [
    {
      "cell_type": "markdown",
      "metadata": {
        "id": "view-in-github",
        "colab_type": "text"
      },
      "source": [
        "<a href=\"https://colab.research.google.com/github/MuhammadAwais9092/programming-assignment/blob/main/Chapter%207%20Functions/Exercises/%20Exercise%201%20%22Message%22Untitled48.ipynb\" target=\"_parent\"><img src=\"https://colab.research.google.com/assets/colab-badge.svg\" alt=\"Open In Colab\"/></a>"
      ]
    },
    {
      "cell_type": "code",
      "execution_count": 7,
      "metadata": {
        "colab": {
          "base_uri": "https://localhost:8080/"
        },
        "id": "EzEhsadbi854",
        "outputId": "5962f14e-2806-4086-9190-1451dfd7452d"
      },
      "outputs": [
        {
          "output_type": "stream",
          "name": "stdout",
          "text": [
            "hello world!\n"
          ]
        }
      ],
      "source": [
        "# Chapter 7 Exercise 1 \"Message\"\n",
        "\n",
        "# Writing a function called\n",
        "def display_message():\n",
        "  print(\"hello world!\") # Displaying message\n",
        "display_message()"
      ]
    }
  ]
}