{
  "nbformat": 4,
  "nbformat_minor": 0,
  "metadata": {
    "colab": {
      "provenance": [],
      "authorship_tag": "ABX9TyNSa0Jsan5GtiTPA7Hs+SrC",
      "include_colab_link": true
    },
    "kernelspec": {
      "name": "python3",
      "display_name": "Python 3"
    },
    "language_info": {
      "name": "python"
    }
  },
  "cells": [
    {
      "cell_type": "markdown",
      "metadata": {
        "id": "view-in-github",
        "colab_type": "text"
      },
      "source": [
        "<a href=\"https://colab.research.google.com/github/MuhammadAwais9092/programming-assignment/blob/main/Chapter%207%20Functions/Exercises/%20Exercise%201%20%22Message%22Untitled48.ipynb\" target=\"_parent\"><img src=\"https://colab.research.google.com/assets/colab-badge.svg\" alt=\"Open In Colab\"/></a>"
      ]
    },
    {
      "cell_type": "code",
      "execution_count": 1,
      "metadata": {
        "colab": {
          "base_uri": "https://localhost:8080/"
        },
        "id": "EzEhsadbi854",
        "outputId": "550726be-4461-4a39-89f2-40ca11aa8f23"
      },
      "outputs": [
        {
          "output_type": "stream",
          "name": "stdout",
          "text": [
            "In this topic I'm learning about Functions.\n"
          ]
        }
      ],
      "source": [
        "# Chapter 7 Exercise 1 \"Message\"\n",
        "\n",
        "# Writing a function called\n",
        "def display_message():\n",
        "  print(\"In this topic I'm learning about Functions.\") # Displaying message\n",
        "display_message()"
      ]
    }
  ]
}