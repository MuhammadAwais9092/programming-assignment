{
  "nbformat": 4,
  "nbformat_minor": 0,
  "metadata": {
    "colab": {
      "provenance": [],
      "authorship_tag": "ABX9TyPPheYa4Q1JPutB0wEilYDY",
      "include_colab_link": true
    },
    "kernelspec": {
      "name": "python3",
      "display_name": "Python 3"
    },
    "language_info": {
      "name": "python"
    }
  },
  "cells": [
    {
      "cell_type": "markdown",
      "metadata": {
        "id": "view-in-github",
        "colab_type": "text"
      },
      "source": [
        "<a href=\"https://colab.research.google.com/github/MuhammadAwais9092/programming-assignment/blob/main/Chapter%207%20Functions/Exercises/%20Exercise%205%20%22Cities%22Untitled53.ipynb\" target=\"_parent\"><img src=\"https://colab.research.google.com/assets/colab-badge.svg\" alt=\"Open In Colab\"/></a>"
      ]
    },
    {
      "cell_type": "code",
      "execution_count": 5,
      "metadata": {
        "colab": {
          "base_uri": "https://localhost:8080/"
        },
        "id": "vXsG2dt8mix_",
        "outputId": "ff9d4c9a-62ce-4ee8-842d-00083358505e"
      },
      "outputs": [
        {
          "output_type": "stream",
          "name": "stdout",
          "text": [
            "\n",
            "'London' is a city located in the country called 'United Kinggdom'.\n",
            "\n",
            "'Moscow' is a city located in the country called 'Russia'.\n",
            "\n",
            "'Paris' is a city located in the country called 'France'.\n"
          ]
        }
      ],
      "source": [
        "# Chapter 7 Exercise 5 \"Cities\"\n",
        "\n",
        "# Creating a function called:\n",
        "def describe_city(city,country='United Kinggdom'):\n",
        "# The messsage printed should be:\n",
        " print(f\"\\n'{city.title()}' is a city located in the country called '{country.title()}'.\")\n",
        "\n",
        "# Printing city wuth the default countryu\n",
        "describe_city('london')\n",
        "# Printing city and country without the default country\n",
        "describe_city('Moscow','russia')\n",
        "describe_city('paris','france')\n"
      ]
    }
  ]
}