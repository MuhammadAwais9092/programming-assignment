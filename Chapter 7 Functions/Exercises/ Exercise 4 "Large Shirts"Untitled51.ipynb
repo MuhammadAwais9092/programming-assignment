{
  "nbformat": 4,
  "nbformat_minor": 0,
  "metadata": {
    "colab": {
      "provenance": [],
      "authorship_tag": "ABX9TyPzq/31eObqZD0dGGJrxLMS",
      "include_colab_link": true
    },
    "kernelspec": {
      "name": "python3",
      "display_name": "Python 3"
    },
    "language_info": {
      "name": "python"
    }
  },
  "cells": [
    {
      "cell_type": "markdown",
      "metadata": {
        "id": "view-in-github",
        "colab_type": "text"
      },
      "source": [
        "<a href=\"https://colab.research.google.com/github/MuhammadAwais9092/programming-assignment/blob/main/Chapter%207%20Functions/Exercises/%20Exercise%204%20%22Large%20Shirts%22Untitled51.ipynb\" target=\"_parent\"><img src=\"https://colab.research.google.com/assets/colab-badge.svg\" alt=\"Open In Colab\"/></a>"
      ]
    },
    {
      "cell_type": "code",
      "execution_count": 9,
      "metadata": {
        "colab": {
          "base_uri": "https://localhost:8080/"
        },
        "id": "-TvTTa_VrRLH",
        "outputId": "513c1855-d748-441f-fb70-cfb073921a42"
      },
      "outputs": [
        {
          "output_type": "stream",
          "name": "stdout",
          "text": [
            "\n",
            "The size of the shirt is large and message to be printed is 'I LOVE PYTHON'.\n",
            "\n",
            "The size of the shirt is medium and message to be printed is 'I LOVE PYTHON'.\n",
            "\n",
            "The size of the shirt is XXXL and message to be printed is 'ADIDAS'.\n"
          ]
        }
      ],
      "source": [
        "# Chapter 7 Exercise 4 \"Large Shirts\"\n",
        "\n",
        "# Creating a function called:\n",
        "def make_shirt(size='large',message=\"'I love python'.\"):\n",
        "# Printing size of shirt and message to be printed\n",
        "  print(f\"\\nThe size of the shirt is {size} and message to be printed is {message.upper()}\")\n",
        "make_shirt()\n",
        "# Size for the second shirt\n",
        "make_shirt(size='medium')\n",
        "# Size and the message on the Third shirt\n",
        "make_shirt(size='XXXL',message=\"'adidas'.\".upper())\n"
      ]
    }
  ]
}