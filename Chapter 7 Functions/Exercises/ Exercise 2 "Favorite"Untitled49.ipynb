{
  "nbformat": 4,
  "nbformat_minor": 0,
  "metadata": {
    "colab": {
      "provenance": [],
      "authorship_tag": "ABX9TyO98Fww2ketQER94E/NSqKp",
      "include_colab_link": true
    },
    "kernelspec": {
      "name": "python3",
      "display_name": "Python 3"
    },
    "language_info": {
      "name": "python"
    }
  },
  "cells": [
    {
      "cell_type": "markdown",
      "metadata": {
        "id": "view-in-github",
        "colab_type": "text"
      },
      "source": [
        "<a href=\"https://colab.research.google.com/github/MuhammadAwais9092/programming-assignment/blob/main/Chapter%207%20Functions/Exercises/%20Exercise%202%20%22Favorite%22Untitled49.ipynb\" target=\"_parent\"><img src=\"https://colab.research.google.com/assets/colab-badge.svg\" alt=\"Open In Colab\"/></a>"
      ]
    },
    {
      "cell_type": "code",
      "execution_count": 4,
      "metadata": {
        "colab": {
          "base_uri": "https://localhost:8080/"
        },
        "id": "PIuh9KjGmOSs",
        "outputId": "ae3b4fdd-45d3-4fd6-85c0-2290b362b946"
      },
      "outputs": [
        {
          "output_type": "stream",
          "name": "stdout",
          "text": [
            "The book I like the most is: 'Harry Potter And The Philosopher'S Stone J. K. Rowling'!\n"
          ]
        }
      ],
      "source": [
        "# Chapter 7 Exercise 2 \"Favorite\"\n",
        "\n",
        "# Writing a function called:\n",
        "def favourite_book(bookname):\n",
        " # Printing my favourite book name.\n",
        "  print(f\"The book I like the most is: {bookname.title()}!\")\n",
        "favourite_book(\"'Harry Potter and the Philosopher's Stone J. K. Rowling'\")"
      ]
    }
  ]
}