{
  "nbformat": 4,
  "nbformat_minor": 0,
  "metadata": {
    "colab": {
      "provenance": [],
      "authorship_tag": "ABX9TyN35qwOCfprbE2OoNnM+Z3b",
      "include_colab_link": true
    },
    "kernelspec": {
      "name": "python3",
      "display_name": "Python 3"
    },
    "language_info": {
      "name": "python"
    }
  },
  "cells": [
    {
      "cell_type": "markdown",
      "metadata": {
        "id": "view-in-github",
        "colab_type": "text"
      },
      "source": [
        "<a href=\"https://colab.research.google.com/github/MuhammadAwais9092/programming-assignment/blob/main/Chapter%207%20Functions/Exercises/%20Exercise%203%20%22T-Shirt%22%20Untitled50.ipynb\" target=\"_parent\"><img src=\"https://colab.research.google.com/assets/colab-badge.svg\" alt=\"Open In Colab\"/></a>"
      ]
    },
    {
      "cell_type": "code",
      "execution_count": 4,
      "metadata": {
        "colab": {
          "base_uri": "https://localhost:8080/"
        },
        "id": "OsIGWcC-pKd3",
        "outputId": "3ca296ae-5cfe-4548-cc8d-c71be63c342c"
      },
      "outputs": [
        {
          "output_type": "stream",
          "name": "stdout",
          "text": [
            "\n",
            "The shirt size is '30' and the message to be printed is 'JUST DO IT'.\n"
          ]
        }
      ],
      "source": [
        "# Chapter 7 Exercise 3 \"T-Shirt\"\n",
        "\n",
        "# Making a function called:\n",
        "def make_shirt(size,message):\n",
        "# Printing size of shirt and message on the shirt in a sentence\n",
        "  print(f\"\\nThe shirt size is '{size}' and the message to be printed is {message.upper()}\")\n",
        "#Shirt size and the message to be written\n",
        "make_shirt(30, \"'Just do it'.\")\n"
      ]
    }
  ]
}