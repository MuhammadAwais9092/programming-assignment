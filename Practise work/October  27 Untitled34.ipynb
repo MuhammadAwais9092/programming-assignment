{
  "nbformat": 4,
  "nbformat_minor": 0,
  "metadata": {
    "colab": {
      "provenance": [],
      "authorship_tag": "ABX9TyM+WBuj6uM/KuTChJRsKXsN",
      "include_colab_link": true
    },
    "kernelspec": {
      "name": "python3",
      "display_name": "Python 3"
    },
    "language_info": {
      "name": "python"
    }
  },
  "cells": [
    {
      "cell_type": "markdown",
      "metadata": {
        "id": "view-in-github",
        "colab_type": "text"
      },
      "source": [
        "<a href=\"https://colab.research.google.com/github/MuhammadAwais9092/programming-assignment/blob/main/Practise%20work/October%20%2027%20Untitled34.ipynb\" target=\"_parent\"><img src=\"https://colab.research.google.com/assets/colab-badge.svg\" alt=\"Open In Colab\"/></a>"
      ]
    },
    {
      "cell_type": "code",
      "execution_count": null,
      "metadata": {
        "colab": {
          "base_uri": "https://localhost:8080/"
        },
        "id": "gZNRfJIQ4ApB",
        "outputId": "588dda06-d903-4e04-b1a5-612853f39ba7"
      },
      "outputs": [
        {
          "output_type": "stream",
          "name": "stdout",
          "text": [
            "1\n",
            "2\n",
            "3\n",
            "4\n",
            "5\n",
            "6\n",
            "7\n",
            "8\n",
            "9\n",
            "10\n"
          ]
        }
      ],
      "source": [
        "number=1\n",
        "while number<=10:\n",
        " print(number)\n",
        " number=number+1"
      ]
    },
    {
      "cell_type": "code",
      "source": [
        "place_name='\\nName place you love to visit:'\n",
        "place_name+='\\nType Quit to End: '\n",
        "while True:\n",
        "  place=input(place_name)\n",
        "  if place=='quit':\n",
        "    break\n",
        "  else:\n",
        "    print('I would love to go to',place.title(),'!')  "
      ],
      "metadata": {
        "colab": {
          "base_uri": "https://localhost:8080/"
        },
        "id": "8KOZ2egR5yRb",
        "outputId": "2b99462c-cd1d-488b-831c-bdf47ffaec2f"
      },
      "execution_count": null,
      "outputs": [
        {
          "name": "stdout",
          "output_type": "stream",
          "text": [
            "\n",
            "Name place you love to visit:\n",
            "Type Quit to End: quit\n"
          ]
        }
      ]
    },
    {
      "cell_type": "code",
      "source": [
        "count=0\n",
        "while count<10:\n",
        "  count+=1\n",
        "  if count%2==0:\n",
        "   continue\n",
        "  print(count)\n",
        "else:\n",
        "     print('Loop terminated as number exceeds 10')          "
      ],
      "metadata": {
        "colab": {
          "base_uri": "https://localhost:8080/"
        },
        "id": "n-EA6bon88rn",
        "outputId": "8bc837f5-d81a-481b-904c-d2c58425a35c"
      },
      "execution_count": null,
      "outputs": [
        {
          "output_type": "stream",
          "name": "stdout",
          "text": [
            "1\n",
            "3\n",
            "5\n",
            "7\n",
            "9\n",
            "Loop terminated as number exceeds 10\n"
          ]
        }
      ]
    },
    {
      "cell_type": "code",
      "source": [
        "snacks=['mars','lays','oreo']\n",
        "for snack in snacks:\n",
        "  print(snack)"
      ],
      "metadata": {
        "colab": {
          "base_uri": "https://localhost:8080/"
        },
        "id": "0QLd1e8mAtio",
        "outputId": "07b18446-db9d-4c5a-82d8-2e0d9ffc7973"
      },
      "execution_count": null,
      "outputs": [
        {
          "output_type": "stream",
          "name": "stdout",
          "text": [
            "mars\n",
            "lays\n",
            "oreo\n"
          ]
        }
      ]
    },
    {
      "cell_type": "code",
      "source": [
        "flowers=['rose','lily','jasmine','sunflower']\n",
        "for flower in flowers:\n",
        "  print(flower)"
      ],
      "metadata": {
        "colab": {
          "base_uri": "https://localhost:8080/"
        },
        "id": "LAKKuCBdATXL",
        "outputId": "823aebd8-f38b-44f9-81b0-10142644d983"
      },
      "execution_count": null,
      "outputs": [
        {
          "output_type": "stream",
          "name": "stdout",
          "text": [
            "['rose', 'lily', 'jasmine', 'sunflower']\n",
            "['rose', 'lily', 'jasmine', 'sunflower']\n",
            "['rose', 'lily', 'jasmine', 'sunflower']\n",
            "['rose', 'lily', 'jasmine', 'sunflower']\n"
          ]
        }
      ]
    },
    {
      "cell_type": "code",
      "source": [
        "student={'name':'rahila','id':'95478','course':'CC'}\n",
        "print('Display key-value pairs')\n",
        "for key, value in student.items():\n",
        "  print(f\"\\nkey: {key}\")\n",
        "  print(f\"value: {value}\")\n",
        "\n",
        "  print('\\nDisplay only keys')\n",
        "  for key in student.keys():\n",
        "   print(key)\n",
        "\n",
        "  print('\\nDisplay only value')\n",
        "  for value in student.values():\n",
        "    print(value) "
      ],
      "metadata": {
        "colab": {
          "base_uri": "https://localhost:8080/"
        },
        "id": "lO0htcrND45m",
        "outputId": "18039ab6-cad8-437f-b204-e319238a7828"
      },
      "execution_count": null,
      "outputs": [
        {
          "output_type": "stream",
          "name": "stdout",
          "text": [
            "Display key-value pairs\n",
            "\n",
            "key: name\n",
            "value: rahila\n",
            "\n",
            "Display only keys\n",
            "name\n",
            "id\n",
            "course\n",
            "\n",
            "Display only value\n",
            "rahila\n",
            "95478\n",
            "CC\n",
            "\n",
            "key: id\n",
            "value: 95478\n",
            "\n",
            "Display only keys\n",
            "name\n",
            "id\n",
            "course\n",
            "\n",
            "Display only value\n",
            "rahila\n",
            "95478\n",
            "CC\n",
            "\n",
            "key: course\n",
            "value: CC\n",
            "\n",
            "Display only keys\n",
            "name\n",
            "id\n",
            "course\n",
            "\n",
            "Display only value\n",
            "rahila\n",
            "95478\n",
            "CC\n"
          ]
        }
      ]
    },
    {
      "cell_type": "code",
      "source": [
        "student1=['name': 'alpha', 'id': '4325', 'course': 'CC']\n",
        "student2=['name': 'beta', 'id': '9987', 'course': 'CC']\n",
        "student3=['name': 'gama', 'id': '3698', 'course': 'CC']\n",
        "student4=['name': 'delta', 'id': '2364', 'course': 'CC']\n",
        "student=[student1,student2,student3,student4]\n",
        "for std in student:\n",
        "  print(std)"
      ],
      "metadata": {
        "colab": {
          "base_uri": "https://localhost:8080/",
          "height": 136
        },
        "id": "51meYL-iI8qy",
        "outputId": "1d5fa57a-5981-4ca2-9704-f234797b3538"
      },
      "execution_count": null,
      "outputs": [
        {
          "output_type": "error",
          "ename": "SyntaxError",
          "evalue": "ignored",
          "traceback": [
            "\u001b[0;36m  File \u001b[0;32m\"<ipython-input-38-a3d25b393a0e>\"\u001b[0;36m, line \u001b[0;32m1\u001b[0m\n\u001b[0;31m    student1=['name': 'alpha', 'id': '4325', 'course': 'CC']\u001b[0m\n\u001b[0m                    ^\u001b[0m\n\u001b[0;31mSyntaxError\u001b[0m\u001b[0;31m:\u001b[0m invalid syntax\n"
          ]
        }
      ]
    },
    {
      "cell_type": "code",
      "source": [
        "sandwich_order=['veggie','grilled cheese','turkey','tuna']\n",
        "finished_sandwich=[]\n",
        "while sandwich_order:\n",
        "  current_sandwich =sandwich_order.pop()\n",
        "  print(\"I made your \"+current_sandwich+\" sandwich.\")\n",
        "  finished_sandwich.append(current_sandwich)\n",
        "\n",
        "  print(\"\\n\")\n",
        "  print('sandwich order: ')\n",
        "  for sandwich in finished_sandwich:\n",
        "   print(sandwich,' sandwich') "
      ],
      "metadata": {
        "colab": {
          "base_uri": "https://localhost:8080/"
        },
        "id": "Bw2ZL2ETKvNs",
        "outputId": "730b427c-8691-4591-d668-e39dc26be0fb"
      },
      "execution_count": null,
      "outputs": [
        {
          "output_type": "stream",
          "name": "stdout",
          "text": [
            "I made your tuna sandwich.\n",
            "\n",
            "\n",
            "sandwich order: \n",
            "tuna  sandwich\n",
            "I made your turkey sandwich.\n",
            "\n",
            "\n",
            "sandwich order: \n",
            "tuna  sandwich\n",
            "turkey  sandwich\n",
            "I made your grilled cheese sandwich.\n",
            "\n",
            "\n",
            "sandwich order: \n",
            "tuna  sandwich\n",
            "turkey  sandwich\n",
            "grilled cheese  sandwich\n",
            "I made your veggie sandwich.\n",
            "\n",
            "\n",
            "sandwich order: \n",
            "tuna  sandwich\n",
            "turkey  sandwich\n",
            "grilled cheese  sandwich\n",
            "veggie  sandwich\n"
          ]
        }
      ]
    }
  ]
}