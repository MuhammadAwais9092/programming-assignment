{
  "nbformat": 4,
  "nbformat_minor": 0,
  "metadata": {
    "colab": {
      "provenance": [],
      "authorship_tag": "ABX9TyNEbu01qMB/eNqLZI6Hm9Ef",
      "include_colab_link": true
    },
    "kernelspec": {
      "name": "python3",
      "display_name": "Python 3"
    },
    "language_info": {
      "name": "python"
    }
  },
  "cells": [
    {
      "cell_type": "markdown",
      "metadata": {
        "id": "view-in-github",
        "colab_type": "text"
      },
      "source": [
        "<a href=\"https://colab.research.google.com/github/MuhammadAwais9092/programming-assignment/blob/main/Practise%20work/%20viva%20test%20Untitled57.ipynb\" target=\"_parent\"><img src=\"https://colab.research.google.com/assets/colab-badge.svg\" alt=\"Open In Colab\"/></a>"
      ]
    },
    {
      "cell_type": "code",
      "source": [
        "a=input(\"enter number \")\n",
        "b=input(\"enter number \")\n",
        "sum=int(a)+int(b)\n",
        "print(\"the sum is: \",sum)\n",
        "multiply=int(a)*int(b)\n",
        "print(\"The multiplication is:\",multiply)\n",
        "subtract=int(a)-int(b)\n",
        "print(\"the subtraction is:\",subtract)\n",
        "divide=int(a)/int(b)\n",
        "print(\"The divide is:\",divide)"
      ],
      "metadata": {
        "colab": {
          "base_uri": "https://localhost:8080/"
        },
        "id": "6TD_vhRgOEXv",
        "outputId": "c40f6471-400d-496f-ea9a-860955b89ccb"
      },
      "execution_count": 21,
      "outputs": [
        {
          "output_type": "stream",
          "name": "stdout",
          "text": [
            "enter number 10\n",
            "enter number 5\n",
            "the sum is:  15\n",
            "The multiplication is: 50\n",
            "the subtraction is: 5\n",
            "The divide is: 2.0\n"
          ]
        }
      ]
    }
  ]
}