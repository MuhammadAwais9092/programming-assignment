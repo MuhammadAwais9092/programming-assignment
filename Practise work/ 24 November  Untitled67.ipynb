{
  "nbformat": 4,
  "nbformat_minor": 0,
  "metadata": {
    "colab": {
      "provenance": [],
      "authorship_tag": "ABX9TyPTv/hJZ2WY0T2bseOdoUGc",
      "include_colab_link": true
    },
    "kernelspec": {
      "name": "python3",
      "display_name": "Python 3"
    },
    "language_info": {
      "name": "python"
    }
  },
  "cells": [
    {
      "cell_type": "markdown",
      "metadata": {
        "id": "view-in-github",
        "colab_type": "text"
      },
      "source": [
        "<a href=\"https://colab.research.google.com/github/MuhammadAwais9092/programming-assignment/blob/main/Practise%20work/%2024%20November%20%20Untitled67.ipynb\" target=\"_parent\"><img src=\"https://colab.research.google.com/assets/colab-badge.svg\" alt=\"Open In Colab\"/></a>"
      ]
    },
    {
      "cell_type": "code",
      "source": [
        "# Convert km to miles\n",
        "km= float(input())\n",
        "print(\"Enter km: \")\n",
        "miles=km/1.609\n",
        "print(miles)"
      ],
      "metadata": {
        "colab": {
          "base_uri": "https://localhost:8080/"
        },
        "id": "uiX1CePRJ3mW",
        "outputId": "d97fc51a-aeb5-4eee-8463-1a9b6e38d06d"
      },
      "execution_count": null,
      "outputs": [
        {
          "output_type": "stream",
          "name": "stdout",
          "text": [
            "5\n",
            "Enter km: \n",
            "3.107520198881293\n"
          ]
        }
      ]
    },
    {
      "cell_type": "code",
      "source": [
        "# Convert celsius to fahreheit\n",
        "celsius= float(input())\n",
        "print(\"Enter temperature in Celsius: \")\n",
        "fahrenheit=celsius*9/5+32\n",
        "print(fahrenheit)"
      ],
      "metadata": {
        "colab": {
          "base_uri": "https://localhost:8080/"
        },
        "id": "8xD88yqSKacO",
        "outputId": "674dc508-29ae-41ed-bb7d-de45c90567c6"
      },
      "execution_count": null,
      "outputs": [
        {
          "output_type": "stream",
          "name": "stdout",
          "text": [
            "51\n",
            "Enter temperature in Celsius: \n",
            "123.8\n"
          ]
        }
      ]
    },
    {
      "cell_type": "code",
      "source": [
        "# if number is positive or negative\n",
        "number= float(input())\n",
        "print(\"Enter the number: \")\n",
        "if number>0:\n",
        "  print(\"The number is Even\")\n",
        "elif number==0:\n",
        "  print(\"The number is 0\")\n",
        "else:\n",
        "  print(\"The number is odd\")    \n"
      ],
      "metadata": {
        "colab": {
          "base_uri": "https://localhost:8080/"
        },
        "id": "fpNwscD0LLUE",
        "outputId": "e130878d-dd8f-460d-f710-e39648ce8c38"
      },
      "execution_count": null,
      "outputs": [
        {
          "output_type": "stream",
          "name": "stdout",
          "text": [
            "-6\n",
            "Enter the number: \n",
            "The number is odd\n"
          ]
        }
      ]
    },
    {
      "cell_type": "code",
      "source": [
        "number= int(input())\n",
        "print(\"Enter the number: \")\n",
        "if number>1:\n",
        "  for i in range(2,number):\n",
        "    if(number % i)==0:\n",
        "      print(\"the number is not prime\")\n",
        "      break\n",
        "  else:\n",
        "    print(number,\"The number is  prime\")\n",
        "else:\n",
        "  print(\"The number is  prime\")         \n",
        "  \n",
        "\n",
        "     "
      ],
      "metadata": {
        "colab": {
          "base_uri": "https://localhost:8080/"
        },
        "id": "VizaZOWANRM1",
        "outputId": "4e8ce941-7c33-4bc8-aa90-42da3490a2f4"
      },
      "execution_count": null,
      "outputs": [
        {
          "output_type": "stream",
          "name": "stdout",
          "text": [
            "8\n",
            "Enter the number: \n",
            "the number is not prime\n"
          ]
        }
      ]
    },
    {
      "cell_type": "code",
      "source": [
        "#multiplication table\n",
        "number= int(input(\"write the number of tavle required \"))\n",
        "for i in range(1, 11):\n",
        "   print(number*i)"
      ],
      "metadata": {
        "colab": {
          "base_uri": "https://localhost:8080/"
        },
        "id": "nJ-VbptCSUas",
        "outputId": "6ade78cc-0990-4534-9a82-b60f6af99841"
      },
      "execution_count": null,
      "outputs": [
        {
          "output_type": "stream",
          "name": "stdout",
          "text": [
            "write the number of tavle required 6\n",
            "6\n",
            "12\n",
            "18\n",
            "24\n",
            "30\n",
            "36\n",
            "42\n",
            "48\n",
            "54\n",
            "60\n"
          ]
        }
      ]
    },
    {
      "cell_type": "code",
      "source": [
        "number=int(input(\"enter number\"))\n",
        "num=1\n",
        "num1=0\n",
        "num2=1\n",
        "for i in range(0,number):\n",
        "  print(num)\n",
        "  num=num1 + num2\n",
        "  num1=num2\n",
        "  num2=num"
      ],
      "metadata": {
        "colab": {
          "base_uri": "https://localhost:8080/"
        },
        "id": "q0vhlonlTazx",
        "outputId": "f4531070-127d-48e2-acb3-bebdf3cb13de"
      },
      "execution_count": null,
      "outputs": [
        {
          "output_type": "stream",
          "name": "stdout",
          "text": [
            "enter number10\n",
            "1\n",
            "1\n",
            "2\n",
            "3\n",
            "5\n",
            "8\n",
            "13\n",
            "21\n",
            "34\n",
            "55\n"
          ]
        }
      ]
    },
    {
      "cell_type": "code",
      "source": [
        "A=input(\"enter a Word to check\")\n",
        "b= reversed(A)\n",
        "print(list(A))\n",
        "if list(b) == list(A):\n",
        " print(\"it is \") \n",
        "else:\n",
        "  print(\"no\")"
      ],
      "metadata": {
        "colab": {
          "base_uri": "https://localhost:8080/"
        },
        "id": "LqfPbjRBZwid",
        "outputId": "944ee344-70a9-407f-802b-456ac57a79ef"
      },
      "execution_count": null,
      "outputs": [
        {
          "output_type": "stream",
          "name": "stdout",
          "text": [
            "enter a Word to checkdad\n",
            "['d', 'a', 'd']\n",
            "it is \n"
          ]
        }
      ]
    },
    {
      "cell_type": "code",
      "source": [
        "dict = {1: 'a', 2: 'b'}\n",
        "dict2 = {2: 'c', 4: 'd'}\n",
        "\n",
        "print({**dict_1,**dict_2})"
      ],
      "metadata": {
        "colab": {
          "base_uri": "https://localhost:8080/"
        },
        "id": "pPdnDMyofIQ9",
        "outputId": "fbe27e87-b361-4502-dba2-58b864e681cc"
      },
      "execution_count": 62,
      "outputs": [
        {
          "output_type": "stream",
          "name": "stdout",
          "text": [
            "{1: 'a', 2: 'c', 4: 'd'}\n"
          ]
        }
      ]
    },
    {
      "cell_type": "code",
      "source": [
        "A = input(\"ENTER A WORD \")\n",
        "\n",
        "B =input(\"check for which word \")\n",
        "\n",
        "print(A.count(B))"
      ],
      "metadata": {
        "colab": {
          "base_uri": "https://localhost:8080/"
        },
        "id": "aSBk7aX2hsfb",
        "outputId": "50a5cad8-28ef-47df-e791-f824a3427d5f"
      },
      "execution_count": 68,
      "outputs": [
        {
          "output_type": "stream",
          "name": "stdout",
          "text": [
            "ENTER A WORD saaaed\n",
            "check for which word a\n",
            "3\n"
          ]
        }
      ]
    },
    {
      "cell_type": "code",
      "source": [
        "a = float(input(\"num1 :\"))\n",
        "b = float(input(\"num2 :\"))\n",
        "c = float(input(\"num3 :\"))\n",
        "if (a>b) and (a > c):\n",
        " l=a\n",
        "elif (b>a) and (b>c):\n",
        " l=b\n",
        "else:\n",
        " l=c\n",
        "print(l,\"=\")"
      ],
      "metadata": {
        "colab": {
          "base_uri": "https://localhost:8080/"
        },
        "id": "oJfO4yZRmpjM",
        "outputId": "d458572f-5d39-491d-ec0f-0633dea45eea"
      },
      "execution_count": 81,
      "outputs": [
        {
          "output_type": "stream",
          "name": "stdout",
          "text": [
            "num1 :22\n",
            "num2 :23\n",
            "num3 :34\n",
            "34.0 =\n"
          ]
        }
      ]
    }
  ]
}