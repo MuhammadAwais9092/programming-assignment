{
  "nbformat": 4,
  "nbformat_minor": 0,
  "metadata": {
    "colab": {
      "provenance": [],
      "authorship_tag": "ABX9TyNRAiNLYp9jZwCpNRS+rEOV",
      "include_colab_link": true
    },
    "kernelspec": {
      "name": "python3",
      "display_name": "Python 3"
    },
    "language_info": {
      "name": "python"
    }
  },
  "cells": [
    {
      "cell_type": "markdown",
      "metadata": {
        "id": "view-in-github",
        "colab_type": "text"
      },
      "source": [
        "<a href=\"https://colab.research.google.com/github/MuhammadAwais9092/programming-assignment/blob/main/Practise%20work/%20November%2011%20Untitled56.ipynb\" target=\"_parent\"><img src=\"https://colab.research.google.com/assets/colab-badge.svg\" alt=\"Open In Colab\"/></a>"
      ]
    },
    {
      "cell_type": "code",
      "execution_count": 12,
      "metadata": {
        "colab": {
          "base_uri": "https://localhost:8080/"
        },
        "id": "q7X05dt1_oFe",
        "outputId": "9143cb56-0c39-4742-c8fd-42375dd0d9c5"
      },
      "outputs": [
        {
          "output_type": "stream",
          "name": "stdout",
          "text": [
            "The first elemnt of the tuple 1 is: rose\n",
            "The first elemnt of the tuple 1 is: tulip\n",
            "The first elemnt of the tuple 1 is: sunflower\n",
            "The first elemnt of the tuple 1 is: carnation\n",
            "The first elemnt of the tuple 1 is: carrot\n",
            "The first elemnt of the tuple 1 is: garlic\n",
            "The first elemnt of the tuple 1 is: tomato\n",
            "The first elemnt of the tuple 1 is: spinach\n",
            "\n",
            "The elements of tuple 1 are : ('rose', 'tulip', 'sunflower', 'carnation')\n",
            "The elements of tuple 2 are : ('carrot', 'garlic', 'tomato', 'spinach')\n",
            "\n",
            "Tuple 1 elements are :\n",
            "rose tulip sunflower carnation Tuple 2 elements are:\n",
            "carrot garlic tomato spinach "
          ]
        }
      ],
      "source": [
        "tuple1=('rose','tulip','sunflower','carnation')\n",
        "tuple2=('carrot','garlic','tomato','spinach')\n",
        "\n",
        "print('The first elemnt of the tuple 1 is:',tuple1[0])\n",
        "print('The first elemnt of the tuple 1 is:',tuple1[1])\n",
        "print('The first elemnt of the tuple 1 is:',tuple1[2])\n",
        "print('The first elemnt of the tuple 1 is:',tuple1[3])\n",
        "print('The first elemnt of the tuple 1 is:',tuple2[0])\n",
        "print('The first elemnt of the tuple 1 is:',tuple2[1])\n",
        "print('The first elemnt of the tuple 1 is:',tuple2[2])\n",
        "print('The first elemnt of the tuple 1 is:',tuple2[3])\n",
        "\n",
        "# The elements of tuple 1 are\n",
        "print('\\nThe elements of tuple 1 are :',tuple1[0:4])\n",
        "# The elements of tuple 2 are \n",
        "print('The elements of tuple 2 are :',tuple2[0:4])\n",
        "\n",
        "print('\\nTuple 1 elements are :')\n",
        "for i in tuple1:\n",
        "  print(i,end=' ')\n",
        "\n",
        "print('Tuple 2 elements are:') \n",
        "for i in tuple2:\n",
        "  print(i,end=' ') \n"
      ]
    },
    {
      "cell_type": "code",
      "source": [
        "leap_year=(2020,2024,2028,2032)\n",
        "non_leap_year=(2021,2022,2023,2025)\n",
        "print('The leap years list is:',leap_year[0:4])\n",
        "print('The non-leap years list is:',non_leap_year[0:4])\n",
        "\n",
        "#Concatatanation\n",
        "print('\\n The list of leap year and non-leap years is:\\n',leap_year+non_leap_year)\n",
        "\n",
        "# Multiplication\n",
        "print('\\nmultiplication of leap year is:\\n',leap_year*4)\n",
        "\n",
        "# Comparing\n",
        "print(\"comparing:\")\n",
        "print(leap_year==non_leap_year)\n",
        "\n",
        "# Finding length\n",
        "print(\"Length of leap year:\")\n",
        "print(len(leap_year))\n",
        "print(\"lenght of non-leap years:\")\n",
        "print(len(non_leap_year))\n",
        "\n",
        "# sum of elements\n",
        "print(\"\\nsum of leap years:\")\n",
        "print(sum(leap_year))\n",
        "print(\"sum of non-leap years:\")\n",
        "print(sum(non_leap_year))\n",
        "\n",
        "# sorting elements\n",
        "print(\"\\nsorting of leap years:\")\n",
        "print(sorted(leap_year))\n",
        "print(\"sorting of non-leap years:\")\n",
        "print(sorted(non_leap_year))\n",
        "\n",
        "# swaping of tupples\n",
        "leap_year,non_leap_year=non_leap_year,leap_year\n",
        "print('\\nlist of non-leap years:',leap_year)\n",
        "print('list of leap year:',non_leap_year)"
      ],
      "metadata": {
        "colab": {
          "base_uri": "https://localhost:8080/"
        },
        "id": "PHFkogD-FynB",
        "outputId": "b81afd2e-a6a5-47f7-d195-22537cdb4d80"
      },
      "execution_count": 28,
      "outputs": [
        {
          "output_type": "stream",
          "name": "stdout",
          "text": [
            "The leap years list is: (2020, 2024, 2028, 2032)\n",
            "The non-leap years list is: (2021, 2022, 2023, 2025)\n",
            "\n",
            " The list of leap year and non-leap years is:\n",
            " (2020, 2024, 2028, 2032, 2021, 2022, 2023, 2025)\n",
            "\n",
            "multiplication of leap year is:\n",
            " (2020, 2024, 2028, 2032, 2020, 2024, 2028, 2032, 2020, 2024, 2028, 2032, 2020, 2024, 2028, 2032)\n",
            "comparing:\n",
            "False\n",
            "Length of leap year:\n",
            "4\n",
            "lenght of non-leap years:\n",
            "4\n",
            "\n",
            "sum of leap years:\n",
            "8104\n",
            "sum of non-leap years:\n",
            "8091\n",
            "\n",
            "sorting of leap years:\n",
            "[2020, 2024, 2028, 2032]\n",
            "sorting of non-leap years:\n",
            "[2021, 2022, 2023, 2025]\n",
            "\n",
            "list of non-leap years: (2021, 2022, 2023, 2025)\n",
            "list of leap year: (2020, 2024, 2028, 2032)\n"
          ]
        }
      ]
    }
  ]
}