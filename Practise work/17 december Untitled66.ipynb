{
  "nbformat": 4,
  "nbformat_minor": 0,
  "metadata": {
    "colab": {
      "provenance": [],
      "authorship_tag": "ABX9TyOBorrNMtYfCtoyzekXCpUm",
      "include_colab_link": true
    },
    "kernelspec": {
      "name": "python3",
      "display_name": "Python 3"
    },
    "language_info": {
      "name": "python"
    }
  },
  "cells": [
    {
      "cell_type": "markdown",
      "metadata": {
        "id": "view-in-github",
        "colab_type": "text"
      },
      "source": [
        "<a href=\"https://colab.research.google.com/github/MuhammadAwais9092/programming-assignment/blob/main/Practise%20work/17%20december%20Untitled66.ipynb\" target=\"_parent\"><img src=\"https://colab.research.google.com/assets/colab-badge.svg\" alt=\"Open In Colab\"/></a>"
      ]
    },
    {
      "cell_type": "code",
      "execution_count": 15,
      "metadata": {
        "colab": {
          "base_uri": "https://localhost:8080/"
        },
        "id": "Zpyn3WpfCtVY",
        "outputId": "ce80f8bd-05a1-47c5-fa2f-1b43e9bdec65"
      },
      "outputs": [
        {
          "output_type": "stream",
          "name": "stdout",
          "text": [
            "Enter the brand you need:\n",
            "['BMW', 'Toyota', 'Nissan']Nissan\n",
            "the car is here\n"
          ]
        }
      ],
      "source": [
        "brands=['BMW','Toyota','Nissan']\n",
        "print('Enter the brand you need:')\n",
        "car=str(input(brands))\n",
        "if car in brands:\n",
        "   print(\"the car is here\")\n",
        "else:\n",
        "   print('no car here') "
      ]
    },
    {
      "cell_type": "code",
      "source": [
        "car=['GMC','Dodge','Mustang']\n",
        "color=['Black','White','Blue']\n",
        "print(\"Enter the brand of car you need:\")\n",
        "brand=str(input(car))\n",
        "if brand in car:\n",
        "  print(\"The brand is here:\")\n",
        "  print(\"Enter the color of car you need\")\n",
        "  color_choice=str(input(color))\n",
        "  if color_choice in color:\n",
        "   print(\"This color is available\")\n",
        "else:\n",
        "  print(\"sorry not available\")  "
      ],
      "metadata": {
        "colab": {
          "base_uri": "https://localhost:8080/"
        },
        "id": "d8xC7_tYGign",
        "outputId": "c6a5d89e-bbd6-4789-84fb-56ca15998d65"
      },
      "execution_count": 21,
      "outputs": [
        {
          "output_type": "stream",
          "name": "stdout",
          "text": [
            "Enter the brand of car you need:\n",
            "['GMC', 'Dodge', 'Mustang']bmw\n",
            "sorry not available\n"
          ]
        }
      ]
    },
    {
      "cell_type": "code",
      "source": [
        "for i in range(11):\n",
        " print(i)"
      ],
      "metadata": {
        "colab": {
          "base_uri": "https://localhost:8080/"
        },
        "id": "mn2NChlbL1wn",
        "outputId": "d2f6b316-69f1-43ed-8458-28ccecea1f73"
      },
      "execution_count": 26,
      "outputs": [
        {
          "output_type": "stream",
          "name": "stdout",
          "text": [
            "0\n",
            "1\n",
            "2\n",
            "3\n",
            "4\n",
            "5\n",
            "6\n",
            "7\n",
            "8\n",
            "9\n",
            "10\n"
          ]
        }
      ]
    },
    {
      "cell_type": "code",
      "source": [
        "for i in range(15,20):\n",
        "  print(i)"
      ],
      "metadata": {
        "colab": {
          "base_uri": "https://localhost:8080/"
        },
        "id": "_7azg7LZMHMA",
        "outputId": "24d3c014-9a2f-4627-de6e-40e1450be002"
      },
      "execution_count": 28,
      "outputs": [
        {
          "output_type": "stream",
          "name": "stdout",
          "text": [
            "15\n",
            "16\n",
            "17\n",
            "18\n",
            "19\n"
          ]
        }
      ]
    },
    {
      "cell_type": "code",
      "source": [
        "number=(int(input('enter rows needed:')))\n",
        "for i in range(0,number):\n",
        "  for j in range(i+1):\n",
        "    print(\"*\",end=\"\")\n",
        "  print() "
      ],
      "metadata": {
        "colab": {
          "base_uri": "https://localhost:8080/"
        },
        "id": "MCX_8lilMzxb",
        "outputId": "659345b0-6a0c-4c6f-9936-e13774ae4e20"
      },
      "execution_count": 47,
      "outputs": [
        {
          "output_type": "stream",
          "name": "stdout",
          "text": [
            "enter rows needed:5\n",
            "*\n",
            "**\n",
            "***\n",
            "****\n",
            "*****\n"
          ]
        }
      ]
    },
    {
      "cell_type": "code",
      "source": [
        "for i in range(10,50,5):\n",
        "  print(i,end=' ')"
      ],
      "metadata": {
        "colab": {
          "base_uri": "https://localhost:8080/"
        },
        "id": "2UoaL7srecR3",
        "outputId": "c8152ca4-ef62-4a9a-e365-2cd35fc7ca6e"
      },
      "execution_count": 50,
      "outputs": [
        {
          "output_type": "stream",
          "name": "stdout",
          "text": [
            "10 15 20 25 30 35 40 45 "
          ]
        }
      ]
    },
    {
      "cell_type": "code",
      "source": [
        "n=(int(input('enter rows needed:')))\n",
        "for i in range(n,0,-1):\n",
        "  for j in range(0,i-1):\n",
        "    print('*',end='')\n",
        "  print() "
      ],
      "metadata": {
        "colab": {
          "base_uri": "https://localhost:8080/"
        },
        "id": "jM0QugbgfXpK",
        "outputId": "a070abf4-2dee-4b37-d273-5097103213bc"
      },
      "execution_count": 53,
      "outputs": [
        {
          "output_type": "stream",
          "name": "stdout",
          "text": [
            "enter rows needed:6\n",
            "*****\n",
            "****\n",
            "***\n",
            "**\n",
            "*\n",
            "\n"
          ]
        }
      ]
    },
    {
      "cell_type": "code",
      "source": [
        "n=(int(input('enter rows needed:')))\n",
        "for i in range(n,0,-1):\n",
        "  for j in range(0,i-1):\n",
        "    print(j,end=' ')\n",
        "  print() "
      ],
      "metadata": {
        "colab": {
          "base_uri": "https://localhost:8080/"
        },
        "id": "JG51YOrThj8b",
        "outputId": "40559634-3f3e-4f98-8ec8-c6c9bd705908"
      },
      "execution_count": 65,
      "outputs": [
        {
          "output_type": "stream",
          "name": "stdout",
          "text": [
            "enter rows needed:6\n",
            "0 1 2 3 4 \n",
            "0 1 2 3 \n",
            "0 1 2 \n",
            "0 1 \n",
            "0 \n",
            "\n"
          ]
        }
      ]
    },
    {
      "cell_type": "code",
      "source": [
        "n=(int(input('enter rows needed:')))\n",
        "for i in range(n,0,+1):\n",
        "  for j in range(0,i+n1):\n",
        "    print(j,end='')\n",
        "  print() "
      ],
      "metadata": {
        "colab": {
          "base_uri": "https://localhost:8080/"
        },
        "id": "qoOqPrePhupT",
        "outputId": "c0614938-09b4-451e-9ff0-72fa24f23df4"
      },
      "execution_count": 59,
      "outputs": [
        {
          "name": "stdout",
          "output_type": "stream",
          "text": [
            "enter rows needed:6\n"
          ]
        }
      ]
    },
    {
      "cell_type": "code",
      "source": [
        "n=int(input('enter number of rows: '))\n",
        "i=1\n",
        "while i<=n:\n",
        " j=1\n",
        " while j<=i:\n",
        "  print((i*2-1),end=' ')\n",
        "  j=j+1\n",
        " i=i+1\n",
        " print() "
      ],
      "metadata": {
        "colab": {
          "base_uri": "https://localhost:8080/"
        },
        "id": "4oa7XhuOjLC6",
        "outputId": "55d713d3-21b8-46f5-f28e-0ea357a62b80"
      },
      "execution_count": 72,
      "outputs": [
        {
          "output_type": "stream",
          "name": "stdout",
          "text": [
            "enter number of rows: 5\n",
            "1 \n",
            "3 3 \n",
            "5 5 5 \n",
            "7 7 7 7 \n",
            "9 9 9 9 9 \n"
          ]
        }
      ]
    },
    {
      "cell_type": "code",
      "source": [
        "n=(int(input('enter rows needed:')))\n",
        "m=n\n",
        "for i in range(0,n):\n",
        "  for j in range(0,m):\n",
        "    print(end=' ')\n",
        "  m=m-1\n",
        "  for j in range(0,1+1):\n",
        "      print('*',end='  ')\n",
        "  print() \n"
      ],
      "metadata": {
        "colab": {
          "base_uri": "https://localhost:8080/"
        },
        "id": "ZaKR2KqwoFVp",
        "outputId": "165951a5-a77c-4e7a-a922-34a29668fe95"
      },
      "execution_count": 4,
      "outputs": [
        {
          "output_type": "stream",
          "name": "stdout",
          "text": [
            "enter rows needed:9\n",
            "         *  *  \n",
            "        *  *  \n",
            "       *  *  \n",
            "      *  *  \n",
            "     *  *  \n",
            "    *  *  \n",
            "   *  *  \n",
            "  *  *  \n",
            " *  *  \n"
          ]
        }
      ]
    }
  ]
}