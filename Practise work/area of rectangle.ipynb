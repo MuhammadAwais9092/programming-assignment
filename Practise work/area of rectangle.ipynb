{
  "nbformat": 4,
  "nbformat_minor": 0,
  "metadata": {
    "colab": {
      "provenance": [],
      "authorship_tag": "ABX9TyMPdAQBcN/iU1xidP2Doyx2",
      "include_colab_link": true
    },
    "kernelspec": {
      "name": "python3",
      "display_name": "Python 3"
    },
    "language_info": {
      "name": "python"
    }
  },
  "cells": [
    {
      "cell_type": "markdown",
      "metadata": {
        "id": "view-in-github",
        "colab_type": "text"
      },
      "source": [
        "<a href=\"https://colab.research.google.com/github/MuhammadAwais9092/programming-assignment/blob/main/Practise%20work/area%20of%20rectangle.ipynb\" target=\"_parent\"><img src=\"https://colab.research.google.com/assets/colab-badge.svg\" alt=\"Open In Colab\"/></a>"
      ]
    },
    {
      "cell_type": "code",
      "execution_count": null,
      "metadata": {
        "colab": {
          "base_uri": "https://localhost:8080/"
        },
        "id": "Qq9xBrGeFdW8",
        "outputId": "9631d183-9fb4-447f-c9b0-407b91b4ad78"
      },
      "outputs": [
        {
          "output_type": "stream",
          "name": "stdout",
          "text": [
            "10\n",
            "the value of a is:10\n"
          ]
        }
      ],
      "source": [
        "#initializing variable\n",
        "a=10\n",
        "print(a)#pprint direct value\n",
        "print(\"The value of a is:\"  +str(a))"
      ]
    },
    {
      "cell_type": "code",
      "source": [
        "a, b =100, 50\n",
        "print(\"The value of a is \"  +str(a))#print 100\n",
        "print(\"The value of b is \"  +str(b))#print 50"
      ],
      "metadata": {
        "colab": {
          "base_uri": "https://localhost:8080/"
        },
        "id": "OJWOP_mmG1A-",
        "outputId": "6cd4735a-95a1-49a2-c33e-67a3e0b3b3ae"
      },
      "execution_count": null,
      "outputs": [
        {
          "output_type": "stream",
          "name": "stdout",
          "text": [
            "The value of a is 100\n",
            "The value of b is 50\n"
          ]
        }
      ]
    },
    {
      "cell_type": "code",
      "source": [
        "name = input (\"Enter a name\")\n",
        "print(name)"
      ],
      "metadata": {
        "colab": {
          "base_uri": "https://localhost:8080/"
        },
        "id": "emv8hAcTI7Jv",
        "outputId": "1c815712-bc0d-4faf-9dce-f9caa8a9ab93"
      },
      "execution_count": null,
      "outputs": [
        {
          "output_type": "stream",
          "name": "stdout",
          "text": [
            "Enter a nameawais\n",
            "awais\n"
          ]
        }
      ]
    },
    {
      "cell_type": "code",
      "source": [
        "L = input (\"enter length\")\n",
        "print(L)\n",
        "W = input (\"enter width\")\n",
        "print(W)\n",
        "\n"
      ],
      "metadata": {
        "colab": {
          "base_uri": "https://localhost:8080/"
        },
        "id": "fgaI4BelKNQx",
        "outputId": "6860efba-9e3f-4133-9f2c-b39c25e3fc63"
      },
      "execution_count": null,
      "outputs": [
        {
          "output_type": "stream",
          "name": "stdout",
          "text": [
            "enter length4\n",
            "4\n",
            "enter width5\n",
            "5\n"
          ]
        }
      ]
    },
    {
      "cell_type": "code",
      "source": [
        "from math import pi\n",
        "r= float(input(\"input the radius of circle:\"))\n",
        "print(\"the area of the circle with radius\"+str(r)+\"i s:\"+str(pi*r**2))"
      ],
      "metadata": {
        "colab": {
          "base_uri": "https://localhost:8080/"
        },
        "id": "xMn1cm5DMmeg",
        "outputId": "e261592e-f0ba-4996-94e1-c63d271e692c"
      },
      "execution_count": null,
      "outputs": [
        {
          "output_type": "stream",
          "name": "stdout",
          "text": [
            "input the radius of circle:15\n",
            "the area of the circle with radius15.0i s:706.8583470577034\n"
          ]
        }
      ]
    },
    {
      "cell_type": "code",
      "source": [
        "L = float(input (\"enter length\"))\n",
        "print(L)\n",
        "W = float(input (\"enter width\"))\n",
        "print(W)\n",
        "Area= L*W\n",
        "print(Area)\n"
      ],
      "metadata": {
        "colab": {
          "base_uri": "https://localhost:8080/"
        },
        "id": "mYSG1LvVOLO6",
        "outputId": "63f8b7db-d75b-4fdb-e537-69ebfd80ed8f"
      },
      "execution_count": null,
      "outputs": [
        {
          "output_type": "stream",
          "name": "stdout",
          "text": [
            "enter length5\n",
            "5.0\n",
            "enter width4\n",
            "4.0\n",
            "20.0\n"
          ]
        }
      ]
    }
  ]
}