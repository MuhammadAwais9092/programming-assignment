{
  "nbformat": 4,
  "nbformat_minor": 0,
  "metadata": {
    "colab": {
      "provenance": [],
      "authorship_tag": "ABX9TyO/oDvmA8NCw87U4BeUAE8Q",
      "include_colab_link": true
    },
    "kernelspec": {
      "name": "python3",
      "display_name": "Python 3"
    },
    "language_info": {
      "name": "python"
    }
  },
  "cells": [
    {
      "cell_type": "markdown",
      "metadata": {
        "id": "view-in-github",
        "colab_type": "text"
      },
      "source": [
        "<a href=\"https://colab.research.google.com/github/MuhammadAwais9092/programming-assignment/blob/main/Practise%20work/20%20october%20Untitled26.ipynb\" target=\"_parent\"><img src=\"https://colab.research.google.com/assets/colab-badge.svg\" alt=\"Open In Colab\"/></a>"
      ]
    },
    {
      "cell_type": "code",
      "execution_count": 27,
      "metadata": {
        "id": "bCuAfZIS2YXG"
      },
      "outputs": [],
      "source": [
        "# Chapter 4 Exercise 1 \"Alien colors\"\n",
        "# assigning color of alien to variable alien_color\n",
        "alien_color='red'\n",
        "if alien_color=='green': # Printing if true\n",
        "  print('player earned 5 points')"
      ]
    },
    {
      "cell_type": "code",
      "source": [
        "alien_color='green'\n",
        "# assigning color of alien to variable alien_color\n",
        "if alien_color=='green': # Printing if true\n",
        "  print('player earned 5 points')"
      ],
      "metadata": {
        "colab": {
          "base_uri": "https://localhost:8080/"
        },
        "id": "dS3iXgOO6mxf",
        "outputId": "28d008b1-06c3-4b05-e575-bd2a1053ce3f"
      },
      "execution_count": 28,
      "outputs": [
        {
          "output_type": "stream",
          "name": "stdout",
          "text": [
            "player earned 5 points\n"
          ]
        }
      ]
    },
    {
      "cell_type": "code",
      "source": [
        "print('Enter your first number: ')\n",
        "a=int(input())\n",
        "print('Enter your second number: ')\n",
        "b=int(input())\n",
        "if a<b:\n",
        "  print(a,'is the number smaller then the number',b)\n",
        "else:\n",
        "    print(b,'is the number smaller then the number',a)"
      ],
      "metadata": {
        "colab": {
          "base_uri": "https://localhost:8080/"
        },
        "id": "mUedhL0e7YRm",
        "outputId": "3c848fe4-db6c-41f4-957c-bb7371a91fca"
      },
      "execution_count": 35,
      "outputs": [
        {
          "output_type": "stream",
          "name": "stdout",
          "text": [
            "Enter your first number: \n",
            "5\n",
            "Enter your second number: \n",
            "6\n",
            "5 is the number smaller then the number 6\n"
          ]
        }
      ]
    },
    {
      "cell_type": "code",
      "source": [
        "# chapter 4 exercise 2\n",
        "# assigning color to the variable\n",
        "alien_color='green'\n",
        "# If statemment\n",
        "if alien_color=='green': \n",
        "  print('player earned 5 points')\n",
        "# else statement\n",
        "else:\n",
        "  print('player earned 10 points')"
      ],
      "metadata": {
        "colab": {
          "base_uri": "https://localhost:8080/"
        },
        "id": "LYb_R3EI9tYA",
        "outputId": "c3326c19-db39-45ed-da74-fff10a579d21"
      },
      "execution_count": 38,
      "outputs": [
        {
          "output_type": "stream",
          "name": "stdout",
          "text": [
            "player earned 5 points\n"
          ]
        }
      ]
    },
    {
      "cell_type": "code",
      "source": [
        "# assigning color to the variable\n",
        "alien_color='red'\n",
        "# If statemment\n",
        "if alien_color=='green': \n",
        "  print('player earned 5 points')\n",
        "# else statement\n",
        "else:\n",
        "  print('player earned 10 points')"
      ],
      "metadata": {
        "colab": {
          "base_uri": "https://localhost:8080/"
        },
        "id": "0V32DHwk-JMk",
        "outputId": "6a31dfeb-deba-4229-acd7-f92a6822ea62"
      },
      "execution_count": 39,
      "outputs": [
        {
          "output_type": "stream",
          "name": "stdout",
          "text": [
            "player earned 10 points\n"
          ]
        }
      ]
    },
    {
      "cell_type": "code",
      "source": [
        " print('Enter your first number: ')\n",
        "a=int(input())\n",
        "print('Enter your second number: ')\n",
        "b=int(input())\n",
        "if a<b:\n",
        "  print(a,'is the number smaller then the number',b)\n",
        "elif a==b:\n",
        "  print('Both number a and b are equal')\n",
        "else:\n",
        "    print(b,'is the number smaller then the number',a)"
      ],
      "metadata": {
        "colab": {
          "base_uri": "https://localhost:8080/"
        },
        "id": "MLjYTkey-Xim",
        "outputId": "2ed5cabb-39df-440f-dbbd-e8bd8e661025"
      },
      "execution_count": 40,
      "outputs": [
        {
          "output_type": "stream",
          "name": "stdout",
          "text": [
            "Enter your first number: \n",
            "6\n",
            "Enter your second number: \n",
            "6\n",
            "Both number a and b are equal\n"
          ]
        }
      ]
    },
    {
      "cell_type": "code",
      "source": [
        "print('Enter color of alien: Green, Red, Yellow')\n",
        "alien_color=str(input())\n",
        "if alien_color=='Green': \n",
        "  print('player earned 5 points')\n",
        "elif alien_color=='Red':\n",
        "  print('player earned 10 points')\n",
        "else alien_color=='Yellow'\n",
        "  print('player earned 15 points')"
      ],
      "metadata": {
        "colab": {
          "base_uri": "https://localhost:8080/",
          "height": 136
        },
        "id": "YLJoy2qBA57W",
        "outputId": "5f8734ef-8911-4aad-be5d-705ad7cc7f2b"
      },
      "execution_count": 52,
      "outputs": [
        {
          "output_type": "error",
          "ename": "SyntaxError",
          "evalue": "ignored",
          "traceback": [
            "\u001b[0;36m  File \u001b[0;32m\"<ipython-input-52-fa4f220b3fb3>\"\u001b[0;36m, line \u001b[0;32m7\u001b[0m\n\u001b[0;31m    else alien_color=='Yellow'\u001b[0m\n\u001b[0m                   ^\u001b[0m\n\u001b[0;31mSyntaxError\u001b[0m\u001b[0;31m:\u001b[0m invalid syntax\n"
          ]
        }
      ]
    },
    {
      "cell_type": "code",
      "source": [
        "print('select country US/Australia')\n",
        "country=str(input())\n",
        "print('number of shipments')\n",
        "shipment=int(input())\n",
        "if country==\"US\":\n",
        "  if shipment<=50:\n",
        "    print('shipping cost is $50')\n",
        "  elif shipment>50:\n",
        "      print('shipment cost is $25')\n",
        "  else:\n",
        "        print('contact customer support')\n",
        "else:\n",
        "  if country==\"Australia\":\n",
        "   if shipment<=150:\n",
        "      print('shipping cost is $100')\n",
        "   elif shipment>150:\n",
        "        print('shipment cost is $15')\n",
        "   else:\n",
        "          print('contact customer service')\n"
      ],
      "metadata": {
        "colab": {
          "base_uri": "https://localhost:8080/"
        },
        "id": "amlBfvK7DUED",
        "outputId": "bf8d2099-d396-4573-82e1-cab0dd874e72"
      },
      "execution_count": 50,
      "outputs": [
        {
          "output_type": "stream",
          "name": "stdout",
          "text": [
            "select country US/Australia\n",
            "US\n",
            "number of shipments\n",
            "50\n",
            "shipping cost is $50\n"
          ]
        }
      ]
    },
    {
      "cell_type": "code",
      "source": [
        "flowers=['rose','lily','tulip']\n",
        "print(flowers)\n",
        "print(flowers[0])\n",
        "print(flowers[1])\n",
        "print(flowers[2])\n",
        "flowers[0]=\"orchid\"\n",
        "print(flowers)\n",
        "flowers.append(\"sunflower\")\n",
        "print(flowers)\n",
        "flowers.insert(1,\"carnation\")\n",
        "print(flowers)\n",
        "flowers.remove('lily')\n",
        "print(flowers)\n",
        "popped=flowers.pop()\n",
        "print(flowers)\n",
        "print(popped)\n",
        "flowers.sort()\n",
        "print(flowers)\n",
        "flowers.reverse()\n",
        "print(flowers)\n",
        "del flowers[0:2]"
      ],
      "metadata": {
        "colab": {
          "base_uri": "https://localhost:8080/"
        },
        "id": "sf0bko85PXy2",
        "outputId": "73e0d3e1-5552-4f42-faee-e180a4e4bd94"
      },
      "execution_count": 70,
      "outputs": [
        {
          "output_type": "stream",
          "name": "stdout",
          "text": [
            "['rose', 'lily', 'tulip']\n",
            "rose\n",
            "lily\n",
            "tulip\n",
            "['orchid', 'lily', 'tulip']\n",
            "['orchid', 'lily', 'tulip', 'sunflower']\n",
            "['orchid', 'carnation', 'lily', 'tulip', 'sunflower']\n",
            "['orchid', 'carnation', 'tulip', 'sunflower']\n",
            "['orchid', 'carnation', 'tulip']\n",
            "sunflower\n",
            "['carnation', 'orchid', 'tulip']\n",
            "['tulip', 'orchid', 'carnation']\n"
          ]
        }
      ]
    },
    {
      "cell_type": "code",
      "source": [
        "student={'name':'M,Awais','Id':'398','course':'creative computing'}\n",
        "print(student)\n",
        "print(student['name'])\n",
        "print(student['Id'])\n",
        "print(student['course'])"
      ],
      "metadata": {
        "colab": {
          "base_uri": "https://localhost:8080/"
        },
        "id": "CnbBxcFBV2Vs",
        "outputId": "e883f8bf-0bdc-44c1-930e-90f20fd71e12"
      },
      "execution_count": 77,
      "outputs": [
        {
          "output_type": "stream",
          "name": "stdout",
          "text": [
            "{'name': 'M,Awais', 'Id': '398', 'course': 'creative computing'}\n",
            "M,Awais\n",
            "398\n",
            "creative computing\n"
          ]
        }
      ]
    },
    {
      "cell_type": "code",
      "source": [
        "friend={'First name':'Raheel','Last name':'Saeed','Age':'18','City':'Dubai'}\n",
        "print(friend)\n",
        "print(friend['First name'])\n",
        "print(friend['Last name'])\n",
        "print(friend['Age'])\n",
        "print(friend['City'])"
      ],
      "metadata": {
        "colab": {
          "base_uri": "https://localhost:8080/"
        },
        "id": "Jd2dLtamXpm2",
        "outputId": "958dda4d-ce13-483b-fdc7-da5735c6c226"
      },
      "execution_count": 78,
      "outputs": [
        {
          "output_type": "stream",
          "name": "stdout",
          "text": [
            "{'First name': 'Raheel', 'Last name': 'Saeed', 'Age': '18', 'City': 'Dubai'}\n",
            "Raheel\n",
            "Saeed\n",
            "18\n",
            "Dubai\n"
          ]
        }
      ]
    },
    {
      "cell_type": "code",
      "source": [
        "Glossary={\n",
        "    'concatenate':'to join two string',\n",
        "    'for loops':'used to perform action on each item in a list',\n",
        "    'list':'used to store multiple objects together'}\n",
        "print('concatenate:')\n",
        "print(Glossary['concatenate'])\n",
        "print('for loops:')\n",
        "print(Glossary['for loops'])\n",
        "print('list:')\n",
        "print(Glossary['list'])\n"
      ],
      "metadata": {
        "colab": {
          "base_uri": "https://localhost:8080/"
        },
        "id": "bIIXi-aSY7EF",
        "outputId": "7295900e-2768-451c-c842-a90d8d6cac27"
      },
      "execution_count": 81,
      "outputs": [
        {
          "output_type": "stream",
          "name": "stdout",
          "text": [
            "concatenate:\n",
            "to join two string\n",
            "for loops:\n",
            "used to perform action on each item in a list\n",
            "list:\n",
            "used to store multiple objects together\n"
          ]
        }
      ]
    }
  ]
}