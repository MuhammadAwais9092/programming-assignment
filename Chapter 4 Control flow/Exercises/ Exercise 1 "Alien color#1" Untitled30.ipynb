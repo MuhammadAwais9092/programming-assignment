{
  "nbformat": 4,
  "nbformat_minor": 0,
  "metadata": {
    "colab": {
      "provenance": [],
      "authorship_tag": "ABX9TyMPZWUkCulUd0sJ1VNgl+zR",
      "include_colab_link": true
    },
    "kernelspec": {
      "name": "python3",
      "display_name": "Python 3"
    },
    "language_info": {
      "name": "python"
    }
  },
  "cells": [
    {
      "cell_type": "markdown",
      "metadata": {
        "id": "view-in-github",
        "colab_type": "text"
      },
      "source": [
        "<a href=\"https://colab.research.google.com/github/MuhammadAwais9092/programming-assignment/blob/main/Chapter%204%20Control%20flow/Exercises/%20Exercise%201%20%22Alien%20color%231%22%20Untitled30.ipynb\" target=\"_parent\"><img src=\"https://colab.research.google.com/assets/colab-badge.svg\" alt=\"Open In Colab\"/></a>"
      ]
    },
    {
      "cell_type": "code",
      "execution_count": null,
      "metadata": {
        "colab": {
          "base_uri": "https://localhost:8080/"
        },
        "id": "PHdP3kuoAXpA",
        "outputId": "a42003ef-cd30-4940-edd8-486f57d834a1"
      },
      "outputs": [
        {
          "output_type": "stream",
          "name": "stdout",
          "text": [
            "Player earned 5 points\n"
          ]
        }
      ],
      "source": [
        "# Chapter 4 Exercise 1 \"Alien colors\"\n",
        "\n",
        "\n",
        "# assigning color of alien to variable alien_color\n",
        "alien_color='green'\n",
        "if alien_color=='green': # Print if true\n",
        "  print('Player earned 5 points')\n"
      ]
    },
    {
      "cell_type": "code",
      "source": [
        "# assigning color of alien to variable alien_color\n",
        "alien_color='green'\n",
        "# assigning color of alien to variable alien_color\n",
        "if alien_color=='red': # Print if true\n",
        "  print('Player earned 5 points')"
      ],
      "metadata": {
        "id": "dx54jgZMAr5W"
      },
      "execution_count": null,
      "outputs": []
    }
  ]
}