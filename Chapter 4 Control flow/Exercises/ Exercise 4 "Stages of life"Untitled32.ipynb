{
  "nbformat": 4,
  "nbformat_minor": 0,
  "metadata": {
    "colab": {
      "provenance": [],
      "authorship_tag": "ABX9TyNprxlqLJ4/dNTeLViou69I",
      "include_colab_link": true
    },
    "kernelspec": {
      "name": "python3",
      "display_name": "Python 3"
    },
    "language_info": {
      "name": "python"
    }
  },
  "cells": [
    {
      "cell_type": "markdown",
      "metadata": {
        "id": "view-in-github",
        "colab_type": "text"
      },
      "source": [
        "<a href=\"https://colab.research.google.com/github/MuhammadAwais9092/programming-assignment/blob/main/Chapter%204%20Control%20flow/Exercises/%20Exercise%204%20%22Stages%20of%20life%22Untitled32.ipynb\" target=\"_parent\"><img src=\"https://colab.research.google.com/assets/colab-badge.svg\" alt=\"Open In Colab\"/></a>"
      ]
    },
    {
      "cell_type": "code",
      "execution_count": null,
      "metadata": {
        "colab": {
          "base_uri": "https://localhost:8080/"
        },
        "id": "MIQISd_sEjOY",
        "outputId": "ba64facb-72c3-4f44-acbf-f809c38e3966"
      },
      "outputs": [
        {
          "output_type": "stream",
          "name": "stdout",
          "text": [
            "Enter age: \n",
            "19\n",
            "The person is a Teenager\n"
          ]
        }
      ],
      "source": [
        "# Chapter 4 Exercise 4 \"Stages of Life \"\n",
        "# Enter Age\n",
        "print(\"Enter age: \")\n",
        "age=int(input())\n",
        "\n",
        "if age<13:\n",
        "  if age<2:          #If the person is less than 2 years old.\n",
        "    print(\"The person is a Baby\")\n",
        "  elif age<4:        #If the person is at least 2 years old but less than 4.\n",
        "    print(\"The person is a toddler\")\n",
        "  else :             #If the person is at least 4 years old but less than 13.\n",
        "    print(\"The person is a Kid\") \n",
        "else:\n",
        " if age>=13:\n",
        "   if age<20:        #If the person is at least 13 years old but less than 20.\n",
        "    print(\"The person is a Teenager\")\n",
        "   elif age<65:      #If the person is at least 20 years old but less than 65.\n",
        "    print(\"The person is an Adult\")\n",
        "   else :            #If the person is age 65 or older.  \n",
        "    print(\"The person is an Elder\")     "
      ]
    }
  ]
}