{
  "nbformat": 4,
  "nbformat_minor": 0,
  "metadata": {
    "colab": {
      "provenance": [],
      "authorship_tag": "ABX9TyMwxD6zhxfUab2yc5MWN3TN",
      "include_colab_link": true
    },
    "kernelspec": {
      "name": "python3",
      "display_name": "Python 3"
    },
    "language_info": {
      "name": "python"
    }
  },
  "cells": [
    {
      "cell_type": "markdown",
      "metadata": {
        "id": "view-in-github",
        "colab_type": "text"
      },
      "source": [
        "<a href=\"https://colab.research.google.com/github/MuhammadAwais9092/programming-assignment/blob/main/Chapter%204%20Control%20flow/Exercises/%20Exercise%205%20%22Favorite%20fruit%22%20Untitled40.ipynb\" target=\"_parent\"><img src=\"https://colab.research.google.com/assets/colab-badge.svg\" alt=\"Open In Colab\"/></a>"
      ]
    },
    {
      "cell_type": "code",
      "execution_count": 2,
      "metadata": {
        "colab": {
          "base_uri": "https://localhost:8080/"
        },
        "id": "sdzSuDoiVp27",
        "outputId": "66875446-6399-4470-f0a5-3e5b90308f2e"
      },
      "outputs": [
        {
          "output_type": "stream",
          "name": "stdout",
          "text": [
            "Mango is very rich in vitamins and sweet!, It is one of my favourite fruits.\n",
            "Grape fruit is sweet and also can improve heart health.\n",
            "Orange is full of vitamin C!, so it is my favourite.\n"
          ]
        }
      ],
      "source": [
        "# Chapter 4 Exercise 5 \"favourites fruits lists\"\n",
        "\n",
        "# List of my favourite fruits\n",
        "favourite_fruits=['Mango','Grapes','Orange']\n",
        "\n",
        "if 'Mango' in favourite_fruits:\n",
        "  print('Mango is very rich in vitamins and sweet!, It is one of my favourite fruits.')\n",
        "\n",
        "if  'Grapes' in favourite_fruits:\n",
        "  print('Grape fruit is sweet and also can improve heart health.')\n",
        "\n",
        "if  'Gava' in favourite_fruits:\n",
        "  print('you really like Gava!')\n",
        "\n",
        "if 'Orange' in favourite_fruits:\n",
        "  print('Orange is full of vitamin C!, so it is my favourite.')\n",
        "\n",
        "if 'Apricot' in favourite_fruits:\n",
        "  print('you really like Apricot!')"
      ]
    }
  ]
}