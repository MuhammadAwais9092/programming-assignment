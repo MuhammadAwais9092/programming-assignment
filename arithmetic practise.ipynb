{
  "nbformat": 4,
  "nbformat_minor": 0,
  "metadata": {
    "colab": {
      "provenance": [],
      "authorship_tag": "ABX9TyOSSBXpB4iFR9SYrFNTZ9Xw",
      "include_colab_link": true
    },
    "kernelspec": {
      "name": "python3",
      "display_name": "Python 3"
    },
    "language_info": {
      "name": "python"
    }
  },
  "cells": [
    {
      "cell_type": "markdown",
      "metadata": {
        "id": "view-in-github",
        "colab_type": "text"
      },
      "source": [
        "<a href=\"https://colab.research.google.com/github/MuhammadAwais9092/programming-assignment/blob/main/arithmetic%20practise.ipynb\" target=\"_parent\"><img src=\"https://colab.research.google.com/assets/colab-badge.svg\" alt=\"Open In Colab\"/></a>"
      ]
    },
    {
      "cell_type": "code",
      "execution_count": 8,
      "metadata": {
        "colab": {
          "base_uri": "https://localhost:8080/"
        },
        "id": "ET3oCDkgx2xq",
        "outputId": "785af1be-8f09-4ac3-a4cf-42a271360f33"
      },
      "outputs": [
        {
          "output_type": "stream",
          "name": "stdout",
          "text": [
            "enter two number for calculation\n",
            "6\n",
            "4\n",
            "The Addition of 6 and 4 is 10\n"
          ]
        }
      ],
      "source": [
        "# Asking user for twon numbers\n",
        "print(\"enter two number for calculation\")\n",
        "# Assigning the number to variables\n",
        "a=int(input())\n",
        "b=int(input())\n",
        "\n",
        "#calculation\n",
        "print('The Addition of '+str(a)+' and '+str(b)+' is',str(a+b))\n"
      ]
    },
    {
      "cell_type": "code",
      "source": [
        "# Asking user for twon numbers\n",
        "print(\"enter two number for calculation\")\n",
        "# Assigning the number to variables\n",
        "a=int(input())\n",
        "b=int(input())\n",
        "\n",
        "#calculation\n",
        "print('The subtraction of '+str(a)+' and '+str(b)+' is',str(a-b))"
      ],
      "metadata": {
        "colab": {
          "base_uri": "https://localhost:8080/"
        },
        "id": "MxiRdnIa2rlb",
        "outputId": "ab5d3e67-7007-40dc-dc6a-1b3170b054fa"
      },
      "execution_count": 10,
      "outputs": [
        {
          "output_type": "stream",
          "name": "stdout",
          "text": [
            "enter two number for calculation\n",
            "6\n",
            "4\n",
            "The subtraction of 6 and 4 is 2\n"
          ]
        }
      ]
    },
    {
      "cell_type": "code",
      "source": [
        "# Asking user for twon numbers\n",
        "print(\"enter two number for calculation\")\n",
        "# Assigning the number to variables\n",
        "a=int(input())\n",
        "b=int(input())\n",
        "\n",
        "#calculation\n",
        "print('The Multiplication of '+str(a)+' and '+str(b)+' is',str(a*b))"
      ],
      "metadata": {
        "colab": {
          "base_uri": "https://localhost:8080/"
        },
        "id": "x3PO3Diw2-I9",
        "outputId": "2b0475ca-2dcb-4134-d514-287170356f29"
      },
      "execution_count": 11,
      "outputs": [
        {
          "output_type": "stream",
          "name": "stdout",
          "text": [
            "enter two number for calculation\n",
            "6\n",
            "4\n",
            "The Multiplication of 6 and 4 is 24\n"
          ]
        }
      ]
    },
    {
      "cell_type": "code",
      "source": [
        "# Asking user for twon numbers\n",
        "print(\"enter two number for calculation\")\n",
        "# Assigning the number to variables\n",
        "a=int(input())\n",
        "b=int(input())\n",
        "\n",
        "#calculation\n",
        "print('The division of '+str(a)+' and '+str(b)+' is',str(a/b))"
      ],
      "metadata": {
        "colab": {
          "base_uri": "https://localhost:8080/"
        },
        "id": "hEUNyHda3IH6",
        "outputId": "0e7bf491-1da6-451e-b213-a1dd86163779"
      },
      "execution_count": 17,
      "outputs": [
        {
          "output_type": "stream",
          "name": "stdout",
          "text": [
            "enter two number for calculation\n",
            "999\n",
            "2\n",
            "The division of 999 and 2 is 499.5\n"
          ]
        }
      ]
    },
    {
      "cell_type": "code",
      "source": [
        "# Asking user for twon numbers\n",
        "print(\"enter two number for calculation\")\n",
        "# Assigning the number to variables\n",
        "a=int(input())\n",
        "b=int(input())\n",
        "\n",
        "#calculation\n",
        "print('The Modulus of '+str(a)+' and '+str(b)+' is',str(a%b))"
      ],
      "metadata": {
        "colab": {
          "base_uri": "https://localhost:8080/"
        },
        "id": "Qwo0kInD31jx",
        "outputId": "29d6ada4-0194-49b1-de12-487aeaba86f3"
      },
      "execution_count": 23,
      "outputs": [
        {
          "output_type": "stream",
          "name": "stdout",
          "text": [
            "enter two number for calculation\n",
            "100\n",
            "51\n",
            "The Modulus of 100 and 51 is 49\n"
          ]
        }
      ]
    },
    {
      "cell_type": "code",
      "source": [
        "# Asking user for twon numbers\n",
        "print(\"enter two number for calculation\")\n",
        "# Assigning the number to variables\n",
        "a=int(input())\n",
        "b=int(input())\n",
        "\n",
        "#calculation\n",
        "print('The Power of '+str(a)+' and '+str(b)+' is',str(a**b))"
      ],
      "metadata": {
        "colab": {
          "base_uri": "https://localhost:8080/"
        },
        "id": "sN7Uw1jD4uYN",
        "outputId": "dce4c353-8929-41c5-e12f-bfe4cec4b05d"
      },
      "execution_count": 24,
      "outputs": [
        {
          "output_type": "stream",
          "name": "stdout",
          "text": [
            "enter two number for calculation\n",
            "2\n",
            "3\n",
            "The Power of 2 and 3 is 8\n"
          ]
        }
      ]
    }
  ]
}