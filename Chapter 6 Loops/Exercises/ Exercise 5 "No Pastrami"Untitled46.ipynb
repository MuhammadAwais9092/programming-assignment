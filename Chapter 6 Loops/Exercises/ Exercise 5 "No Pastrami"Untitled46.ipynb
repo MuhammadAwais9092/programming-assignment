{
  "nbformat": 4,
  "nbformat_minor": 0,
  "metadata": {
    "colab": {
      "provenance": [],
      "authorship_tag": "ABX9TyMn7SIyPiQ6N+v/K0Dnuww/",
      "include_colab_link": true
    },
    "kernelspec": {
      "name": "python3",
      "display_name": "Python 3"
    },
    "language_info": {
      "name": "python"
    }
  },
  "cells": [
    {
      "cell_type": "markdown",
      "metadata": {
        "id": "view-in-github",
        "colab_type": "text"
      },
      "source": [
        "<a href=\"https://colab.research.google.com/github/MuhammadAwais9092/programming-assignment/blob/main/Chapter%206%20Loops/Exercises/%20Exercise%205%20%22No%20Pastrami%22Untitled46.ipynb\" target=\"_parent\"><img src=\"https://colab.research.google.com/assets/colab-badge.svg\" alt=\"Open In Colab\"/></a>"
      ]
    },
    {
      "cell_type": "code",
      "execution_count": 2,
      "metadata": {
        "colab": {
          "base_uri": "https://localhost:8080/"
        },
        "id": "vcuTneGgTq7L",
        "outputId": "0e08ba29-f4c7-4ac1-cbeb-5fa3671588b0"
      },
      "outputs": [
        {
          "output_type": "stream",
          "name": "stdout",
          "text": [
            "Deli has run out of Pastrami.\n",
            "Finished sandwich includes:\n",
            "['egg', 'grilled cheese', 'roast beef']\n"
          ]
        }
      ],
      "source": [
        "# Chapter 6 Exercise 5 \"No Pastrami\"\n",
        "\n",
        "# List of sandwich with inclusion of pastrami\n",
        "sandwich_orders = ['egg','grilled cheese','roast beef','pastrami']\n",
        "# Printing message that:\n",
        "print('Deli has run out of Pastrami.')\n",
        "while 'pastrami'in sandwich_orders:\n",
        "   # Removing pastrami\n",
        "   sandwich_orders.remove('pastrami')\n",
        "#Printing final order again\n",
        "   print(\"Finished sandwich includes:\")\n",
        "   print(sandwich_orders)"
      ]
    }
  ]
}