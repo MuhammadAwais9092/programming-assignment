{
  "nbformat": 4,
  "nbformat_minor": 0,
  "metadata": {
    "colab": {
      "provenance": [],
      "authorship_tag": "ABX9TyMDlQn2M7t6KTemdFcZAXVL",
      "include_colab_link": true
    },
    "kernelspec": {
      "name": "python3",
      "display_name": "Python 3"
    },
    "language_info": {
      "name": "python"
    }
  },
  "cells": [
    {
      "cell_type": "markdown",
      "metadata": {
        "id": "view-in-github",
        "colab_type": "text"
      },
      "source": [
        "<a href=\"https://colab.research.google.com/github/MuhammadAwais9092/programming-assignment/blob/main/Chapter%206%20Loops/Exercises/%20%20Exercise%201%20%22Pizza%20Toppings%22%20Untitled41.ipynb\" target=\"_parent\"><img src=\"https://colab.research.google.com/assets/colab-badge.svg\" alt=\"Open In Colab\"/></a>"
      ]
    },
    {
      "cell_type": "code",
      "execution_count": 21,
      "metadata": {
        "colab": {
          "base_uri": "https://localhost:8080/"
        },
        "id": "CeId9yDpvVdJ",
        "outputId": "4d9131ec-420b-4f49-f276-a74d3bdcc779"
      },
      "outputs": [
        {
          "output_type": "stream",
          "name": "stdout",
          "text": [
            "\n",
            "please enter the name of the toppings you love to have:\n",
            "And please type 'quit' when you are finished:\n",
            " macaroni\n",
            "Your Pizza with the topping of ' macaroni ' will be ready in 10 minutes\n",
            "\n",
            "please enter the name of the toppings you love to have:\n",
            "And please type 'quit' when you are finished:\n",
            " quit\n",
            "Your Pizza with the topping of ' quit ' will be ready in 10 minutes\n",
            "ok thank you for oreder\n"
          ]
        }
      ],
      "source": [
        "# Chapter 6 Exercise 1 \"Pizza Toppings\"\n",
        "\n",
        "# Asking for the type of topping\n",
        "Pizza_toppings='\\nplease enter the name of the toppings you love to have:'\n",
        "# Asking user if they want to finish type 'quit'\n",
        "Pizza_toppings+=\"\\nAnd please type 'quit' when you are finished:\\n \"\n",
        "while True:\n",
        "  #Input topping\n",
        "  Pizza=input(Pizza_toppings)\n",
        "  # Printing message for the topping included in pizza\n",
        "  print(\"Your Pizza with the topping of '\",Pizza,\"' will be ready in 10 minutes\")\n",
        "\n",
        "  if Pizza=='quit':\n",
        "    print(\"ok thank you for oreder\")\n",
        "    break  #Break statement\n",
        "\n",
        "    "
      ]
    }
  ]
}