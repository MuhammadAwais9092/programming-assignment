{
  "nbformat": 4,
  "nbformat_minor": 0,
  "metadata": {
    "colab": {
      "provenance": [],
      "authorship_tag": "ABX9TyPTFxrD9Q5MxybwiwKIwC90",
      "include_colab_link": true
    },
    "kernelspec": {
      "name": "python3",
      "display_name": "Python 3"
    },
    "language_info": {
      "name": "python"
    }
  },
  "cells": [
    {
      "cell_type": "markdown",
      "metadata": {
        "id": "view-in-github",
        "colab_type": "text"
      },
      "source": [
        "<a href=\"https://colab.research.google.com/github/MuhammadAwais9092/programming-assignment/blob/main/Chapter%206%20Loops/Exercises/%20%20Exercise%201%20%22Pizza%20Toppings%22%20Untitled41.ipynb\" target=\"_parent\"><img src=\"https://colab.research.google.com/assets/colab-badge.svg\" alt=\"Open In Colab\"/></a>"
      ]
    },
    {
      "cell_type": "code",
      "execution_count": 4,
      "metadata": {
        "colab": {
          "base_uri": "https://localhost:8080/"
        },
        "id": "CeId9yDpvVdJ",
        "outputId": "34c5e772-e3af-41be-8a30-6c40109061d3"
      },
      "outputs": [
        {
          "output_type": "stream",
          "name": "stdout",
          "text": [
            "\n",
            "please enter the name of the toppings you love to have:\n",
            "And please type 'quit' when you are finished: macaroni\n",
            "Your Pizza with the topping of ' macaroni ' will be ready in 10 minutes\n",
            "\n",
            "please enter the name of the toppings you love to have:\n",
            "And please type 'quit' when you are finished: quit\n",
            "Your Pizza with the topping of ' quit ' will be ready in 10 minutes\n"
          ]
        }
      ],
      "source": [
        "# Chapter 6 Exercise 1 \"Pizza Toppings\"\n",
        "\n",
        "# Asking for the type of topping\n",
        "Pizza_toppings='\\nplease enter the name of the toppings you love to have:'\n",
        "Pizza_toppings+=\"\\nAnd please type 'quit' when you are finished: \"\n",
        "while True:\n",
        "  Pizza=input(Pizza_toppings)\n",
        "  print(\"Your Pizza with the topping of '\",Pizza,\"' will be ready in 10 minutes\")\n",
        "\n",
        "  if Pizza=='quit':\n",
        "    break\n",
        "else:\n",
        "    print('I would love to have',Pizza.title(),'!')\n",
        "    print('I would love to have',Pizza.title(),'!')"
      ]
    }
  ]
}