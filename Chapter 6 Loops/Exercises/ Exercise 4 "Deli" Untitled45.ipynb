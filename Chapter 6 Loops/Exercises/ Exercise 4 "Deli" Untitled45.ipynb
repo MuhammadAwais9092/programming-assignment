{
  "nbformat": 4,
  "nbformat_minor": 0,
  "metadata": {
    "colab": {
      "provenance": [],
      "authorship_tag": "ABX9TyPVA05i3GprZcOZxi8iH0R9",
      "include_colab_link": true
    },
    "kernelspec": {
      "name": "python3",
      "display_name": "Python 3"
    },
    "language_info": {
      "name": "python"
    }
  },
  "cells": [
    {
      "cell_type": "markdown",
      "metadata": {
        "id": "view-in-github",
        "colab_type": "text"
      },
      "source": [
        "<a href=\"https://colab.research.google.com/github/MuhammadAwais9092/programming-assignment/blob/main/Chapter%206%20Loops/Exercises/%20Exercise%204%20%22Deli%22%20Untitled45.ipynb\" target=\"_parent\"><img src=\"https://colab.research.google.com/assets/colab-badge.svg\" alt=\"Open In Colab\"/></a>"
      ]
    },
    {
      "cell_type": "code",
      "execution_count": 5,
      "metadata": {
        "colab": {
          "base_uri": "https://localhost:8080/"
        },
        "id": "7HEKtLGlPV2x",
        "outputId": "85c79754-e52a-4b65-dcfb-de0ab021e51f"
      },
      "outputs": [
        {
          "output_type": "stream",
          "name": "stdout",
          "text": [
            "Your order of roast beef sandwich is here.\n",
            "\n",
            "\n",
            "Sandwich Ordered :\n",
            "roast beef sandwich.\n",
            "Your order of grilled cheese sandwich is here.\n",
            "\n",
            "\n",
            "Sandwich Ordered :\n",
            "roast beef sandwich.\n",
            "grilled cheese sandwich.\n",
            "Your order of egg sandwich is here.\n",
            "\n",
            "\n",
            "Sandwich Ordered :\n",
            "roast beef sandwich.\n",
            "grilled cheese sandwich.\n",
            "egg sandwich.\n"
          ]
        }
      ],
      "source": [
        "# Chapter 6 Exercise 4 \"Deli\" \n",
        "\n",
        "# Creating a list called sandwich_orders with names of different sandwiches\n",
        "sandwich_orders= ['egg','grilled cheese','roast beef']\n",
        "# Creating a list called finished_sandwich\n",
        "finished_sandwich=[]\n",
        "\n",
        "while sandwich_orders:\n",
        "  current_sandwich=sandwich_orders.pop()\n",
        "  print(\"Your order of \"+ current_sandwich+\" sandwich is here.\")# Printing message for sanwich given\n",
        "  finished_sandwich.append(current_sandwich)\n",
        "\n",
        "  print(\"\\n\")\n",
        "  print('Sandwich Ordered :')# ordered sandwich \n",
        "  for sandwich in finished_sandwich:\n",
        "    print(sandwich,'sandwich.')"
      ]
    }
  ]
}