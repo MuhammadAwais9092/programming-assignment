{
  "nbformat": 4,
  "nbformat_minor": 0,
  "metadata": {
    "colab": {
      "provenance": [],
      "authorship_tag": "ABX9TyOvZ84qzIeiBtsKZG0Dot+i",
      "include_colab_link": true
    },
    "kernelspec": {
      "name": "python3",
      "display_name": "Python 3"
    },
    "language_info": {
      "name": "python"
    }
  },
  "cells": [
    {
      "cell_type": "markdown",
      "metadata": {
        "id": "view-in-github",
        "colab_type": "text"
      },
      "source": [
        "<a href=\"https://colab.research.google.com/github/MuhammadAwais9092/programming-assignment/blob/main/Chapter%206%20Loops/Exercises/%20Exercise%202%20%22Movie%20Tickets%22Untitled43.ipynb\" target=\"_parent\"><img src=\"https://colab.research.google.com/assets/colab-badge.svg\" alt=\"Open In Colab\"/></a>"
      ]
    },
    {
      "cell_type": "code",
      "execution_count": 7,
      "metadata": {
        "colab": {
          "base_uri": "https://localhost:8080/"
        },
        "id": "Gdm3MPEBLCtW",
        "outputId": "a0607295-4fe4-4ae7-be14-813ef0862556"
      },
      "outputs": [
        {
          "output_type": "stream",
          "name": "stdout",
          "text": [
            "\n",
            "please enter your age:11\n",
            "your ticket cost is 10$\n"
          ]
        }
      ],
      "source": [
        "# Chapter 6 Exercise 2 \"Movie Tickets\"\n",
        "\n",
        "#Asking for age\n",
        "age='\\nplease enter your age:'\n",
        "age=input(age) #Input age\n",
        "while True: \n",
        " break\n",
        "# If the person is under the age of 3 \n",
        "if int(age) < 3:\n",
        "   print(\"your ticket is free\")\n",
        " \n",
        " # If the person is between 3 and 12\n",
        "elif int(age) <= 12:\n",
        "  print(\"your ticket cost is 10$\")\n",
        "\n",
        "# If above the age of 12\n",
        "else:\n",
        "   print(\"your ticket cost is 15$\")"
      ]
    }
  ]
}