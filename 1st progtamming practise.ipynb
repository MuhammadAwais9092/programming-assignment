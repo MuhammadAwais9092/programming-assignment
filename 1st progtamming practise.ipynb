{
  "nbformat": 4,
  "nbformat_minor": 0,
  "metadata": {
    "colab": {
      "provenance": []
    },
    "kernelspec": {
      "name": "python3",
      "display_name": "Python 3"
    },
    "language_info": {
      "name": "python"
    }
  },
  "cells": [
    {
      "cell_type": "code",
      "execution_count": null,
      "metadata": {
        "colab": {
          "base_uri": "https://localhost:8080/"
        },
        "id": "hJGVVW27xj1W",
        "outputId": "b2165a73-5dd2-44b7-808e-fae140cf5e26"
      },
      "outputs": [
        {
          "output_type": "stream",
          "name": "stdout",
          "text": [
            "Hello everyone\n",
            "My name is Muhammad Awais\n",
            "Im doing my first year of university\n",
            "The name of university is bath spa\n"
          ]
        }
      ],
      "source": [
        "print(\"Hello everyone\")\n",
        "print(\"My name is Muhammad Awais\")\n",
        "print(\"Im doing my first year of university\")\n",
        "print(\"The name of university is bath spa\")\n"
      ]
    },
    {
      "cell_type": "code",
      "source": [],
      "metadata": {
        "id": "hmZhNjNcFGYi"
      },
      "execution_count": null,
      "outputs": []
    }
  ]
}