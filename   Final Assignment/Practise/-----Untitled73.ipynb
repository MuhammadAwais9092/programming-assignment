{
  "nbformat": 4,
  "nbformat_minor": 0,
  "metadata": {
    "colab": {
      "provenance": [],
      "authorship_tag": "ABX9TyOdeypEsnFrTN0DBXaok8yB",
      "include_colab_link": true
    },
    "kernelspec": {
      "name": "python3",
      "display_name": "Python 3"
    },
    "language_info": {
      "name": "python"
    }
  },
  "cells": [
    {
      "cell_type": "markdown",
      "metadata": {
        "id": "view-in-github",
        "colab_type": "text"
      },
      "source": [
        "<a href=\"https://colab.research.google.com/github/MuhammadAwais9092/programming-assignment/blob/main/%20%20Final%20Assignment/Practise/-----Untitled73.ipynb\" target=\"_parent\"><img src=\"https://colab.research.google.com/assets/colab-badge.svg\" alt=\"Open In Colab\"/></a>"
      ]
    },
    {
      "cell_type": "code",
      "source": [
        "items_in_stock = [\n",
        "    {\n",
        "        \"item_id\": 0,\n",
        "        \"item_name\": \"Milky Bar\",\n",
        "        'item_price': 60,\n",
        "    },\n",
        "    {\n",
        "        \"item_id\": 1,\n",
        "        \"item_name\": \"Fanta\",\n",
        "        'item_price': 90,\n",
        "    },\n",
        "    {\n",
        "        \"item_id\": 2,\n",
        "        \"item_name\": \"Kurkure\",\n",
        "        'item_price': 25,\n",
        "    },\n",
        "    {\n",
        "        \"item_id\": 3,\n",
        "        \"item_name\": \"Thumbs Up\",\n",
        "        'item_price': 90,\n",
        "    },\n",
        "    {\n",
        "        \"item_id\": 4,\n",
        "        \"item_name\": \"Wai-Wai\",\n",
        "        'item_price': 20,\n",
        "    },\n",
        "]\n",
        "\n",
        "\n",
        "the_item = []\n",
        "\n",
        "reciept = \"\"\"\n",
        "\\t\\tPRODUCT -- PRICE\n",
        "\"\"\"\n",
        "\n",
        "sum = 0\n",
        "\n",
        "run = True\n",
        "\n",
        "#Printing the list of products in vending machine\n",
        "print(\"----------The Items In Stock Are----------\\n\\n\")\n",
        "\n",
        "for i in items_in_stock:\n",
        "    print(f\"Item: {i['item_name']} --- Price: {i['item_price']} --- Item ID: {i['item_id']}\")\n",
        "\n",
        "\n",
        "def machine(items_in_stock, run, the_item):\n",
        "    while run:\n",
        "\n",
        "        buy_item = int(input(\"\\n\\nEnter the item code of the product you want to buy: \"))\n",
        "\n",
        "        if buy_item < len(items_in_stock):\n",
        "            the_item.append(items_in_stock[buy_item])\n",
        "        else:\n",
        "            print(\"THE PRODUCT ID IS WRONG!\")\n",
        "\n",
        "        more_items = str(input(\"press any key to add more items and press q to quit.. \"))\n",
        "\n",
        "        if more_items == \"q\":\n",
        "            run = False\n",
        "\n",
        "    rec_bool = int(input((\"1. print the reciept? 2. only print the total sum .. \")))\n",
        "    if rec_bool == 1:\n",
        "        print(create_reciept(the_item, reciept))\n",
        "    elif rec_bool == 2:\n",
        "        print(sum(the_item))\n",
        "    else:\n",
        "        print(\"INVALID ENTRY\")\n",
        "\n",
        "\n",
        "def sum(the_item):\n",
        "    sum = 0\n",
        "\n",
        "    for i in the_item:\n",
        "        sum += i[\"item_price\"]\n",
        "\n",
        "    return sum\n",
        "\n",
        "def create_reciept(the_item, reciept):\n",
        "\n",
        "    for i in the_item:\n",
        "        reciept += f\"\"\"\n",
        "        \\t{i[\"item_name\"]} -- {i['item_price']}\n",
        "        \"\"\"\n",
        "\n",
        "    reciept += f\"\"\"\n",
        "        \\tTotal --- {sum(the_item)}\n",
        "        \n",
        "        \n",
        "        \"\"\"\n",
        "    return reciept\n",
        "\n",
        "\n",
        "if __name__ == \"__main__\":\n",
        "    machine(items_in_stock, run, the_item)"
      ],
      "metadata": {
        "colab": {
          "base_uri": "https://localhost:8080/"
        },
        "id": "cY-ZRk4AnH_B",
        "outputId": "a837ed80-7a4b-4655-cc34-8cf5f9e3c8ac"
      },
      "execution_count": null,
      "outputs": [
        {
          "output_type": "stream",
          "name": "stdout",
          "text": [
            "----------The Items In Stock Are----------\n",
            "\n",
            "\n",
            "Item: Milky Bar --- Price: 60 --- Item ID: 0\n",
            "Item: Fanta --- Price: 90 --- Item ID: 1\n",
            "Item: Kurkure --- Price: 25 --- Item ID: 2\n",
            "Item: Thumbs Up --- Price: 90 --- Item ID: 3\n",
            "Item: Wai-Wai --- Price: 20 --- Item ID: 4\n"
          ]
        }
      ]
    }
  ]
}