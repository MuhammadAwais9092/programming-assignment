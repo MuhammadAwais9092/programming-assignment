{
  "nbformat": 4,
  "nbformat_minor": 0,
  "metadata": {
    "colab": {
      "provenance": [],
      "authorship_tag": "ABX9TyPKsigVzN1UWoqWrqxihi6n",
      "include_colab_link": true
    },
    "kernelspec": {
      "name": "python3",
      "display_name": "Python 3"
    },
    "language_info": {
      "name": "python"
    }
  },
  "cells": [
    {
      "cell_type": "markdown",
      "metadata": {
        "id": "view-in-github",
        "colab_type": "text"
      },
      "source": [
        "<a href=\"https://colab.research.google.com/github/MuhammadAwais9092/programming-assignment/blob/main/Chapter%204/Exercises/%20Exercise%202%20%22Alien%20color%20%232%22%20Untitled31.ipynb\" target=\"_parent\"><img src=\"https://colab.research.google.com/assets/colab-badge.svg\" alt=\"Open In Colab\"/></a>"
      ]
    },
    {
      "cell_type": "code",
      "execution_count": 1,
      "metadata": {
        "colab": {
          "base_uri": "https://localhost:8080/"
        },
        "id": "N_asHLnnBhpb",
        "outputId": "0e837a53-35ee-4a5b-a342-e229281a592b"
      },
      "outputs": [
        {
          "output_type": "stream",
          "name": "stdout",
          "text": [
            "player earned 5 points\n"
          ]
        }
      ],
      "source": [
        "# Chapter 4 Exercise 2 \"Alien coloe #2\"\n",
        "\n",
        "# assigning color to the variable\n",
        "alien_color='green'\n",
        "# If statemment\n",
        "if alien_color=='green': \n",
        "  print('Player earned 5 points')\n",
        "# else statement\n",
        "else:\n",
        "  print('Player earned 10 points')\n",
        "\n"
      ]
    },
    {
      "cell_type": "code",
      "source": [
        "# assigning color to the variable\n",
        "alien_color='red'\n",
        "# If statemment\n",
        "if alien_color=='green': \n",
        "  print('Player earned 5 points')\n",
        "# else statement\n",
        "else:\n",
        "  print('Player earned 10 points')"
      ],
      "metadata": {
        "colab": {
          "base_uri": "https://localhost:8080/"
        },
        "id": "Kr0r7ovaB8J4",
        "outputId": "78f0dbcb-fb7e-4455-a66b-bf55d2a43c9b"
      },
      "execution_count": 2,
      "outputs": [
        {
          "output_type": "stream",
          "name": "stdout",
          "text": [
            "player earned 10 points\n"
          ]
        }
      ]
    }
  ]
}