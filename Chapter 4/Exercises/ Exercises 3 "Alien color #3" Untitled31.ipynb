{
  "nbformat": 4,
  "nbformat_minor": 0,
  "metadata": {
    "colab": {
      "provenance": [],
      "authorship_tag": "ABX9TyPejzItsN01U+Ahubmd6FxY",
      "include_colab_link": true
    },
    "kernelspec": {
      "name": "python3",
      "display_name": "Python 3"
    },
    "language_info": {
      "name": "python"
    }
  },
  "cells": [
    {
      "cell_type": "markdown",
      "metadata": {
        "id": "view-in-github",
        "colab_type": "text"
      },
      "source": [
        "<a href=\"https://colab.research.google.com/github/MuhammadAwais9092/programming-assignment/blob/main/Chapter%204/Exercises/%20Exercises%203%20%22Alien%20color%20%233%22%20Untitled31.ipynb\" target=\"_parent\"><img src=\"https://colab.research.google.com/assets/colab-badge.svg\" alt=\"Open In Colab\"/></a>"
      ]
    },
    {
      "cell_type": "code",
      "execution_count": 14,
      "metadata": {
        "colab": {
          "base_uri": "https://localhost:8080/"
        },
        "id": "ErBTVwB_C-AK",
        "outputId": "72ede540-5e78-45a7-97d5-30836ed5a0e3"
      },
      "outputs": [
        {
          "output_type": "stream",
          "name": "stdout",
          "text": [
            "Enter color of Alien: Green, Yellow, Red\n",
            "Green\n",
            "player earned 5 points\n"
          ]
        }
      ],
      "source": [
        "# Chapter 4 Exercises 3 \"Alien color #3\"\n",
        "\n",
        "\n",
        "# Print choise of color\n",
        "print('Enter color of Alien: Green, Yellow, Red')\n",
        "alien_color=str(input()) # input data\n",
        "#if statement\n",
        "if alien_color=='Green': \n",
        "  print('player earned 5 points')# Print if true\n",
        "#elif statement\n",
        "elif alien_color=='Yellow':\n",
        "  print('player earned 10 points')# Print if true\n",
        "# else statement\n",
        "else :\n",
        "  print('player earned 15 points')#Print if tue"
      ]
    },
    {
      "cell_type": "code",
      "source": [
        "# Print choise of color\n",
        "print('Enter color of Alien: Green, Yellow, Red')\n",
        "alien_color=str(input()) # input data\n",
        "#if statement\n",
        "if alien_color=='Green': \n",
        "  print('player earned 5 points')# Print if true\n",
        "#elif statement\n",
        "elif alien_color=='Yellow':\n",
        "  print('player earned 10 points')# Print if true\n",
        "# else statement\n",
        "else :\n",
        "  print('player earned 15 points')#Print if tue"
      ],
      "metadata": {
        "colab": {
          "base_uri": "https://localhost:8080/"
        },
        "id": "nqJk7_ACFiT8",
        "outputId": "583f10ff-60a9-4634-86a2-b909fa179aaa"
      },
      "execution_count": 13,
      "outputs": [
        {
          "output_type": "stream",
          "name": "stdout",
          "text": [
            "Enter color of Alien: Green, Yellow, Red\n",
            "Yellow\n",
            "player earned 10 points\n"
          ]
        }
      ]
    },
    {
      "cell_type": "code",
      "source": [
        "# Print choise of color\n",
        "print('Enter color of Alien: Green, Yellow, Red')\n",
        "alien_color=str(input()) # input data\n",
        "#if statement\n",
        "if alien_color=='Green': \n",
        "  print('player earned 5 points')# Print if true\n",
        "#elif statement\n",
        "elif alien_color=='Yellow':\n",
        "  print('player earned 10 points')# Print if true\n",
        "# else statement\n",
        "else :\n",
        "  print('player earned 15 points')#Print if tue"
      ],
      "metadata": {
        "colab": {
          "base_uri": "https://localhost:8080/"
        },
        "id": "jprwgSSUFic6",
        "outputId": "afe1dc18-b453-462b-9e63-65493a49c5ec"
      },
      "execution_count": 15,
      "outputs": [
        {
          "output_type": "stream",
          "name": "stdout",
          "text": [
            "Enter color of Alien: Green, Yellow, Red\n",
            "Red\n",
            "player earned 15 points\n"
          ]
        }
      ]
    }
  ]
}