{
  "nbformat": 4,
  "nbformat_minor": 0,
  "metadata": {
    "colab": {
      "provenance": [],
      "authorship_tag": "ABX9TyPmQ1vWp9Ia+xlSnc2SZ7vN",
      "include_colab_link": true
    },
    "kernelspec": {
      "name": "python3",
      "display_name": "Python 3"
    },
    "language_info": {
      "name": "python"
    }
  },
  "cells": [
    {
      "cell_type": "markdown",
      "metadata": {
        "id": "view-in-github",
        "colab_type": "text"
      },
      "source": [
        "<a href=\"https://colab.research.google.com/github/MuhammadAwais9092/programming-assignment/blob/main/Chapter%203-%20Data%20Structures/Exercise%202%20%22Greetings%22%20Untitled22.ipynb\" target=\"_parent\"><img src=\"https://colab.research.google.com/assets/colab-badge.svg\" alt=\"Open In Colab\"/></a>"
      ]
    },
    {
      "cell_type": "code",
      "execution_count": 10,
      "metadata": {
        "colab": {
          "base_uri": "https://localhost:8080/"
        },
        "id": "IvG7UsRHI-9O",
        "outputId": "3ed59c7a-e405-43ab-ead1-983afc627625"
      },
      "outputs": [
        {
          "output_type": "stream",
          "name": "stdout",
          "text": [
            "Name of some of my friends are :\n",
            "Greetings 'Asif' I am very happy to invite you to my Birthday party.\n",
            "Greetings 'Raheel' I am very happy to invite you to my Birthday party.\n",
            "Greetings 'Saad' I am very happy to invite you to my Birthday party.\n",
            "Greetings 'Ahmed' I am very happy to invite you to my Birthday party.\n",
            "Greetings 'Sameer' I am very happy to invite you to my Birthday party.\n",
            "Greetings 'Dawood' I am very happy to invite you to my Birthday party.\n",
            "Greetings 'Mahad' I am very happy to invite you to my Birthday party.\n",
            "Greetings 'Fawaz' I am very happy to invite you to my Birthday party.\n"
          ]
        }
      ],
      "source": [
        "# chapter 3 exercise 2 \"Greetings\"\n",
        "\n",
        "Nameof_friends=['Asif','Raheel','Saad','Ahmed','Sameer','Dawood','Mahad','Fawaz']  # Making of list of friends\n",
        "print(\"Name of some of my friends are :\")\n",
        "# printing personalized message with everyones names\n",
        "print(\"Greetings '\"+Nameof_friends[0]+\"' I am very happy to invite you to my Birthday party.\")\n",
        "print(\"Greetings '\"+Nameof_friends[1]+\"' I am very happy to invite you to my Birthday party.\")\n",
        "print(\"Greetings '\"+Nameof_friends[2]+\"' I am very happy to invite you to my Birthday party.\")\n",
        "print(\"Greetings '\"+Nameof_friends[3]+\"' I am very happy to invite you to my Birthday party.\")\n",
        "print(\"Greetings '\"+Nameof_friends[4]+\"' I am very happy to invite you to my Birthday party.\")\n",
        "print(\"Greetings '\"+Nameof_friends[5]+\"' I am very happy to invite you to my Birthday party.\")\n",
        "print(\"Greetings '\"+Nameof_friends[6]+\"' I am very happy to invite you to my Birthday party.\")\n",
        "print(\"Greetings '\"+Nameof_friends[7]+\"' I am very happy to invite you to my Birthday party.\")"
      ]
    }
  ]
}