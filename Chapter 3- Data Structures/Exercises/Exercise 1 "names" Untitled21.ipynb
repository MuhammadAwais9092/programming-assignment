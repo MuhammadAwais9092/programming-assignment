{
  "nbformat": 4,
  "nbformat_minor": 0,
  "metadata": {
    "colab": {
      "provenance": [],
      "authorship_tag": "ABX9TyN10vuKrLd43jNeqKfccEkM",
      "include_colab_link": true
    },
    "kernelspec": {
      "name": "python3",
      "display_name": "Python 3"
    },
    "language_info": {
      "name": "python"
    }
  },
  "cells": [
    {
      "cell_type": "markdown",
      "metadata": {
        "id": "view-in-github",
        "colab_type": "text"
      },
      "source": [
        "<a href=\"https://colab.research.google.com/github/MuhammadAwais9092/programming-assignment/blob/main/Chapter%203-%20Data%20Structures/Exercises/Exercise%201%20%22names%22%20Untitled21.ipynb\" target=\"_parent\"><img src=\"https://colab.research.google.com/assets/colab-badge.svg\" alt=\"Open In Colab\"/></a>"
      ]
    },
    {
      "cell_type": "code",
      "execution_count": 2,
      "metadata": {
        "colab": {
          "base_uri": "https://localhost:8080/"
        },
        "id": "CJHNo98JFsqu",
        "outputId": "8a5bad72-70f3-42a9-8fc3-dc630b4cfd0b"
      },
      "outputs": [
        {
          "output_type": "stream",
          "name": "stdout",
          "text": [
            "Name of some of my friends are :\n",
            "Asif,\n",
            "Raheel,\n",
            "Saad,\n",
            "Ahmed,\n",
            "Sameer,\n",
            "Dawood,\n",
            "Mahad,\n",
            "Fawaz.\n"
          ]
        }
      ],
      "source": [
        "# Chapter 3 Exercise 1 \"names\"\n",
        "\n",
        "# Creating a list of friends in a list called Nmae_of_friends\n",
        "Name_of_friends=['Asif','Raheel','Saad','Ahmed','Sameer','Dawood','Mahad','Fawaz']  # Making of list of friends\n",
        "# Printing the list\n",
        "print(\"Name of some of my friends are :\")\n",
        "# Printing each element\n",
        "print(Name_of_friends[0]+',')\n",
        "print(Name_of_friends[1]+',')\n",
        "print(Name_of_friends[2]+',')\n",
        "print(Name_of_friends[3]+',')\n",
        "print(Name_of_friends[4]+',')\n",
        "print(Name_of_friends[5]+',')\n",
        "print(Name_of_friends[6]+',')\n",
        "print(Name_of_friends[7]+'.')"
      ]
    }
  ]
}