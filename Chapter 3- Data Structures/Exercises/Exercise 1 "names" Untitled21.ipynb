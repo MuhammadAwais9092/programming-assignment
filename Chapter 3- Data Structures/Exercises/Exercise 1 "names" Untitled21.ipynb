{
  "nbformat": 4,
  "nbformat_minor": 0,
  "metadata": {
    "colab": {
      "provenance": [],
      "authorship_tag": "ABX9TyNLAMpvi16j/8/KcI98qmYB",
      "include_colab_link": true
    },
    "kernelspec": {
      "name": "python3",
      "display_name": "Python 3"
    },
    "language_info": {
      "name": "python"
    }
  },
  "cells": [
    {
      "cell_type": "markdown",
      "metadata": {
        "id": "view-in-github",
        "colab_type": "text"
      },
      "source": [
        "<a href=\"https://colab.research.google.com/github/MuhammadAwais9092/programming-assignment/blob/main/Chapter%203-%20Data%20Structures/Exercises/Exercise%201%20%22names%22%20Untitled21.ipynb\" target=\"_parent\"><img src=\"https://colab.research.google.com/assets/colab-badge.svg\" alt=\"Open In Colab\"/></a>"
      ]
    },
    {
      "cell_type": "code",
      "execution_count": 7,
      "metadata": {
        "colab": {
          "base_uri": "https://localhost:8080/"
        },
        "id": "CJHNo98JFsqu",
        "outputId": "a6d64335-8f78-459a-9e66-2c75d2884a39"
      },
      "outputs": [
        {
          "output_type": "stream",
          "name": "stdout",
          "text": [
            "Name of some of my friends are :\n",
            "Asif,\n",
            "Raheel,\n",
            "Saad,\n",
            "Ahmed,\n",
            "Sameer,\n",
            "Dawood,\n",
            "Mahad,\n",
            "Fawaz.\n"
          ]
        }
      ],
      "source": [
        "# chapter 3 exercise 1 \"names\"\n",
        "\n",
        "Nameof_friends=['Asif','Raheel','Saad','Ahmed','Sameer','Dawood','Mahad','Fawaz']  # Making of list of friends\n",
        "print(\"Name of some of my friends are :\")\n",
        "print(Nameof_friends[0]+',')\n",
        "print(Nameof_friends[1]+',')\n",
        "print(Nameof_friends[2]+',')\n",
        "print(Nameof_friends[3]+',')\n",
        "print(Nameof_friends[4]+',')\n",
        "print(Nameof_friends[5]+',')\n",
        "print(Nameof_friends[6]+',')\n",
        "print(Nameof_friends[7]+'.')"
      ]
    }
  ]
}