{
  "nbformat": 4,
  "nbformat_minor": 0,
  "metadata": {
    "colab": {
      "provenance": [],
      "authorship_tag": "ABX9TyNwwbTsbF81UXbUVRLMJMhe",
      "include_colab_link": true
    },
    "kernelspec": {
      "name": "python3",
      "display_name": "Python 3"
    },
    "language_info": {
      "name": "python"
    }
  },
  "cells": [
    {
      "cell_type": "markdown",
      "metadata": {
        "id": "view-in-github",
        "colab_type": "text"
      },
      "source": [
        "<a href=\"https://colab.research.google.com/github/MuhammadAwais9092/programming-assignment/blob/main/Chapter%203-%20Data%20Structures/Exercises/Exercise%203%20%22Your%20own%20list%22%20Untitled23.ipynb\" target=\"_parent\"><img src=\"https://colab.research.google.com/assets/colab-badge.svg\" alt=\"Open In Colab\"/></a>"
      ]
    },
    {
      "cell_type": "code",
      "execution_count": 1,
      "metadata": {
        "colab": {
          "base_uri": "https://localhost:8080/"
        },
        "id": "eE5jd4XDL0A4",
        "outputId": "c3f9cd4d-3e04-42b9-b9b7-1ca214492a6f"
      },
      "outputs": [
        {
          "output_type": "stream",
          "name": "stdout",
          "text": [
            "When going to my classes I use a 'Metro'.\n",
            "I used to go to school on a 'Bicycle'.\n",
            "My family owns a 'Car' of white color.\n",
            "'Taxis' are very annoying and sometime expensive.\n",
            "The best mode of transportation in Dubai is 'Bus'.\n"
          ]
        }
      ],
      "source": [
        "# Chapter 3 Exercise 3 \"Yoor own list\"\n",
        "\n",
        "# List of my favourite mode of transportation \n",
        "Favourite_transportation=['bicycle','metro','car','bus','taxi']\n",
        "# Printing a personalized message for each transportation mode\n",
        "print(\"When going to my classes I use a '\"+Favourite_transportation[1].title()+\"'.\")\n",
        "print(\"I used to go to school on a '\"+Favourite_transportation[0].title()+\"'.\")\n",
        "print(\"My family owns a '\"+Favourite_transportation[2].title()+\"' of white color.\")\n",
        "print(\"'\"+Favourite_transportation[4].title()+\"s' are very annoying and sometime expensive.\")\n",
        "print(\"The best mode of transportation in Dubai is '\"+Favourite_transportation[3].title()+\"'.\")"
      ]
    }
  ]
}