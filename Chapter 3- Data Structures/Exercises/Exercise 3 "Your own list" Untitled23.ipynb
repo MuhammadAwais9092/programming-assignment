{
  "nbformat": 4,
  "nbformat_minor": 0,
  "metadata": {
    "colab": {
      "provenance": [],
      "authorship_tag": "ABX9TyNpgbVXxqi7qr+ECfljh2vG",
      "include_colab_link": true
    },
    "kernelspec": {
      "name": "python3",
      "display_name": "Python 3"
    },
    "language_info": {
      "name": "python"
    }
  },
  "cells": [
    {
      "cell_type": "markdown",
      "metadata": {
        "id": "view-in-github",
        "colab_type": "text"
      },
      "source": [
        "<a href=\"https://colab.research.google.com/github/MuhammadAwais9092/programming-assignment/blob/main/Chapter%203-%20Data%20Structures/Exercises/Exercise%203%20%22Your%20own%20list%22%20Untitled23.ipynb\" target=\"_parent\"><img src=\"https://colab.research.google.com/assets/colab-badge.svg\" alt=\"Open In Colab\"/></a>"
      ]
    },
    {
      "cell_type": "code",
      "execution_count": 7,
      "metadata": {
        "colab": {
          "base_uri": "https://localhost:8080/"
        },
        "id": "eE5jd4XDL0A4",
        "outputId": "4aaf1faa-f03b-4f6e-c2f2-bc146085005c"
      },
      "outputs": [
        {
          "output_type": "stream",
          "name": "stdout",
          "text": [
            "When going to my classes I use a 'Metro'.\n",
            "I used to go to school on a 'Bicycle'.\n",
            "My family owns a 'Car' of white color.\n",
            "'Taxis' are very annoying and sometime expensive.\n",
            "The best mode of transportation in Dubai is 'Bus'.\n"
          ]
        }
      ],
      "source": [
        "# Chapter 3 Exercise 3 \"Yoor own list\"\n",
        "# List of mmy favourite mode of transportation \n",
        "Favourite_transportation=['bicycle','metro','car','bus','taxi']\n",
        "print(\"When going to my classes I use a '\"+Favourite_transportation[1].title()+\"'.\")\n",
        "print(\"I used to go to school on a '\"+Favourite_transportation[0].title()+\"'.\")\n",
        "print(\"My family owns a '\"+Favourite_transportation[2].title()+\"' of white color.\")\n",
        "print(\"'\"+Favourite_transportation[4].title()+\"s' are very annoying and sometime expensive.\")\n",
        "print(\"The best mode of transportation in Dubai is '\"+Favourite_transportation[3].title()+\"'.\")"
      ]
    }
  ]
}