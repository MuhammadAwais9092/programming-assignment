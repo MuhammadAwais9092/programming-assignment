{
  "nbformat": 4,
  "nbformat_minor": 0,
  "metadata": {
    "colab": {
      "provenance": [],
      "authorship_tag": "ABX9TyPVbbiebGvBqcaAeRoVFZi6",
      "include_colab_link": true
    },
    "kernelspec": {
      "name": "python3",
      "display_name": "Python 3"
    },
    "language_info": {
      "name": "python"
    }
  },
  "cells": [
    {
      "cell_type": "markdown",
      "metadata": {
        "id": "view-in-github",
        "colab_type": "text"
      },
      "source": [
        "<a href=\"https://colab.research.google.com/github/MuhammadAwais9092/programming-assignment/blob/main/Chapter%203-%20Data%20Structures/Exercises/Exercise%204%20%22Guest%20list%22%20Untitled24.ipynb\" target=\"_parent\"><img src=\"https://colab.research.google.com/assets/colab-badge.svg\" alt=\"Open In Colab\"/></a>"
      ]
    },
    {
      "cell_type": "code",
      "execution_count": 2,
      "metadata": {
        "colab": {
          "base_uri": "https://localhost:8080/"
        },
        "id": "wd2yOx5URMPV",
        "outputId": "589602e6-660c-4082-cbf1-43a8c7135a8b"
      },
      "outputs": [
        {
          "output_type": "stream",
          "name": "stdout",
          "text": [
            "I miss you so much Grandpa, I would to love to invite you for a dinner.\n",
            "I want to learn a lot from you 'sir.Quaid', I am pleased to ivite you for a dinner.\n",
            "It's an honour to invite you for a dinner 'sir.Allama Muhammad Iqbal'\n"
          ]
        }
      ],
      "source": [
        "# Chapter 3 Exercise 4 \"Guest list\"\n",
        "\n",
        "# list of invitee's\n",
        "invitee_name=['Grandpa','Quaid','Allama Muhammad Iqbal']\n",
        "# Printing personal invitation to all my guest\n",
        "print(\"I miss you so much \"+invitee_name[0].title()+\", I would to love to invite you for a dinner.\")\n",
        "print(\"I want to learn a lot from you 'sir.\"+invitee_name[1].title()+\"', I am pleased to ivite you for a dinner.\")\n",
        "print(\"It's an honour to invite you for a dinner 'sir.\"+invitee_name[2].title()+\"'\")\n"
      ]
    }
  ]
}