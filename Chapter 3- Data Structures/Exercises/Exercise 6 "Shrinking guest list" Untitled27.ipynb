{
  "nbformat": 4,
  "nbformat_minor": 0,
  "metadata": {
    "colab": {
      "provenance": [],
      "authorship_tag": "ABX9TyPXR457A6XqSV1cQTmStX/3",
      "include_colab_link": true
    },
    "kernelspec": {
      "name": "python3",
      "display_name": "Python 3"
    },
    "language_info": {
      "name": "python"
    }
  },
  "cells": [
    {
      "cell_type": "markdown",
      "metadata": {
        "id": "view-in-github",
        "colab_type": "text"
      },
      "source": [
        "<a href=\"https://colab.research.google.com/github/MuhammadAwais9092/programming-assignment/blob/main/Chapter%203-%20Data%20Structures/Exercises/Exercise%206%20%22Shrinking%20guest%20list%22%20Untitled27.ipynb\" target=\"_parent\"><img src=\"https://colab.research.google.com/assets/colab-badge.svg\" alt=\"Open In Colab\"/></a>"
      ]
    },
    {
      "cell_type": "code",
      "execution_count": null,
      "metadata": {
        "id": "_tV0kIPe6I8t"
      },
      "outputs": [],
      "source": [
        "# Chapter 3 Exercise 6 \"Shrinking Guest List\"\n",
        "\n",
        "# list of invitee's\n",
        "invitee_name=['Grandpa','Quaid','Allama Muhammad Iqbal']\n",
        "# Printing personal invitation to all my guest\n",
        "print(\"I miss you so much \"+invitee_name[0].title()+\", I would to love to invite you for a dinner.\")\n",
        "print(\"I want to learn a lot from you 'sir.\"+invitee_name[1].title()+\"', I am pleased to ivite you for a dinner.\")\n",
        "print(\"It's an honour to invite you for a dinner 'sir.\"+invitee_name[2].title()+\"'\")\n",
        "# Printing message for not making it to dinner\n",
        "print(\"'sir.Quaid has said he won't be able make it to my dinner.' \")\n",
        "# Change of name in list\n",
        "invitee_name[1]=\"Mahatma Gandhi\"\n",
        "# New guest list\n",
        "print(\"New Guest list:\")\n",
        "print(invitee_name)\n",
        "# Printing new invitation for each\n",
        "print(\"I miss you so much \"+invitee_name[0].title()+\", I would to love to invite you for a dinner.\")\n",
        "print(\"I want to learn a lot from you 'sir.\"+invitee_name[1].title()+\"', I am pleased to ivite you for a dinner.\")\n",
        "print(\"I have a lot of respect for you 'sir.\"+invitee_name[2].title()+\"', so I would like to invite you for a dinner\")\n",
        "#printing message for reducing number of guest\n",
        "print(\"Due to dinner table not arriving on time I can only invite two of you.\")\n",
        "# Using pop function\n",
        "popped=invitee_name.pop()\n",
        "print(\"New Guest list:\")\n",
        "print(invitee_name) # New guest list\n",
        "print(\"I am really sorry for taking back my invitation sir.Allama Muhammmad, but I can say with certainty that I will invite you next time.\")\n",
        "# letting the other two guest know they are still invited\n",
        "print(\"I'm sorry for the disturbing message before, but Grandpa you are still invited for the dinner. \")\n",
        "print(\"sir.Gandhi you are still invited to my dinner, so please do come.\")\n",
        "# using del to remove the last remaining guest\n",
        "del invitee_name[0:2]\n",
        "print(invitee_name)"
      ]
    }
  ]
}