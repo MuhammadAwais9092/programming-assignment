{
  "nbformat": 4,
  "nbformat_minor": 0,
  "metadata": {
    "colab": {
      "provenance": [],
      "authorship_tag": "ABX9TyOOMBIVGmUiueMVihWDGAO6",
      "include_colab_link": true
    },
    "kernelspec": {
      "name": "python3",
      "display_name": "Python 3"
    },
    "language_info": {
      "name": "python"
    }
  },
  "cells": [
    {
      "cell_type": "markdown",
      "metadata": {
        "id": "view-in-github",
        "colab_type": "text"
      },
      "source": [
        "<a href=\"https://colab.research.google.com/github/MuhammadAwais9092/programming-assignment/blob/main/Chapter%203-%20Data%20Structures/Exercises/Exercise%205%20%22Change%20guest%20list%22%20Untitled25.ipynb\" target=\"_parent\"><img src=\"https://colab.research.google.com/assets/colab-badge.svg\" alt=\"Open In Colab\"/></a>"
      ]
    },
    {
      "cell_type": "code",
      "execution_count": 2,
      "metadata": {
        "colab": {
          "base_uri": "https://localhost:8080/"
        },
        "id": "Iz3HbQvQVGro",
        "outputId": "5e75e838-d23b-480f-df9a-380f121d681d"
      },
      "outputs": [
        {
          "output_type": "stream",
          "name": "stdout",
          "text": [
            "I miss you so much Grandpa, I would to love to invite you for a dinner.\n",
            "I want to learn a lot from you 'sir.Quaid', I am pleased to ivite you for a dinner.\n",
            "It's an honour to invite you for a dinner 'sir.Allama Muhammad Iqbal'\n",
            "'sir.Quaid has said he won't be able make it to my dinner.' \n",
            "New Guest list:\n",
            "['Grandpa', 'Mahatma Gandhi', 'Allama Muhammad Iqbal']\n",
            "I miss you so much Grandpa, I would to love to invite you for a dinner.\n",
            "I want to learn a lot from you 'sir.Mahatma Gandhi', I am pleased to ivite you for a dinner.\n",
            "I have a lot of respect for you 'sir.Allama Muhammad Iqbal', so I would like to invite you for a dinner\n"
          ]
        }
      ],
      "source": [
        "# Chapter 3 Exercise 5 \"Change Guest list\"\n",
        "\n",
        "# list of invitee's\n",
        "invitee_name=['Grandpa','Quaid','Allama Muhammad Iqbal']\n",
        "# Printing personal invitation to all my guest\n",
        "print(\"I miss you so much \"+invitee_name[0].title()+\", I would to love to invite you for a dinner.\")\n",
        "print(\"I want to learn a lot from you 'sir.\"+invitee_name[1].title()+\"', I am pleased to ivite you for a dinner.\")\n",
        "print(\"It's an honour to invite you for a dinner 'sir.\"+invitee_name[2].title()+\"'\")\n",
        "# Printing message for not making it to dinner\n",
        "print(\"'sir.Quaid has said he won't be able make it to my dinner.' \")\n",
        "# Change of name in list\n",
        "invitee_name[1]=\"Mahatma Gandhi\"\n",
        "# New guest list\n",
        "print(\"New Guest list:\")\n",
        "print(invitee_name)\n",
        "# Printing new invitation for each\n",
        "print(\"I miss you so much \"+invitee_name[0].title()+\", I would to love to invite you for a dinner.\")\n",
        "print(\"I want to learn a lot from you 'sir.\"+invitee_name[1].title()+\"', I am pleased to ivite you for a dinner.\")\n",
        "print(\"I have a lot of respect for you 'sir.\"+invitee_name[2].title()+\"', so I would like to invite you for a dinner\")"
      ]
    }
  ]
}