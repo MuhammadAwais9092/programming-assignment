{
  "nbformat": 4,
  "nbformat_minor": 0,
  "metadata": {
    "colab": {
      "provenance": [],
      "authorship_tag": "ABX9TyMuPtYgsDX7wjVxZEl+WAuR",
      "include_colab_link": true
    },
    "kernelspec": {
      "name": "python3",
      "display_name": "Python 3"
    },
    "language_info": {
      "name": "python"
    }
  },
  "cells": [
    {
      "cell_type": "markdown",
      "metadata": {
        "id": "view-in-github",
        "colab_type": "text"
      },
      "source": [
        "<a href=\"https://colab.research.google.com/github/MuhammadAwais9092/programming-assignment/blob/main/Chapter%203-%20Data%20Structures/Exercises/Exercise%207%22seeing%20the%20world%22%20Untitled29.ipynb\" target=\"_parent\"><img src=\"https://colab.research.google.com/assets/colab-badge.svg\" alt=\"Open In Colab\"/></a>"
      ]
    },
    {
      "cell_type": "code",
      "execution_count": 30,
      "metadata": {
        "colab": {
          "base_uri": "https://localhost:8080/"
        },
        "id": "7OCvH-YZ-UCd",
        "outputId": "1500ee16-773c-4037-d301-df5d7b45a4fb"
      },
      "outputs": [
        {
          "output_type": "stream",
          "name": "stdout",
          "text": [
            "['Hawaii', 'Greenland', 'Vietnam', 'Australia', 'Murree']\n",
            "['Australia', 'Greenland', 'Hawaii', 'Murree', 'Vietnam']\n",
            "['Hawaii', 'Greenland', 'Vietnam', 'Australia', 'Murree']\n",
            "['Vietnam', 'Murree', 'Hawaii', 'Greenland', 'Australia']\n",
            "['Hawaii', 'Greenland', 'Vietnam', 'Australia', 'Murree']\n",
            "['Murree', 'Australia', 'Vietnam', 'Greenland', 'Hawaii']\n",
            "['Hawaii', 'Greenland', 'Vietnam', 'Australia', 'Murree']\n",
            "['Australia', 'Greenland', 'Hawaii', 'Murree', 'Vietnam']\n"
          ]
        },
        {
          "output_type": "execute_result",
          "data": {
            "text/plain": [
              "['Vietnam', 'Murree', 'Hawaii', 'Greenland', 'Australia']"
            ]
          },
          "metadata": {},
          "execution_count": 30
        }
      ],
      "source": [
        "# Chapter 3 exercise 7 \"seeing the world\"\n",
        "# list of places I would like to visit\n",
        "places=['Hawaii','Greenland','Vietnam','Australia','Murree']\n",
        "print(places)\n",
        "#Using sorted() to print your list in alphabetical order without modifying the actual list.\n",
        "alphabetical_order=sorted(places)\n",
        "print(alphabetical_order)\n",
        "print(places)\n",
        "#Use sorted() to print your list in reverse alphabetical order without changing the order of the original list.\n",
        "reverse=sorted(places,reverse=True)\n",
        "print(reverse)\n",
        "print(places)  \n",
        "# Using reverse() to change the order of your list. \n",
        "places.reverse()  \n",
        "print(places)\n",
        "# Use reverse() to change the order of your list again. \n",
        "places.reverse()  \n",
        "print(places)\n",
        "# Use sort() to change your list so it’s stored in alphabetical order. \n",
        "places.sort()\n",
        "print(places)\n",
        "# Using sorted() to change your list so it’s stored in reverse alphabetical order.\n",
        "sorted(places,reverse=True)\n"
      ]
    }
  ]
}